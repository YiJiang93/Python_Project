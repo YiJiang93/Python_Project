{
 "cells": [
  {
   "cell_type": "markdown",
   "metadata": {},
   "source": [
    "#Case Study 3 : Data Science Hackathon on Yelp Data\n",
    "** Due Date: November 11, before the class**\n",
    "<a href=\"http://www.thesocialnetwork-movie.com/\"> <img src=\"http://www.eldia.es/blogs/bitacora/wp-content/uploads/2012/09/social-network-window.jpeg\" width=\"500px\"> </a>\n",
    "\n",
    "\n",
    "*------------"
   ]
  },
  {
   "cell_type": "markdown",
   "metadata": {},
   "source": [
    "In this project, your goal is to design a better service/solution for Yelp.\n",
    "* Your team needs to decide which businese problem is important for the customers/businese entities in Yelp website.\n",
    "* Then design a data science approach to improve one of the current services of Yelp or design a new service for Yelp.\n",
    "* The solution should include all the three components of data science: 1) the businese part to analyze the potential impact of your new/improved service; 2) the mathimatical part to formulate the problem and develop math solution; 3) the programming part to collect the data, implement the math solution, and optionally launch the prototype service demo.\n"
   ]
  },
  {
   "cell_type": "markdown",
   "metadata": {},
   "source": [
    "# Background about Data Hackathon and Yelp Data"
   ]
  },
  {
   "cell_type": "code",
   "execution_count": 3,
   "metadata": {
    "collapsed": false
   },
   "outputs": [
    {
     "data": {
      "text/html": [
       "\n",
       "        <iframe\n",
       "            width=\"400\"\n",
       "            height=300\"\n",
       "            src=\"https://www.youtube.com/embed/bLsM1z8lX_A\"\n",
       "            frameborder=\"0\"\n",
       "            allowfullscreen\n",
       "        ></iframe>\n",
       "        "
      ],
      "text/plain": [
       "<IPython.lib.display.YouTubeVideo at 0x102747f90>"
      ]
     },
     "execution_count": 3,
     "metadata": {},
     "output_type": "execute_result"
    }
   ],
   "source": [
    "from IPython.display import YouTubeVideo\n",
    "YouTubeVideo(\"bLsM1z8lX_A\") "
   ]
  },
  {
   "cell_type": "code",
   "execution_count": 4,
   "metadata": {
    "collapsed": false
   },
   "outputs": [
    {
     "data": {
      "text/html": [
       "\n",
       "        <iframe\n",
       "            width=\"400\"\n",
       "            height=300\"\n",
       "            src=\"https://www.youtube.com/embed/fAvW27iEwS4\"\n",
       "            frameborder=\"0\"\n",
       "            allowfullscreen\n",
       "        ></iframe>\n",
       "        "
      ],
      "text/plain": [
       "<IPython.lib.display.YouTubeVideo at 0x102747410>"
      ]
     },
     "execution_count": 4,
     "metadata": {},
     "output_type": "execute_result"
    }
   ],
   "source": [
    "YouTubeVideo(\"fAvW27iEwS4\")\n"
   ]
  },
  {
   "cell_type": "markdown",
   "metadata": {},
   "source": [
    "\n",
    "**Optional Readings:** \n",
    "* Yelp API: https://www.yelp.com/developers/documentation/v2/search_api\n",
    "* Python with Yelp API: http://letstalkdata.com/2014/02/how-to-use-the-yelp-api-in-python/\n",
    "* Yelp API Python code sample: https://github.com/Yelp/yelp-api/tree/master/v2/python\n",
    "* Text data analysis: http://scikit-learn.org/stable/tutorial/text_analytics/working_with_text_data.html\n",
    "\n",
    "\n",
    "** Python libraries you may want to use:**\n",
    "* Scikit-learn (http://scikit-learn.org): machine learning tools in Python.\n",
    "\n",
    "** NOTE **\n",
    "* Please don't forget to save the notebook frequently when working in IPython Notebook, otherwise the changes you made can be lost.\n",
    "\n",
    "*----------------------"
   ]
  },
  {
   "cell_type": "markdown",
   "metadata": {},
   "source": [
    "#Problem 1: the Businese Problem (10 points)\n",
    " As a group, learn about the Yelp website and research about the current services of Yelp: such as  search/ranking of business entities, user ratings, location-based search, and so on.\n",
    " Pick one of the current services for further consideration, or design a new service for Yelp which you believe to be important for Yelp. \n",
    "Define precisely in the report and briefly in the cells below, what is the businese problem that your team wants to solve.\n",
    "Why the problem is important to solve? \n",
    "Why you believe you could provide a better solution with data science.\n",
    "\n",
    "For example, a businese problem I may choose is: how to provide a better search service (i.e., a better ranking of the businese entities) on Yelp, so that users can search Yelp and get better ranking results of the different businese entities."
   ]
  },
  {
   "cell_type": "markdown",
   "metadata": {},
   "source": [
    "**Please describe here *briefly*  (please edit this cell)**\n",
    "\n",
    "1) Your business problem to solve:\n",
    "\n",
    "We are looking to solve the problem taking into consideration\n",
    "- Business Entity\n",
    "- User experience\n",
    "- Yelp Impact\n",
    "\n",
    "A new \"Trending\" service on the yelp can provide a substantial impact on all these three. The complete elaboration of the solution is below.\n",
    "\n",
    "2) Why the problem is important to solve? \n",
    "\n",
    "Present Scenario - A new entrant in the market finds it really difficult to crack it's way into the list of top 10 or 20. So, its presence on yelp is greatly affected and a new business has got minimum visibility on the yelp website. On the user side, there is no section which showcases the new & trending places in their city.\n",
    "\n",
    "Solution - By adding a trending feature we are trying to encourage new business entities from various categories to enter the limelight of Yelp website. Also, users who see the same list of top restaurants get to view new and upcoming venues where they can try out and it can get them excited about new places. Finally, on the yelp side of business, it encourages new market entrants to join them and enhance its portfolio by getting the latest market trends or buzzing places and more user presence.\n",
    "\n",
    "\n",
    "3) How could you provide a better solution with data science.\n",
    "\n",
    "Data Science can read through all the reviews, business ids, location, categories, etc. There is a huge volume of data (1.6 GB in Yelp Challenge Dataset) that if trying to do manual will take year to find and formulate a result or test a given hypothesis.\n",
    "\n",
    "Using Data Science tools & techniques we can filter the data, apply mathematical models, filter the unwanted and come out with a clean & sorted outcomes. Also, we can compare and try various approaches to solve our problems in very less amount of time.\n",
    "\n",
    "\n",
    "\n",
    "\n"
   ]
  },
  {
   "cell_type": "markdown",
   "metadata": {},
   "source": [
    "#Problem 2: Data Collection and Cleaning (10 points)"
   ]
  },
  {
   "cell_type": "markdown",
   "metadata": {},
   "source": [
    "* Your team should decide where and how to collect a set of data online that is relevant to the businese question you chose in Problem 1. \n",
    "* One example is that you could download the Yelp Dataset from  http://www.yelp.com/dataset_challenge (Click \"Get the Data\", and register to get data). NOTE: the whole dataset can be too big for your computer. You may not need to use all the data records. \n",
    "* Another example is to use Yelp API (https://www.yelp.com/developers/documentation/v2/search_api) and write Python code to collect relevant data, just like what we did in Case study 1 with Twitter API."
   ]
  },
  {
   "cell_type": "code",
   "execution_count": 1,
   "metadata": {
    "collapsed": false
   },
   "outputs": [],
   "source": [
    "import json\n",
    "\n",
    "path = \"yelp_dataset_challenge_academic_dataset/yelp_academic_dataset_business.json\"\n",
    "handle = open(path)\n",
    "\n",
    "business = [ json.loads(line) for line in handle]"
   ]
  },
  {
   "cell_type": "code",
   "execution_count": 2,
   "metadata": {
    "collapsed": false
   },
   "outputs": [
    {
     "data": {
      "text/plain": [
       "True"
      ]
     },
     "execution_count": 2,
     "metadata": {},
     "output_type": "execute_result"
    }
   ],
   "source": [
    "'Pizza' in [i for i in business if i['business_id'] == 'x5Mv61CnZLohZWxfCVCPTQ'][0]['categories']"
   ]
  },
  {
   "cell_type": "code",
   "execution_count": 3,
   "metadata": {
    "collapsed": true
   },
   "outputs": [],
   "source": [
    "business_phx = [ i for i in business if i['city'] == 'Phoenix' and 'Pizza' in i['categories']]"
   ]
  },
  {
   "cell_type": "code",
   "execution_count": 4,
   "metadata": {
    "collapsed": false
   },
   "outputs": [
    {
     "data": {
      "text/plain": [
       "{u'-AAig9FG0s8gYE4f8GfowQ': [u'Pane Bianco'],\n",
       " u'-KZA7UoULw_pM3jBBUzb8A': [u'Sardellas Pizza and Wings'],\n",
       " u'-S7aL8dVIiXjCdbTZVn8uA': [u'Manhattan Pizzeria and Subshop'],\n",
       " u'-f5EhKQb7jPtDl1eYDwV0w': [u\"Domino's Pizza\"],\n",
       " u'-yzl8Zm-MmSqx31VN7vB0Q': [u\"Corleone's\"],\n",
       " u'08In-bFs8JOmSTDlQ0BfFw': [u\"Chuck E Cheese's Pizza\"],\n",
       " u'0BXtWaDWN6Lh7T8mbbZniw': [u'Pizza & Krispy Krunchy Chicken'],\n",
       " u'0gQrhOYWdO0XVZEKtOrvaA': [u'Red Devil'],\n",
       " u'0ieEqGInYunNBaBzg8j_WQ': [u'Slices'],\n",
       " u'0vb_YDCtZo0Yk9zHF7rzSA': [u'Pizza Hut'],\n",
       " u'1-40wS09HcJnJIKRVWRL6g': [u'Pizza Patron'],\n",
       " u'1_JEa6MI0xl_wlY4gqMHqw': [u'Giant Rustic Pizza'],\n",
       " u'2J1DtN7FjGICQcgRei3jKA': [u'Peter Piper Pizza'],\n",
       " u'2OZtiGEvLfAjfhC18m9Djw': [u'Nypd Pizza'],\n",
       " u'2VpSPb8IVXNqyVY5n7caGg': [u'ASAP California Pizza Kitchen'],\n",
       " u'2bFBzziB3_yTGYcUerd9nw': [u'Pizza Hut'],\n",
       " u'38G8LPiqECn_P6LQfUnfZA': [u'Ristorante Paesano'],\n",
       " u'3Df6ICj0rHROVH4xUlb7Yw': [u\"Papa John's Pizza\"],\n",
       " u'3E2j2avZJjNKCeWZIGZYTw': [u\"Domino's Pizza\"],\n",
       " u'3FhHnU7Mq8KcyWiWKH0RzA': [u'Streets of New York'],\n",
       " u'3Gsex5Dyhnoul9l_914MGQ': [u'Rays Pizza'],\n",
       " u'3Y4Bd9eWVMsgejx2bP3MVw': [u'Spasso Pizza & Mozzarella Bar'],\n",
       " u'3ed5LXW0Tqdhxdl8V6NPvw': [u'Streets of New York'],\n",
       " u'3uGE4jy0FQJ4miKr4PycjA': [u\"Oscar's Pizza\"],\n",
       " u'3yMneVFhBePIBtCGdboc7Q': [u\"Sardella's Pizza & Wings\"],\n",
       " u'4SEaQmnUIpqZXPyCmHZc1A': [u'Nook'],\n",
       " u'4Ur1TXCPMgicKaYlmw24ow': [u'Saffron JAK Original Stonebread Pizzas'],\n",
       " u'4Vai2JNI48yffzQ7CMezBA': [u'Villa Deli'],\n",
       " u'4ocBzpAkIrqXvz1Q6Hysjg': [u'Little Caesars Pizza'],\n",
       " u'4sE8irsM-l6Y-Npodmx9kA': [u'Pizza Hut'],\n",
       " u'4sW8Z6NLXLRkruSKSKUEUw': [u'Hob Nobs Cafe & Spirits'],\n",
       " u'4zitC1IPRLvHfQVinRSKew': [u\"Johnnie's Chicago Style Pizza\"],\n",
       " u'51vtDjP79vBjaI5dbkPoPw': [u'Grand Avenue Pizza Company'],\n",
       " u'5ErKAS0rHOfU33CYjDh2Aw': [u'Pizza by Napoli'],\n",
       " u'5bzUWGZO13J1PsYCK14sCg': [u\"Sardella's Pizza & Wings\"],\n",
       " u'6TIaz7MG6qjX6ZaQe9cG2w': [u'FIRED PIE'],\n",
       " u'6Zi7nEX_nxuUvzmfWJYMlQ': [u\"Barro's Pizza\"],\n",
       " u'6iFV7W1VltCR6QLzUuTxew': [u'Jimmy And Joes Pizzaria'],\n",
       " u'6imLt53br7SJ3av07jjH7w': [u\"Hanny's\"],\n",
       " u'77pQVPhksTpz-Yz8v4bK_A': [u'Forge Pizza'],\n",
       " u'7SO_rX1F6rQEl-5s3wZxgQ': [u'La Grande Orange Pizzeria'],\n",
       " u'7tTK3VPlFtBGBHm8-LZIUg': [u'Timo Wine Bar'],\n",
       " u'83nWnjqWcvJCQ49IHwNh1Q': [u'New York Pizza Dept.'],\n",
       " u'84FqEj70SuGW22I2l6SxdQ': [u\"Ray's Pizza\"],\n",
       " u'8IKkVbylBYRruaYjFPXqtg': [u'Peter Piper Pizza'],\n",
       " u'8Jg4S5r79dh0l3rIbpVBcg': [u'Mellow Mushroom'],\n",
       " u'8NoAiZz7Cv0NO57pbpT05w': [u\"Little Caesar's\"],\n",
       " u'93fEJZYc3B-jOMaXce7G5A': [u'Fired Pie'],\n",
       " u'9Nb0OOBSMbJ76hngCYjKuw': [u'Downtown Pizza Lounge'],\n",
       " u'9beCQ1vPk4cFSJp8Sb5-8Q': [u'Cafepino'],\n",
       " u'9c8Q6sAWAL1MCRzJ7INQkg': [u'Villa Italia Ristoranti'],\n",
       " u'9wj2RkmuCHLG1pxy7-JXFA': [u\"Papa Murphy's\"],\n",
       " u'APzio4blbje5mhMGJqP8Ew': [u\"Celas's Pizza\"],\n",
       " u'AXok1a8w0gNhdrWZ7L633g': [u'Mellow Mushroom'],\n",
       " u'BJLoCsSp2TkHeTv00fJTVQ': [u'Pizza Hut'],\n",
       " u'BMjggIgOghBMEXPo8q7q3w': [u'LaBella Pizzeria and Restaurant'],\n",
       " u'BPi1Q5wX0_o5VlO_XRyYuQ': [u'Pizzeria Bianco'],\n",
       " u'C6lM880c3gEdk_9ZjtKYWA': [u\"Sam's Chicago Style Pizza & Wings\"],\n",
       " u'CDY7AE5HWBy0TJXCakqLBQ': [u\"Barro's Pizza\"],\n",
       " u'CSoURupWEyuyzkjMOExKPg': [u'North Italia'],\n",
       " u'Ch_2Ye0w4Q9l3VeVW7VNHA': [u'Market Bistro'],\n",
       " u'Cse5FvYuACIxljwaac2SZg': [u'Cave & Ives'],\n",
       " u'CvJNcUtmNubDF8UmuduNXg': [u'Peter Piper Pizza'],\n",
       " u'D7d-X4fLvVIdsCDFGpqzmg': [u'My Pie'],\n",
       " u'D91dby6NHj13Cp7cDIj4TQ': [u\"Grandpa's Pizza\"],\n",
       " u'DHk8is9rvfnATsW1AudWQg': [u'Santisi Brothers'],\n",
       " u'DT88phJNnT7Xw_yEm1z_ew': [u\"Barro's Pizza\"],\n",
       " u'E0Gi93pSbrJVnQcV8JE8RQ': [u'Red Tomato'],\n",
       " u'EQTdq1SJuU6bjC3myEfDWg': [u\"Barro's Pizza\"],\n",
       " u'FHA2j4ESBkgGe3NvOql4qQ': [u\"Barro's Pizza\"],\n",
       " u'FRiT2RI6Y1nds1jjZqvnXQ': [u'Sauce - Pizza & Wine'],\n",
       " u'FZbOTO_WU10O3YEi60kahw': [u\"Famous Ray's Pizza\"],\n",
       " u'Fa-zUFfIMIke1QLeeWT_6g': [u'Tony Pizzeria Italian Restaurant'],\n",
       " u'Fb5ZL4VkO2Yfx-bNJexAkg': [u\"Oregano's Pizza Bistro\"],\n",
       " u'GQck1WKEOYjgQReVLeCTHQ': [u\"Papa John's Pizza\"],\n",
       " u'GXaNshYhaCehi-y1brddMA': [u'Cardinal Pizza'],\n",
       " u'GvwDppcJLm9lso9iS2hSIw': [u\"Pat's Pizza Plus\"],\n",
       " u'GySv0bydiTOkP5yj1YQImA': [u'The Best Ever Subs and More'],\n",
       " u'HAMKYsgtJ6fEBUZzTMhZwA': [u\"Barro's Pizza\"],\n",
       " u'HghAgkxoEpUNZNQbAY485A': [u\"Chuck E Cheese's\"],\n",
       " u'HrTRDuWUikpCsrVSgRVKgA': [u'Peter Piper Pizza'],\n",
       " u'If2DUhmWIvlu2JFc_rR-Bw': [u\"Papa Christo's\"],\n",
       " u'ImVx220_Pcp2iB5uworODw': [u\"Vincent's\"],\n",
       " u'IuYs9ys6bwhK-s2_sUKsbQ': [u\"CiCi's Pizza\"],\n",
       " u'JN2qXIuDXnV2d8WnSqd28A': [u'Streets of New York'],\n",
       " u'JRb-IC8MS-2rAsveFAE9CQ': [u\"Domino's Pizza\"],\n",
       " u'JUe_TAe9T9MZXutb5fblDg': [u\"Papa John's Pizza\"],\n",
       " u'KbN836a966ec6tEI0-wh7A': [u\"Hungry Howie's\"],\n",
       " u'KoMjD6HgdR_lnFxbTOwZdA': [u'Pizza Italia'],\n",
       " u'LFD2IAZUmtPIddFJDcBkYw': [u'New York Pizza Department'],\n",
       " u'LGkmUbymiNBzX99MxVAV4g': [u\"Rosati's Pizza\"],\n",
       " u'LSoRoX3DDsX8YgqTQpQuTQ': [u'Pizza Hut'],\n",
       " u'LYcw5qaBPhfrXhdDLadU4A': [u'NYPD Pizza'],\n",
       " u'Lbue8gqRiBPEnA7g7H1qdw': [u'Humble Pie'],\n",
       " u'LsKF7GFQ0j5U1jLMwq0_hQ': [u'Oven and Vine'],\n",
       " u'M0UqoJlAUzKx6dW2CT8d8w': [u\"Tony's Pizzeria\"],\n",
       " u'M4KIUu3-lAvD1xeWue7_OA': [u\"Jerry Tucci's Brick Oven Pizzeria\"],\n",
       " u'MEraJIKYztC7IOzYwMe86g': [u\"Raimondo's\"],\n",
       " u'ML1RJdeZ7bbfMrHvJ7m99A': [u\"Oregano's Pizza Bistro\"],\n",
       " u'MPmSoEd46WXqhN-5rw7Yqw': [u'Amante Pizza and Pasta'],\n",
       " u'M_Aocl2RmEMCt-oO_wB1zA': [u\"Papa John's Pizza\"],\n",
       " u'MoMu4FypeaSR27G0qFIc6g': [u\"Isa's Pizza\"],\n",
       " u'NTgVdfRLbU0aKJH_9h3VCw': [u\"Gino's Pizza\"],\n",
       " u'N_n2jyCfpon3NzKERYT02Q': [u'Pizza People Food Truck'],\n",
       " u'O4E5IXT6zVJ3VpbYHqxRug': [u'Pizza Mia'],\n",
       " u'OkrQmezVphjEnYQg7ngAbA': [u'Pizza Patron'],\n",
       " u'PEHJjxdw11TGFma9Zhz3ng': [u'Red Devil'],\n",
       " u'PEh1J_B0UBi6HzonIpgfjw': [u'Funky Food Shack'],\n",
       " u'PYqGWEWUH6x-BO-lIS2hPw': [u\"Hungry Howie's Pizza\"],\n",
       " u'Paxv-eS5fc5AkABCkdX1pA': [u\"Gus's New York Pizza & Bar\"],\n",
       " u'PbF6lGbnilFg7NECHcf6Tw': [u'Cleopatra Bistro Pizza'],\n",
       " u'Pg8OPh1D2ws0xO-I-8ppoA': [u'Upper Crust Pizza'],\n",
       " u'Q2dEL_fB-0A0dT8Vb0WhjQ': [u'Pizza Hut'],\n",
       " u'QHpuQ71mZ_htBIt6QZSJww': [u'Valley Pizza Downtown'],\n",
       " u'QHyqYUZ0WdxHYPAenIuLjw': [u\"Rosati's Pizza\"],\n",
       " u'QSCeI8HdUluG-YmbDWo-fw': [u'Streets of New York'],\n",
       " u'QdYrBxT8OV8qd7aENoBlsg': [u\"Isa's Pizza\"],\n",
       " u'QiBNnRkMZ5chmo_9eOzv5A': [u\"Picazzo's Organic Italian Kitchen\"],\n",
       " u'QkyN2vqQidQhotvOtPIrkw': [u'Humble Pie'],\n",
       " u'R2FuwuSjmyvzNWNfqzKUvw': [u'Sauce'],\n",
       " u'R7SVavAsjzN3wy825PiOEg': [u\"Papa John's Pizza\"],\n",
       " u'RGDyf8-PyzyS9Lzs9bkvgA': [u'Babbo Italian Eatery'],\n",
       " u'RYZ08XAToBaN-bS5HHVEhQ': [u'Nellos Pizza'],\n",
       " u'RiSCxwndylgzfMc3whD0sg': [u'Little Caesars Pizza'],\n",
       " u'S4QCUx-ldX7mEew9n38eWQ': [u\"Papa John's Pizza\"],\n",
       " u'SAEr_2rJLNFr3aPv0DlSWg': [u'zpizza'],\n",
       " u'SMj1ftwAchnNfGle-IuNqQ': [u\"Papa John's Pizza\"],\n",
       " u'SV4c043_aTMxE29XjMoiqw': [u'Il Primo Pizza & Wings'],\n",
       " u'SeqfJOg6jZGx2W1bs142cg': [u\"Papa John's Pizza\"],\n",
       " u'Shl6PtJERnowSJSC4IHbYQ': [u'zpizza'],\n",
       " u'T5HYqRADhAL6VPRAacz74Q': [u\"Niccoli's Deli & Pizza\"],\n",
       " u'TLNP-IQrHw1PGu3w_qbhuA': [u\"Zella's Pizza And Cheesesteaks\"],\n",
       " u'TqHTtjPANCBKGsjGBjDoQQ': [u'NYPD Pizza'],\n",
       " u'TrUlUCfoa1L034YKEermnQ': [u\"Schlotzsky's\"],\n",
       " u'TsSYd4Sv3RxMIDhD-gF5dw': [u\"Papa John's Pizza\"],\n",
       " u'U_CvxSM9epIi8u5A0jOUVw': [u\"Barro's Pizza\"],\n",
       " u'Ueq8gcirb2rSAUfTlrgXZA': [u'Two Hippies Dropped Out of College and Opened a Pizzeria'],\n",
       " u'UpYva_zhJ6pRGfdTruIYIg': [u'California Pizza Kitchen'],\n",
       " u'UtmsxhLHB4lYSN_NxKW3XA': [u\"Papa John's Pizza\"],\n",
       " u'V1nEpIRmEa1768oj_tuxeQ': [u'Cibo'],\n",
       " u'V3lQtk1LgwAEcF9j-BzchA': [u\"Famous Ray's Pizza\"],\n",
       " u'VCCOmfNKYif3GA0YwsnoVg': [u\"Rosati's Pizza\"],\n",
       " u'VImQLS1lPys8n-EqYVyhMQ': [u'Two Hippies Pizzeria and More'],\n",
       " u'VVeogjZya58oiTxK7qUjAQ': [u'Pizzeria Bianco'],\n",
       " u'VWcaFOSFcDwmFquycBzFyQ': [u\"Frank's Pizza & Wings\"],\n",
       " u'VY_tvNUCCXGXQeSvJl757Q': [u'Mellow Mushroom'],\n",
       " u'VapdXuC8X-Q3T_wgA6yCAg': [u'Pizza People Pub'],\n",
       " u'Vb9FPCEL6Ly24PNxLBaAFw': [u'Z Pizza'],\n",
       " u'VxVAiFfnw8mxXEdW7_MHgg': [u'The Ol Pizzeria & Cafe'],\n",
       " u'W8h4bpdBGDIncWRLGxdjHA': [u\"Chester's Chicken\"],\n",
       " u'WBDFE5PtCeL6x2YQRskZnA': [u'Pizza Hut'],\n",
       " u'WJC8HctIbxatLbcuez1UOQ': [u\"Domino's Pizza\"],\n",
       " u'WiRBzwdzVMDp6JRjWRNaqA': [u'Fired Pie'],\n",
       " u'WxZ7lWnN_AJCa8-Vd1A7ZQ': [u'Z Pizza'],\n",
       " u'XfVGU6WGZKc867spn2TImw': [u'Pomo Pizzeria Napoletana - Phoenix'],\n",
       " u'XkNQVTkCEzBrq7OlRHI11Q': [u'Pizza a Metro'],\n",
       " u'YBVQik4ySvAlvxobuFcXDA': [u'Streets of New York'],\n",
       " u'Yd4nWyfQWVqn_IjBcYqveg': [u'Little Caesars Pizza'],\n",
       " u'Yhe351NgKDMnLZzIp9_A-Q': [u'Red Brick Pizza'],\n",
       " u'YldXB1hRpnE1CWLF3mvgpQ': [u\"Spinato's Pizza\"],\n",
       " u'YrUSzn3mh5croAXg9zKMGA': [u'Peter Piper Pizza'],\n",
       " u'YxT-QYCAfg_jaS0g6Xx0Bw': [u'Cafe Roma'],\n",
       " u'Yy9hqcM4V-0Rp2bIQoR4HA': [u\"Papa John's Pizza\"],\n",
       " u'ZAgPh4v-oOb1g6cdlkKI0g': [u'Phoenix House Of Pizza And Subs'],\n",
       " u'ZN9aiuiCPAXWHmV_hB3KXw': [u\"Domino's Pizza\"],\n",
       " u'ZRJwVLyzEJq1VAihDhYiow': [u\"Spinato's Pizzeria\"],\n",
       " u'Zruvunhqw7cuyuoe7g09Gw': [u\"Picazzo's Organic Italian Kitchen\"],\n",
       " u'_3Hpnxe1sJ6GOLpSRkgWyQ': [u'Hungry Howies'],\n",
       " u'_ISHH8x8Qe6IoVTQWegbpQ': [u'Round Table Pizza'],\n",
       " u'_eymim7Di9WjVOxT4OSnjg': [u'Pizza Studio'],\n",
       " u'_io-CVnCgHyt0vpTCrP13A': [u\"Brother's Pizza\"],\n",
       " u'_zksiS8qbYcn9GMi6kqhoA': [u\"Little Caesar's Pizza\"],\n",
       " u'aX8xuj7PWFGVqyBN06ysQw': [u'Fired Pie'],\n",
       " u'aastrx4llH7kBL97DWfsXA': [u\"Jimmy & Joe's Pizzeria\"],\n",
       " u'auorqdHiATGZHVd-sd79ZQ': [u'Pizza Heaven Bistro'],\n",
       " u'avPNEqlXgyBvTXjb-ujQFA': [u'Pizza Hut'],\n",
       " u'b1aTHVkqCa4kZITbu9khtA': [u\"Harley's Italian Bistro\"],\n",
       " u'b3UDdzVGS7iGeP378k9QTw': [u'Pizza Patron'],\n",
       " u'bBbzOAtmmgdou5lCFEKr9w': [u\"CiCi's Pizza\"],\n",
       " u'bDSqqGGzbglvJ0HkIW5j4Q': [u'Miami Cafe'],\n",
       " u'bLbZRs9Kcy1aXsdRWYJIgg': [u'Pizza Hut'],\n",
       " u'bPVotyFvP_FNSIr4R8evcw': [u\"Zzeek's Pizza Factory\"],\n",
       " u'bjUH-01t834CVg0Yl0CLWQ': [u'My Big Fat Greek Restaurant'],\n",
       " u'btyUDDEtkdTIaVXSIsqJKg': [u'Humble Pie'],\n",
       " u'cIAd1K3INw6se9MX7Usi7A': [u\"Corleone's\"],\n",
       " u'cN4gmlntyQ-maTW4PdT-Kw': [u'Streets of New York'],\n",
       " u'cmtEIXBh4OopFgRrd9tomw': [u'Pizza Hut'],\n",
       " u'dG7KLQ1a584wI5jSADIPIg': [u'Florencia Pizza Bistro'],\n",
       " u'dKtbrGgg5fbl8MibhilP2A': [u'La Grande Orange'],\n",
       " u'dPg69r5nLzEmug0OvNfkmQ': [u\"Domino's Pizza\"],\n",
       " u'e34tIpveepWkpvOuv_boqw': [u'Centurion'],\n",
       " u'e5wUjoLeC7Frayp-jWzjkg': [u'Super Pizza Bros.'],\n",
       " u'eFA9dqXT5EA_TrMgbo03QQ': [u'Crust Pizzeria & Ristorante'],\n",
       " u'eOPxvbzFTBjO5LSV3uYMug': [u\"Chuck E Cheese's Pizza\"],\n",
       " u'eSKM83PlRBUAZ0fsYvYuLg': [u'Little Caesars'],\n",
       " u'egewu6VzoA8uNG7IPmzmdA': [u'Presto Pizza & Wings'],\n",
       " u'ekHwmWNXW6etO4m1ZPWZ_w': [u'Villa Italian Kitchen'],\n",
       " u'eyHjc5AhDp5mZWGA0QKgAg': [u\"Barro's Pizza\"],\n",
       " u'fKXwK5K5iCAMPHgqVPDhiQ': [u'Papa Murphys'],\n",
       " u'fWjyVcu7IP3hl6u5VG2RQw': [u\"Carmine's Little Italy Pizza & Pasta\"],\n",
       " u'fyy4WNuchHJBa2zH6L8QQw': [u\"Domino's Pizza\"],\n",
       " u'gF5zLXzjQ0hqli5Xn3Pccw': [u'Pizza Hut'],\n",
       " u'gJmBto8IXwSBT4HTcL7cDw': [u'Sano Brick Pizza'],\n",
       " u'gaX1rGPdv9eyPra0cYsYZA': [u\"Domino's Pizza\"],\n",
       " u'gvSB2TlcxAOs_ppZ44iirg': [u'Naked Pizza'],\n",
       " u'hCrgxGV0uilNV_tMHD-1fQ': [u'Pizza Hut'],\n",
       " u'hIe65VALe8rxseYECVj08w': [u'Streets of New York'],\n",
       " u'hQZGxLGcqSWb89ZFhdExjA': [u'Little Caesars'],\n",
       " u'hVDo35_OySCeFWYLFKM7WQ': [u'Palermos Pizza'],\n",
       " u'hgb1RihLYRSpFBjBhn8rZw': [u\"Bell' Italia Pizzeria\"],\n",
       " u'i0sMoNwiNAo1--AsZJ3Nlw': [u\"DiVito's Pizzeria And Italian Restaurant\"],\n",
       " u'i213sY5rhkfCO8cD-FPr1A': [u\"BJ's Restaurant & Brewhouse\"],\n",
       " u'iVPjpMOlFlg0N3F31q5i5w': [u'Little Caesars Pizza'],\n",
       " u'igD5We_87JFrtaaR7bh_Xg': [u\"Belfiore's Italian Ristorante\"],\n",
       " u'j0Uc-GuOe-x9_N_IK1KPpA': [u'Slice of Sicily'],\n",
       " u'jAmTqXshpOUy37xd6FG2SQ': [u\"Domino's Pizza\"],\n",
       " u'jHte0SjUldZeDDZ5py0ZhA': [u'Pizza Hut'],\n",
       " u'jMzuQy104M0KU6uhdffsaQ': [u'Streets of New York'],\n",
       " u'jYFhL2RomSSUiRJYWT3mew': [u'Peter Piper Pizza'],\n",
       " u'jyTPJVoN3a9bXoq-HHB9oQ': [u'Palermos Pizza'],\n",
       " u'k8JnZBspVOI8kLcQek-Chw': [u'Mamma Mia Brick Oven Pizza & Pasta'],\n",
       " u'kBxBEAu8lVI9ikESDJk9Kw': [u\"Papa Murphy's\"],\n",
       " u'kUGgkYxXxHDhD6mtpQdUNQ': [u\"Domino's Pizza\"],\n",
       " u'kujMsR1OBOHZ6vZN_QWG_A': [u\"Zella's Pizza & Cheesesteaks\"],\n",
       " u'kxDGexkbP30fBvxVI0CzFQ': [u'Stumpys Pizza'],\n",
       " u'lF1917cvbCzQX7BcUvlooA': [u\"Uncle Tony's Pizza\"],\n",
       " u'lHKS896yFkmAuWyFnbNP3A': [u\"King Solomon's Pizza\"],\n",
       " u'lM3q1N0lpxStCLYMCoqGhw': [u\"Carmella's Italian Kitchen and Bar\"],\n",
       " u'lPtTXn7_VOwqypZs07j2nA': [u'Luna Pizza & Restaurant'],\n",
       " u'lQ22GkzG0tIJRbzkpMbJxw': [u'Pronto Pizza'],\n",
       " u'lf42gtgq_2_jPvjfp_K1nQ': [u\"Uncle Sam's\"],\n",
       " u'lp-J_cO5owuMzGJqdn3PNg': [u'MOD Pizza'],\n",
       " u'lykHOB7mmtC05NzlhyvbpA': [u\"Domino's Pizza\"],\n",
       " u'm0leozN1maqhJdi-VbQusQ': [u'Naked Pizza'],\n",
       " u'm9haUi2_1lHR2eAKBhKwDg': [u'Federal Pizza'],\n",
       " u'mS4Ad7Fo_by-6UHOdcBZIw': [u\"Papa Murphy's\"],\n",
       " u'n-XTO7I2o2h06o-vyjtYfg': [u\"Raffaele's Pizza\"],\n",
       " u'nO7dRhIBsoovZ8DV1LRa_w': [u'A Slice of Bella'],\n",
       " u'nc3IiY5LNdmEwUZCW84yuA': [u'Pizzeria Uno'],\n",
       " u'neEGFNmmKibjExB4_215ZA': [u'Brick'],\n",
       " u'nmo_Kbv1H2eOuXmhB3M6kA': [u'Momenti'],\n",
       " u'nytd8aC5Y9et_iMCuas-vg': [u'Streets of New York'],\n",
       " u'oPpA0LHMWJht4lMFgfYwhA': [u'Pittsburgh Pizza Company'],\n",
       " u'oXUceqbZEAKclrIXE-erYw': [u'Park Central Deli'],\n",
       " u'oa235g5FqDKoyjD_Jwq1CQ': [u'Little Caesars'],\n",
       " u'oc0Wl6ktfMLb5VZ2Uz6M2A': [u'Vincent Market Bistro'],\n",
       " u'oinZM9-d2n5NvGuxvatDWA': [u\"Ray's Pizza\"],\n",
       " u'p1sX2UVxEjPzd92LtP3c4g': [u\"Angie & Jimmie's Italian Pizza\"],\n",
       " u'pF7uRzygyZsltbmVpjIyvw': [u\"Spinato's Pizza\"],\n",
       " u'podj1OWSL3oEJsOpGj8SUw': [u\"Pino's Pizza Al Centro\"],\n",
       " u'ptIRdaZlXxuVJTiJDFJCIw': [u'Brooklyn NYC Pizza'],\n",
       " u'ptU2Fh1WmnaMBOjBxJZRwA': [u'Peter Piper Pizza'],\n",
       " u'pwpl-rxwNRQdgqFz_-qMPg': [u'The Parlor'],\n",
       " u'qFfEUJUIqfIYARCOF9Hgig': [u'La Piazza PHX'],\n",
       " u'qP_IDUD0G_iTZitOypzrzA': [u\"Rosati's Pizza\"],\n",
       " u'ql12LAdBdaqT3-zuRU6QHA': [u'Boka Pizza'],\n",
       " u'qm0a4q481Sa7dugkzqRgjg': [u\"Rosati's Pizza\"],\n",
       " u'qr1u2QOYqR_53oUJQWgftQ': [u\"Papa John's Pizza\"],\n",
       " u'qrIObcWKK3jeC3zfmR54kg': [u'Il Primo Pizza & Wings'],\n",
       " u'r-8wS4RTfRJtWM0DvdaCtQ': [u'Peter Piper Pizza'],\n",
       " u'rFgSvsgo0BWnS03NFgI7Sg': [u'Pizza Fresh'],\n",
       " u'rGHktXbee4CErLsMrPqbrA': [u'Streets of New York'],\n",
       " u'rqKvfrvfsM_TQMv4IP1YVw': [u\"Barro's Pizza\"],\n",
       " u'rrPRCU1m22v02k60YvJNrg': [u\"Domino's Pizza\"],\n",
       " u'rrWhi2TL0smrbihvavZxcg': [u'Times Square Pizzeria'],\n",
       " u'rwT9wCyXNATA36yqcb4JSg': [u\"Big Daddy's Sports Lounge\"],\n",
       " u's5roBvbA79SQaO4FHkJgGw': [u\"My Mother's Restaurant\"],\n",
       " u'sllcxcR9olrF0LQH38lZpQ': [u'Hungry Howies Pizza'],\n",
       " u'ssSeK9MYRCUjoabppekwoA': [u'Focaccia Fiorentina'],\n",
       " u't-uJbFctqW2eGtlAIAI60g': [u\"Gasper's Casual Italian Dining and Pizzeria\"],\n",
       " u'u5o4H8h0sIVhqa8Lcusi5g': [u\"Fatso's Pizza\"],\n",
       " u'uPGcW0cFGc15YiRCz_8taA': [u\"Lucky's Pizza\"],\n",
       " u'uYj2NO1HZRNiD-de_pSdJA': [u'Amano Pizza Bistro'],\n",
       " u'ubfD6-I73lP00v0fkx-keQ': [u'Anzios Italian Restaurant'],\n",
       " u'udmb-UuD3xoueQ55INQFRw': [u\"Rosati's on Arcadia\"],\n",
       " u'ut-kla-EA23nJOij_dcL0Q': [u'California Pizza Kitchen'],\n",
       " u'vEV3p0lqODELUFQ9wzc0NQ': [u\"Domino's Pizza\"],\n",
       " u'vFtMSgQsd3Fwt3U7UJf5dQ': [u'Rkidds Pizza & Wings'],\n",
       " u'vJPehU-xd1p_-L0O7IwTjQ': [u\"Little Caesar's Pizza\"],\n",
       " u'w5XcgWwGAN21Ly2HeU48IQ': [u'Sauce Pizza & WIne'],\n",
       " u'wWIK4pP8eTVRiTQIUQ6O9Q': [u\"Domino's Pizza\"],\n",
       " u'x-YyGmE9tIXAUdg_4Py5KA': [u'Pizza Hut'],\n",
       " u'x5Mv61CnZLohZWxfCVCPTQ': [u\"Domino's Pizza\"],\n",
       " u'xczdDnDIUoVZ2ILT9nEvPA': [u'The Pizza Buffet'],\n",
       " u'xr2szu7jYIWbj4tlKef61w': [u\"Pezzano's Pizza\"],\n",
       " u'yVqOKuUTsHTFbLe0YbJvLw': [u'24th Street Pizza & Gyros'],\n",
       " u'yWcOhjDHRbRTgycfgXHfdw': [u\"Rochelli's Pizza House\"],\n",
       " u'yeLq-452CkaKw1ynn0nRNw': [u'Mamma Mia'],\n",
       " u'z0rbqzkp6JAorvx3rXANYg': [u'Farmhouse Pizza'],\n",
       " u'zAyk-fwDWf69AaTwNT2Ksg': [u\"Ray's Pizza II\"],\n",
       " u'zhzHxzDdJ9eJTj5Eis8YoA': [u\"Domino's Pizza\"],\n",
       " u'zwJX3eetOhpi-gv4-E4rcQ': [u'Pizza Hut'],\n",
       " u'zyvujnBGGpG3WWiDPkil9w': [u\"Spinato's Pizza\"]}"
      ]
     },
     "execution_count": 4,
     "metadata": {},
     "output_type": "execute_result"
    }
   ],
   "source": [
    "id_names = {}\n",
    "for i in business_phx:\n",
    "    id_names[i['business_id']] = [j['name'] for j in business_phx if j['business_id'] == i['business_id']]\n",
    "id_names"
   ]
  },
  {
   "cell_type": "code",
   "execution_count": 5,
   "metadata": {
    "collapsed": false
   },
   "outputs": [],
   "source": [
    "path = \"yelp_dataset_challenge_academic_dataset/yelp_academic_dataset_review.json\"\n",
    "handle = open(path)\n",
    "\n",
    "review = [ json.loads(line) for line in handle]"
   ]
  },
  {
   "cell_type": "code",
   "execution_count": 6,
   "metadata": {
    "collapsed": false
   },
   "outputs": [],
   "source": [
    "business_id = [ i['business_id'] for i in business_phx]\n",
    "review_phx = []\n",
    "for i in review:\n",
    "    if i['business_id'] in business_id:\n",
    "        i['name'] = id_names[i['business_id']][0]\n",
    "        review_phx.append(i)"
   ]
  },
  {
   "cell_type": "code",
   "execution_count": 7,
   "metadata": {
    "collapsed": false
   },
   "outputs": [
    {
     "data": {
      "text/plain": [
       "{u'business_id': u'x5Mv61CnZLohZWxfCVCPTQ',\n",
       " u'date': u'2010-04-02',\n",
       " 'name': u\"Domino's Pizza\",\n",
       " u'review_id': u'4ibY4fPQYM7FBSVPrvrYvg',\n",
       " u'stars': 4,\n",
       " u'text': u\"Not the same Domino's pizza I ate too much of in College. Vastly different and a major improvement! Ordering on-line couldn't be easier, and pizza was made exactly how I ordered. Piping hot, flavorful, better than average crust, nicely blackened in all the right spots, tasty toppings, robust sauce. Friendly delivery by John. Price is fair. Much, much better than Pizza Hut!\",\n",
       " u'type': u'review',\n",
       " u'user_id': u't95D1tnWvAOy2sxXnI3GUA',\n",
       " u'votes': {u'cool': 0, u'funny': 0, u'useful': 0}}"
      ]
     },
     "execution_count": 7,
     "metadata": {},
     "output_type": "execute_result"
    }
   ],
   "source": [
    "review_phx[0]"
   ]
  },
  {
   "cell_type": "code",
   "execution_count": 8,
   "metadata": {
    "collapsed": false
   },
   "outputs": [],
   "source": [
    "with open('review_phx_pizza.json', 'w') as outfile:\n",
    "    json.dump(review_phx, outfile)"
   ]
  },
  {
   "cell_type": "markdown",
   "metadata": {},
   "source": [
    "#Problem 3: Math Problem Formulation and Solution (20 points)"
   ]
  },
  {
   "cell_type": "markdown",
   "metadata": {},
   "source": [
    "Define the businese problem as a math problem and design a math solution to the problem.\n",
    "\n",
    "**For example**, the ranking problem that I chose in Problem 1 can be translated to a math problem of estimating the scores of different businese entities.\n",
    "A math solution could be the <a href=\"https://en.wikipedia.org/wiki/Elo_rating_system\">Elo rating system</a>, which is used in Facemash.com.\n",
    "When\n",
    "The equations are:\n",
    "\n",
    "The expected probability for businese $A$ to win a competition against $B$ can be defined as:\n",
    "$$ E_A = \\frac{1}{1 + 10^{(R_B - R_A)/400} } $$\n",
    "A *competition* can be an event when a customer visited both businese entities (e.g. restaurants), and gives ratings to both entities.\n",
    "Suppose a customer gives two ratings for $A$ and $B$. If his/her rating for $A$ is higher than his/her rating for $B$, we can say $A$ **win**. If lower, **loss**. If the ratings are the same, **tie**.\n",
    "\n",
    "The score of the businese entities can be estimated/updated by \n",
    "$$ R_A' = R_A - K(S_A-E_A)$$\n",
    "\n",
    "**Another example solution** could be using PageRank to rank different reviewers. We can then give different weights on the reviews from different users. We could choose to trust more on the reviews provided by important users (with large PageRank scores). Then instead of ranking the businese entities by simple averaging of the user ratings, we can rank the businese entities by the average ratings **weighted** by users' PageRank scores."
   ]
  },
  {
   "cell_type": "markdown",
   "metadata": {},
   "source": [
    "**Insert your answers here**\n",
    "\n",
    "\n",
    "This \"Trending New\" Problem can be translated to a math problem of estimating the scores of different \n",
    "Pizza Restaurants. There does not to be any available math solutions to this kind of problem, and we plan to do some sort of unsupervised learning.\n",
    "\n",
    "We came up three models in the end. \n",
    "\n",
    "As for model 1, we filtered out all restaurant that opened more than a year ago, and calculate the average ratings of the remaining restaurants during time window for ranking.\n",
    "           \n",
    "\n",
    "As for model 2, we assume that old restaurants' ratings , no matter how high their average rating was, will tend to stay stable in the time window. Promising new restaurants should stand out by a large increase in ratings and volume. Therefore, we propose the second model that measures how much a restaurant has improved in the time window than previous.\n",
    "\n",
    "Lastly, model 3 penalizes old stores to a greater degree as compared to the model 2. In this approach , we took into account all reviews inside the time window, but the final rating is multiplied by a constant factor lambda that is to the power of L, which is Open days divided by the window length.\n",
    "\n",
    "All Three formulas are included in the final group report.\n",
    "\n"
   ]
  },
  {
   "cell_type": "markdown",
   "metadata": {},
   "source": [
    "*------------------------\n",
    "\n",
    "#Problem 4: Implement the Algorithm and Explore the Data  (20 points)\n"
   ]
  },
  {
   "cell_type": "markdown",
   "metadata": {},
   "source": [
    "* Based upon the above math solution, implement the algorithm in python and run the algorithm on your data.\n",
    "* Show the results, using figures or tables\n"
   ]
  },
  {
   "cell_type": "code",
   "execution_count": 9,
   "metadata": {
    "collapsed": true
   },
   "outputs": [],
   "source": [
    "#Rank Method 1\n",
    "# load the data\n",
    "import json\n",
    "business_phx = json.load(open(\"review_phx_pizza.json\"))"
   ]
  },
  {
   "cell_type": "code",
   "execution_count": 10,
   "metadata": {
    "collapsed": false
   },
   "outputs": [
    {
     "data": {
      "text/plain": [
       "{u'business_id': u'x5Mv61CnZLohZWxfCVCPTQ',\n",
       " u'date': u'2010-04-02',\n",
       " u'name': u\"Domino's Pizza\",\n",
       " u'review_id': u'4ibY4fPQYM7FBSVPrvrYvg',\n",
       " u'stars': 4,\n",
       " u'text': u\"Not the same Domino's pizza I ate too much of in College. Vastly different and a major improvement! Ordering on-line couldn't be easier, and pizza was made exactly how I ordered. Piping hot, flavorful, better than average crust, nicely blackened in all the right spots, tasty toppings, robust sauce. Friendly delivery by John. Price is fair. Much, much better than Pizza Hut!\",\n",
       " u'type': u'review',\n",
       " u'user_id': u't95D1tnWvAOy2sxXnI3GUA',\n",
       " u'votes': {u'cool': 0, u'funny': 0, u'useful': 0}}"
      ]
     },
     "execution_count": 10,
     "metadata": {},
     "output_type": "execute_result"
    }
   ],
   "source": [
    "business_phx[0]"
   ]
  },
  {
   "cell_type": "code",
   "execution_count": 11,
   "metadata": {
    "collapsed": true
   },
   "outputs": [],
   "source": [
    "import pandas as pd\n",
    "import numpy as np\n",
    "\n",
    "#extract the attribus needed\n",
    "phx_data = [[i[\"business_id\"], i[\"name\"], i[\"date\"], i[\"stars\"]] for i in business_phx]"
   ]
  },
  {
   "cell_type": "code",
   "execution_count": 12,
   "metadata": {
    "collapsed": false
   },
   "outputs": [
    {
     "data": {
      "text/plain": [
       "[u'x5Mv61CnZLohZWxfCVCPTQ', u\"Domino's Pizza\", u'2010-04-02', 4]"
      ]
     },
     "execution_count": 12,
     "metadata": {},
     "output_type": "execute_result"
    }
   ],
   "source": [
    "phx_data[0]"
   ]
  },
  {
   "cell_type": "code",
   "execution_count": 14,
   "metadata": {
    "collapsed": false
   },
   "outputs": [
    {
     "data": {
      "text/html": [
       "<div>\n",
       "<table border=\"1\" class=\"dataframe\">\n",
       "  <thead>\n",
       "    <tr style=\"text-align: right;\">\n",
       "      <th></th>\n",
       "      <th>business_id</th>\n",
       "      <th>name</th>\n",
       "      <th>date</th>\n",
       "      <th>stars</th>\n",
       "    </tr>\n",
       "  </thead>\n",
       "  <tbody>\n",
       "    <tr>\n",
       "      <th>0</th>\n",
       "      <td>x5Mv61CnZLohZWxfCVCPTQ</td>\n",
       "      <td>Domino's Pizza</td>\n",
       "      <td>2010-04-02</td>\n",
       "      <td>4</td>\n",
       "    </tr>\n",
       "    <tr>\n",
       "      <th>1</th>\n",
       "      <td>x5Mv61CnZLohZWxfCVCPTQ</td>\n",
       "      <td>Domino's Pizza</td>\n",
       "      <td>2010-05-03</td>\n",
       "      <td>4</td>\n",
       "    </tr>\n",
       "    <tr>\n",
       "      <th>2</th>\n",
       "      <td>x5Mv61CnZLohZWxfCVCPTQ</td>\n",
       "      <td>Domino's Pizza</td>\n",
       "      <td>2010-11-02</td>\n",
       "      <td>5</td>\n",
       "    </tr>\n",
       "    <tr>\n",
       "      <th>3</th>\n",
       "      <td>x5Mv61CnZLohZWxfCVCPTQ</td>\n",
       "      <td>Domino's Pizza</td>\n",
       "      <td>2011-06-17</td>\n",
       "      <td>2</td>\n",
       "    </tr>\n",
       "    <tr>\n",
       "      <th>4</th>\n",
       "      <td>x5Mv61CnZLohZWxfCVCPTQ</td>\n",
       "      <td>Domino's Pizza</td>\n",
       "      <td>2012-09-04</td>\n",
       "      <td>3</td>\n",
       "    </tr>\n",
       "  </tbody>\n",
       "</table>\n",
       "</div>"
      ],
      "text/plain": [
       "              business_id            name        date  stars\n",
       "0  x5Mv61CnZLohZWxfCVCPTQ  Domino's Pizza  2010-04-02      4\n",
       "1  x5Mv61CnZLohZWxfCVCPTQ  Domino's Pizza  2010-05-03      4\n",
       "2  x5Mv61CnZLohZWxfCVCPTQ  Domino's Pizza  2010-11-02      5\n",
       "3  x5Mv61CnZLohZWxfCVCPTQ  Domino's Pizza  2011-06-17      2\n",
       "4  x5Mv61CnZLohZWxfCVCPTQ  Domino's Pizza  2012-09-04      3"
      ]
     },
     "execution_count": 14,
     "metadata": {},
     "output_type": "execute_result"
    }
   ],
   "source": [
    "data = pd.DataFrame(phx_data, columns=[\"business_id\", \"name\", \"date\", \"stars\"])\n",
    "data.head()"
   ]
  },
  {
   "cell_type": "code",
   "execution_count": 16,
   "metadata": {
    "collapsed": false
   },
   "outputs": [
    {
     "data": {
      "text/html": [
       "<div>\n",
       "<table border=\"1\" class=\"dataframe\">\n",
       "  <thead>\n",
       "    <tr style=\"text-align: right;\">\n",
       "      <th></th>\n",
       "      <th>business_id</th>\n",
       "      <th>name</th>\n",
       "      <th>date</th>\n",
       "      <th>stars</th>\n",
       "    </tr>\n",
       "  </thead>\n",
       "  <tbody>\n",
       "    <tr>\n",
       "      <th>17180</th>\n",
       "      <td>oc0Wl6ktfMLb5VZ2Uz6M2A</td>\n",
       "      <td>Vincent Market Bistro</td>\n",
       "      <td>2015-01-08</td>\n",
       "      <td>5</td>\n",
       "    </tr>\n",
       "    <tr>\n",
       "      <th>17181</th>\n",
       "      <td>k8JnZBspVOI8kLcQek-Chw</td>\n",
       "      <td>Mamma Mia Brick Oven Pizza &amp; Pasta</td>\n",
       "      <td>2015-01-08</td>\n",
       "      <td>1</td>\n",
       "    </tr>\n",
       "    <tr>\n",
       "      <th>17182</th>\n",
       "      <td>ML1RJdeZ7bbfMrHvJ7m99A</td>\n",
       "      <td>Oregano's Pizza Bistro</td>\n",
       "      <td>2015-01-08</td>\n",
       "      <td>5</td>\n",
       "    </tr>\n",
       "    <tr>\n",
       "      <th>17183</th>\n",
       "      <td>ZRJwVLyzEJq1VAihDhYiow</td>\n",
       "      <td>Spinato's Pizzeria</td>\n",
       "      <td>2015-01-08</td>\n",
       "      <td>5</td>\n",
       "    </tr>\n",
       "    <tr>\n",
       "      <th>17184</th>\n",
       "      <td>QkyN2vqQidQhotvOtPIrkw</td>\n",
       "      <td>Humble Pie</td>\n",
       "      <td>2015-01-08</td>\n",
       "      <td>5</td>\n",
       "    </tr>\n",
       "    <tr>\n",
       "      <th>17185</th>\n",
       "      <td>CSoURupWEyuyzkjMOExKPg</td>\n",
       "      <td>North Italia</td>\n",
       "      <td>2015-01-08</td>\n",
       "      <td>5</td>\n",
       "    </tr>\n",
       "    <tr>\n",
       "      <th>17186</th>\n",
       "      <td>dKtbrGgg5fbl8MibhilP2A</td>\n",
       "      <td>La Grande Orange</td>\n",
       "      <td>2015-01-08</td>\n",
       "      <td>4</td>\n",
       "    </tr>\n",
       "    <tr>\n",
       "      <th>17187</th>\n",
       "      <td>XfVGU6WGZKc867spn2TImw</td>\n",
       "      <td>Pomo Pizzeria Napoletana - Phoenix</td>\n",
       "      <td>2015-01-08</td>\n",
       "      <td>4</td>\n",
       "    </tr>\n",
       "    <tr>\n",
       "      <th>17188</th>\n",
       "      <td>93fEJZYc3B-jOMaXce7G5A</td>\n",
       "      <td>Fired Pie</td>\n",
       "      <td>2015-01-08</td>\n",
       "      <td>2</td>\n",
       "    </tr>\n",
       "    <tr>\n",
       "      <th>17189</th>\n",
       "      <td>1_JEa6MI0xl_wlY4gqMHqw</td>\n",
       "      <td>Giant Rustic Pizza</td>\n",
       "      <td>2015-01-08</td>\n",
       "      <td>3</td>\n",
       "    </tr>\n",
       "  </tbody>\n",
       "</table>\n",
       "</div>"
      ],
      "text/plain": [
       "                  business_id                                name        date  \\\n",
       "17180  oc0Wl6ktfMLb5VZ2Uz6M2A               Vincent Market Bistro  2015-01-08   \n",
       "17181  k8JnZBspVOI8kLcQek-Chw  Mamma Mia Brick Oven Pizza & Pasta  2015-01-08   \n",
       "17182  ML1RJdeZ7bbfMrHvJ7m99A              Oregano's Pizza Bistro  2015-01-08   \n",
       "17183  ZRJwVLyzEJq1VAihDhYiow                  Spinato's Pizzeria  2015-01-08   \n",
       "17184  QkyN2vqQidQhotvOtPIrkw                          Humble Pie  2015-01-08   \n",
       "17185  CSoURupWEyuyzkjMOExKPg                        North Italia  2015-01-08   \n",
       "17186  dKtbrGgg5fbl8MibhilP2A                    La Grande Orange  2015-01-08   \n",
       "17187  XfVGU6WGZKc867spn2TImw  Pomo Pizzeria Napoletana - Phoenix  2015-01-08   \n",
       "17188  93fEJZYc3B-jOMaXce7G5A                           Fired Pie  2015-01-08   \n",
       "17189  1_JEa6MI0xl_wlY4gqMHqw                  Giant Rustic Pizza  2015-01-08   \n",
       "\n",
       "       stars  \n",
       "17180      5  \n",
       "17181      1  \n",
       "17182      5  \n",
       "17183      5  \n",
       "17184      5  \n",
       "17185      5  \n",
       "17186      4  \n",
       "17187      4  \n",
       "17188      2  \n",
       "17189      3  "
      ]
     },
     "execution_count": 16,
     "metadata": {},
     "output_type": "execute_result"
    }
   ],
   "source": [
    "#sort reviews by date\n",
    "data = data.sort([\"date\"], ascending=True)\n",
    "# reassign the index\n",
    "data.index = range(0, len(data))\n",
    "data.tail(10)"
   ]
  },
  {
   "cell_type": "code",
   "execution_count": 17,
   "metadata": {
    "collapsed": true
   },
   "outputs": [],
   "source": [
    "#define a function to get the days each restaurant lasted\n",
    "import time, datetime\n",
    "def timeOfRes(date):\n",
    "    start_date = time.mktime(datetime.datetime.strptime(min(date), \"%Y-%m-%d\").timetuple())\n",
    "    end_date = time.mktime(datetime.datetime.strptime(max(date), \"%Y-%m-%d\").timetuple())\n",
    "    lastDays = round((end_date-start_date)/(3600*24))\n",
    "    return lastDays"
   ]
  },
  {
   "cell_type": "code",
   "execution_count": 18,
   "metadata": {
    "collapsed": false
   },
   "outputs": [
    {
     "data": {
      "text/plain": [
       "business_id             name                          \n",
       "-AAig9FG0s8gYE4f8GfowQ  Pane Bianco                       362\n",
       "-KZA7UoULw_pM3jBBUzb8A  Sardellas Pizza and Wings          20\n",
       "-S7aL8dVIiXjCdbTZVn8uA  Manhattan Pizzeria and Subshop     16\n",
       "-f5EhKQb7jPtDl1eYDwV0w  Domino's Pizza                      7\n",
       "-yzl8Zm-MmSqx31VN7vB0Q  Corleone's                        106\n",
       "Name: date, dtype: int64"
      ]
     },
     "execution_count": 18,
     "metadata": {},
     "output_type": "execute_result"
    }
   ],
   "source": [
    "#test the goupby method\n",
    "groudedData = data.groupby([\"business_id\", \"name\"])[\"date\"].count()\n",
    "\n",
    "groudedData.head()"
   ]
  },
  {
   "cell_type": "code",
   "execution_count": 21,
   "metadata": {
    "collapsed": true
   },
   "outputs": [],
   "source": [
    "#get all the distinct businessIds\n",
    "ids = groudedData.index.levels[0]"
   ]
  },
  {
   "cell_type": "code",
   "execution_count": 22,
   "metadata": {
    "collapsed": true
   },
   "outputs": [],
   "source": [
    "#get {business_id: lastDays}\n",
    "business_last = {}\n",
    "for i in ids:\n",
    "    last = timeOfRes(data[data[\"business_id\"]==i][\"date\"])\n",
    "    business_last[i] = last"
   ]
  },
  {
   "cell_type": "code",
   "execution_count": 23,
   "metadata": {
    "collapsed": true
   },
   "outputs": [],
   "source": [
    "# add a column \"lastDays\", and assign default value 0\n",
    "data[\"lastDays\"] = 0"
   ]
  },
  {
   "cell_type": "code",
   "execution_count": 24,
   "metadata": {
    "collapsed": true
   },
   "outputs": [],
   "source": [
    "# update lastDays with business_last\n",
    "for i in ids:\n",
    "    data.loc[data[\"business_id\"]==i, \"lastDays\"] = business_last[i] "
   ]
  },
  {
   "cell_type": "code",
   "execution_count": 25,
   "metadata": {
    "collapsed": false
   },
   "outputs": [
    {
     "data": {
      "text/html": [
       "<div>\n",
       "<table border=\"1\" class=\"dataframe\">\n",
       "  <thead>\n",
       "    <tr style=\"text-align: right;\">\n",
       "      <th></th>\n",
       "      <th>business_id</th>\n",
       "      <th>name</th>\n",
       "      <th>date</th>\n",
       "      <th>stars</th>\n",
       "      <th>lastDays</th>\n",
       "    </tr>\n",
       "  </thead>\n",
       "  <tbody>\n",
       "    <tr>\n",
       "      <th>0</th>\n",
       "      <td>VVeogjZya58oiTxK7qUjAQ</td>\n",
       "      <td>Pizzeria Bianco</td>\n",
       "      <td>2005-03-08</td>\n",
       "      <td>5</td>\n",
       "      <td>3593</td>\n",
       "    </tr>\n",
       "    <tr>\n",
       "      <th>1</th>\n",
       "      <td>VVeogjZya58oiTxK7qUjAQ</td>\n",
       "      <td>Pizzeria Bianco</td>\n",
       "      <td>2005-04-08</td>\n",
       "      <td>5</td>\n",
       "      <td>3593</td>\n",
       "    </tr>\n",
       "    <tr>\n",
       "      <th>2</th>\n",
       "      <td>r-8wS4RTfRJtWM0DvdaCtQ</td>\n",
       "      <td>Peter Piper Pizza</td>\n",
       "      <td>2005-04-14</td>\n",
       "      <td>5</td>\n",
       "      <td>3293</td>\n",
       "    </tr>\n",
       "    <tr>\n",
       "      <th>3</th>\n",
       "      <td>VVeogjZya58oiTxK7qUjAQ</td>\n",
       "      <td>Pizzeria Bianco</td>\n",
       "      <td>2005-07-18</td>\n",
       "      <td>4</td>\n",
       "      <td>3593</td>\n",
       "    </tr>\n",
       "    <tr>\n",
       "      <th>4</th>\n",
       "      <td>VVeogjZya58oiTxK7qUjAQ</td>\n",
       "      <td>Pizzeria Bianco</td>\n",
       "      <td>2005-12-15</td>\n",
       "      <td>5</td>\n",
       "      <td>3593</td>\n",
       "    </tr>\n",
       "    <tr>\n",
       "      <th>5</th>\n",
       "      <td>r-8wS4RTfRJtWM0DvdaCtQ</td>\n",
       "      <td>Peter Piper Pizza</td>\n",
       "      <td>2006-01-07</td>\n",
       "      <td>1</td>\n",
       "      <td>3293</td>\n",
       "    </tr>\n",
       "    <tr>\n",
       "      <th>6</th>\n",
       "      <td>-AAig9FG0s8gYE4f8GfowQ</td>\n",
       "      <td>Pane Bianco</td>\n",
       "      <td>2006-01-11</td>\n",
       "      <td>5</td>\n",
       "      <td>3275</td>\n",
       "    </tr>\n",
       "    <tr>\n",
       "      <th>7</th>\n",
       "      <td>VVeogjZya58oiTxK7qUjAQ</td>\n",
       "      <td>Pizzeria Bianco</td>\n",
       "      <td>2006-01-20</td>\n",
       "      <td>3</td>\n",
       "      <td>3593</td>\n",
       "    </tr>\n",
       "    <tr>\n",
       "      <th>8</th>\n",
       "      <td>-AAig9FG0s8gYE4f8GfowQ</td>\n",
       "      <td>Pane Bianco</td>\n",
       "      <td>2006-01-20</td>\n",
       "      <td>3</td>\n",
       "      <td>3275</td>\n",
       "    </tr>\n",
       "    <tr>\n",
       "      <th>9</th>\n",
       "      <td>MEraJIKYztC7IOzYwMe86g</td>\n",
       "      <td>Raimondo's</td>\n",
       "      <td>2006-01-20</td>\n",
       "      <td>2</td>\n",
       "      <td>2510</td>\n",
       "    </tr>\n",
       "    <tr>\n",
       "      <th>10</th>\n",
       "      <td>VVeogjZya58oiTxK7qUjAQ</td>\n",
       "      <td>Pizzeria Bianco</td>\n",
       "      <td>2006-01-21</td>\n",
       "      <td>5</td>\n",
       "      <td>3593</td>\n",
       "    </tr>\n",
       "    <tr>\n",
       "      <th>11</th>\n",
       "      <td>MEraJIKYztC7IOzYwMe86g</td>\n",
       "      <td>Raimondo's</td>\n",
       "      <td>2006-01-22</td>\n",
       "      <td>3</td>\n",
       "      <td>2510</td>\n",
       "    </tr>\n",
       "    <tr>\n",
       "      <th>12</th>\n",
       "      <td>VVeogjZya58oiTxK7qUjAQ</td>\n",
       "      <td>Pizzeria Bianco</td>\n",
       "      <td>2006-01-25</td>\n",
       "      <td>3</td>\n",
       "      <td>3593</td>\n",
       "    </tr>\n",
       "    <tr>\n",
       "      <th>13</th>\n",
       "      <td>V1nEpIRmEa1768oj_tuxeQ</td>\n",
       "      <td>Cibo</td>\n",
       "      <td>2006-02-28</td>\n",
       "      <td>4</td>\n",
       "      <td>3231</td>\n",
       "    </tr>\n",
       "    <tr>\n",
       "      <th>14</th>\n",
       "      <td>VVeogjZya58oiTxK7qUjAQ</td>\n",
       "      <td>Pizzeria Bianco</td>\n",
       "      <td>2006-03-28</td>\n",
       "      <td>4</td>\n",
       "      <td>3593</td>\n",
       "    </tr>\n",
       "    <tr>\n",
       "      <th>15</th>\n",
       "      <td>VVeogjZya58oiTxK7qUjAQ</td>\n",
       "      <td>Pizzeria Bianco</td>\n",
       "      <td>2006-04-14</td>\n",
       "      <td>3</td>\n",
       "      <td>3593</td>\n",
       "    </tr>\n",
       "    <tr>\n",
       "      <th>16</th>\n",
       "      <td>V1nEpIRmEa1768oj_tuxeQ</td>\n",
       "      <td>Cibo</td>\n",
       "      <td>2006-04-18</td>\n",
       "      <td>5</td>\n",
       "      <td>3231</td>\n",
       "    </tr>\n",
       "    <tr>\n",
       "      <th>17</th>\n",
       "      <td>Shl6PtJERnowSJSC4IHbYQ</td>\n",
       "      <td>zpizza</td>\n",
       "      <td>2006-05-13</td>\n",
       "      <td>3</td>\n",
       "      <td>3154</td>\n",
       "    </tr>\n",
       "    <tr>\n",
       "      <th>18</th>\n",
       "      <td>-yzl8Zm-MmSqx31VN7vB0Q</td>\n",
       "      <td>Corleone's</td>\n",
       "      <td>2006-07-23</td>\n",
       "      <td>4</td>\n",
       "      <td>3085</td>\n",
       "    </tr>\n",
       "    <tr>\n",
       "      <th>19</th>\n",
       "      <td>0ieEqGInYunNBaBzg8j_WQ</td>\n",
       "      <td>Slices</td>\n",
       "      <td>2006-08-08</td>\n",
       "      <td>4</td>\n",
       "      <td>3064</td>\n",
       "    </tr>\n",
       "  </tbody>\n",
       "</table>\n",
       "</div>"
      ],
      "text/plain": [
       "               business_id               name        date  stars  lastDays\n",
       "0   VVeogjZya58oiTxK7qUjAQ    Pizzeria Bianco  2005-03-08      5      3593\n",
       "1   VVeogjZya58oiTxK7qUjAQ    Pizzeria Bianco  2005-04-08      5      3593\n",
       "2   r-8wS4RTfRJtWM0DvdaCtQ  Peter Piper Pizza  2005-04-14      5      3293\n",
       "3   VVeogjZya58oiTxK7qUjAQ    Pizzeria Bianco  2005-07-18      4      3593\n",
       "4   VVeogjZya58oiTxK7qUjAQ    Pizzeria Bianco  2005-12-15      5      3593\n",
       "5   r-8wS4RTfRJtWM0DvdaCtQ  Peter Piper Pizza  2006-01-07      1      3293\n",
       "6   -AAig9FG0s8gYE4f8GfowQ        Pane Bianco  2006-01-11      5      3275\n",
       "7   VVeogjZya58oiTxK7qUjAQ    Pizzeria Bianco  2006-01-20      3      3593\n",
       "8   -AAig9FG0s8gYE4f8GfowQ        Pane Bianco  2006-01-20      3      3275\n",
       "9   MEraJIKYztC7IOzYwMe86g         Raimondo's  2006-01-20      2      2510\n",
       "10  VVeogjZya58oiTxK7qUjAQ    Pizzeria Bianco  2006-01-21      5      3593\n",
       "11  MEraJIKYztC7IOzYwMe86g         Raimondo's  2006-01-22      3      2510\n",
       "12  VVeogjZya58oiTxK7qUjAQ    Pizzeria Bianco  2006-01-25      3      3593\n",
       "13  V1nEpIRmEa1768oj_tuxeQ               Cibo  2006-02-28      4      3231\n",
       "14  VVeogjZya58oiTxK7qUjAQ    Pizzeria Bianco  2006-03-28      4      3593\n",
       "15  VVeogjZya58oiTxK7qUjAQ    Pizzeria Bianco  2006-04-14      3      3593\n",
       "16  V1nEpIRmEa1768oj_tuxeQ               Cibo  2006-04-18      5      3231\n",
       "17  Shl6PtJERnowSJSC4IHbYQ             zpizza  2006-05-13      3      3154\n",
       "18  -yzl8Zm-MmSqx31VN7vB0Q         Corleone's  2006-07-23      4      3085\n",
       "19  0ieEqGInYunNBaBzg8j_WQ             Slices  2006-08-08      4      3064"
      ]
     },
     "execution_count": 25,
     "metadata": {},
     "output_type": "execute_result"
    }
   ],
   "source": [
    "data.head(20)"
   ]
  },
  {
   "cell_type": "code",
   "execution_count": 26,
   "metadata": {
    "collapsed": true
   },
   "outputs": [],
   "source": [
    "# get the rank of mean rating of all the restaurant\n",
    "# data: original data\n",
    "# daysFromPresent: the time window, the days from present\n",
    "import time, datetime\n",
    "def meanRatingRank(data, daysFromPresent = 30):\n",
    "    present=\"2015-01-08\" #present could be get from a method\n",
    "    ts = time.mktime(datetime.datetime.strptime(present, \"%Y-%m-%d\").timetuple()) - 3600 * 24 * daysFromPresent\n",
    "    start_date = datetime.datetime.fromtimestamp(ts).strftime('%Y-%m-%d')\n",
    "    data_temp = data[data[\"date\"]>=start_date]\n",
    "    data_group = data_temp.groupby([\"business_id\",\"name\", \"lastDays\"])[\"stars\"].mean()\n",
    "    data_group.sort([\"stars\"], ascending=False)\n",
    "    \n",
    "    return data_group"
   ]
  },
  {
   "cell_type": "code",
   "execution_count": 27,
   "metadata": {
    "collapsed": true
   },
   "outputs": [],
   "source": [
    "# get the rank of mean ratings of all restaurants in the past 60 days\n",
    "ds_grouped = meanRatingRank(data, 60)"
   ]
  },
  {
   "cell_type": "code",
   "execution_count": 28,
   "metadata": {
    "collapsed": true
   },
   "outputs": [],
   "source": [
    "#define a function to transfer the series returned by meanRatingRank() to DataFrame\n",
    "def transSeriesToDf(ds_grouped):\n",
    "    df_businessId = ds_grouped.index.get_level_values(0)\n",
    "    df_name = ds_grouped.index.get_level_values(1)\n",
    "    df_lastDays = ds_grouped.index.get_level_values(2)\n",
    "    df_stars = list(ds_grouped.values)\n",
    "    df_mean_data = pd.DataFrame(data = [df_businessId, df_name, df_lastDays, df_stars], index = [\"business_id\", \"name\", \"lastDays\", \"stars\"]).transpose()\n",
    "    \n",
    "    return df_mean_data"
   ]
  },
  {
   "cell_type": "code",
   "execution_count": 29,
   "metadata": {
    "collapsed": true
   },
   "outputs": [],
   "source": [
    "df_mean_data = transSeriesToDf(ds_grouped)"
   ]
  },
  {
   "cell_type": "code",
   "execution_count": 30,
   "metadata": {
    "collapsed": false
   },
   "outputs": [
    {
     "data": {
      "text/html": [
       "<div>\n",
       "<table border=\"1\" class=\"dataframe\">\n",
       "  <thead>\n",
       "    <tr style=\"text-align: right;\">\n",
       "      <th></th>\n",
       "      <th>business_id</th>\n",
       "      <th>name</th>\n",
       "      <th>lastDays</th>\n",
       "      <th>stars</th>\n",
       "    </tr>\n",
       "  </thead>\n",
       "  <tbody>\n",
       "    <tr>\n",
       "      <th>0</th>\n",
       "      <td>nmo_Kbv1H2eOuXmhB3M6kA</td>\n",
       "      <td>Momenti</td>\n",
       "      <td>293</td>\n",
       "      <td>5</td>\n",
       "    </tr>\n",
       "    <tr>\n",
       "      <th>20</th>\n",
       "      <td>z0rbqzkp6JAorvx3rXANYg</td>\n",
       "      <td>Farmhouse Pizza</td>\n",
       "      <td>308</td>\n",
       "      <td>5</td>\n",
       "    </tr>\n",
       "    <tr>\n",
       "      <th>29</th>\n",
       "      <td>LsKF7GFQ0j5U1jLMwq0_hQ</td>\n",
       "      <td>Oven and Vine</td>\n",
       "      <td>191</td>\n",
       "      <td>4.6</td>\n",
       "    </tr>\n",
       "    <tr>\n",
       "      <th>42</th>\n",
       "      <td>lp-J_cO5owuMzGJqdn3PNg</td>\n",
       "      <td>MOD Pizza</td>\n",
       "      <td>108</td>\n",
       "      <td>4.3</td>\n",
       "    </tr>\n",
       "    <tr>\n",
       "      <th>46</th>\n",
       "      <td>aX8xuj7PWFGVqyBN06ysQw</td>\n",
       "      <td>Fired Pie</td>\n",
       "      <td>128</td>\n",
       "      <td>4.25</td>\n",
       "    </tr>\n",
       "    <tr>\n",
       "      <th>69</th>\n",
       "      <td>MoMu4FypeaSR27G0qFIc6g</td>\n",
       "      <td>Isa's Pizza</td>\n",
       "      <td>336</td>\n",
       "      <td>4</td>\n",
       "    </tr>\n",
       "    <tr>\n",
       "      <th>84</th>\n",
       "      <td>_eymim7Di9WjVOxT4OSnjg</td>\n",
       "      <td>Pizza Studio</td>\n",
       "      <td>283</td>\n",
       "      <td>3.8</td>\n",
       "    </tr>\n",
       "    <tr>\n",
       "      <th>89</th>\n",
       "      <td>WiRBzwdzVMDp6JRjWRNaqA</td>\n",
       "      <td>Fired Pie</td>\n",
       "      <td>99</td>\n",
       "      <td>3.75</td>\n",
       "    </tr>\n",
       "    <tr>\n",
       "      <th>90</th>\n",
       "      <td>BMjggIgOghBMEXPo8q7q3w</td>\n",
       "      <td>LaBella Pizzeria and Restaurant</td>\n",
       "      <td>181</td>\n",
       "      <td>3.714286</td>\n",
       "    </tr>\n",
       "    <tr>\n",
       "      <th>94</th>\n",
       "      <td>77pQVPhksTpz-Yz8v4bK_A</td>\n",
       "      <td>Forge Pizza</td>\n",
       "      <td>85</td>\n",
       "      <td>3.666667</td>\n",
       "    </tr>\n",
       "    <tr>\n",
       "      <th>98</th>\n",
       "      <td>51vtDjP79vBjaI5dbkPoPw</td>\n",
       "      <td>Grand Avenue Pizza Company</td>\n",
       "      <td>191</td>\n",
       "      <td>3.6</td>\n",
       "    </tr>\n",
       "    <tr>\n",
       "      <th>103</th>\n",
       "      <td>qm0a4q481Sa7dugkzqRgjg</td>\n",
       "      <td>Rosati's Pizza</td>\n",
       "      <td>156</td>\n",
       "      <td>3.5</td>\n",
       "    </tr>\n",
       "    <tr>\n",
       "      <th>118</th>\n",
       "      <td>ql12LAdBdaqT3-zuRU6QHA</td>\n",
       "      <td>Boka Pizza</td>\n",
       "      <td>179</td>\n",
       "      <td>3</td>\n",
       "    </tr>\n",
       "    <tr>\n",
       "      <th>130</th>\n",
       "      <td>3E2j2avZJjNKCeWZIGZYTw</td>\n",
       "      <td>Domino's Pizza</td>\n",
       "      <td>79</td>\n",
       "      <td>3</td>\n",
       "    </tr>\n",
       "    <tr>\n",
       "      <th>142</th>\n",
       "      <td>oPpA0LHMWJht4lMFgfYwhA</td>\n",
       "      <td>Pittsburgh Pizza Company</td>\n",
       "      <td>274</td>\n",
       "      <td>2.25</td>\n",
       "    </tr>\n",
       "    <tr>\n",
       "      <th>158</th>\n",
       "      <td>sllcxcR9olrF0LQH38lZpQ</td>\n",
       "      <td>Hungry Howies Pizza</td>\n",
       "      <td>0</td>\n",
       "      <td>1</td>\n",
       "    </tr>\n",
       "  </tbody>\n",
       "</table>\n",
       "</div>"
      ],
      "text/plain": [
       "                business_id                             name lastDays  \\\n",
       "0    nmo_Kbv1H2eOuXmhB3M6kA                          Momenti      293   \n",
       "20   z0rbqzkp6JAorvx3rXANYg                  Farmhouse Pizza      308   \n",
       "29   LsKF7GFQ0j5U1jLMwq0_hQ                    Oven and Vine      191   \n",
       "42   lp-J_cO5owuMzGJqdn3PNg                        MOD Pizza      108   \n",
       "46   aX8xuj7PWFGVqyBN06ysQw                        Fired Pie      128   \n",
       "69   MoMu4FypeaSR27G0qFIc6g                      Isa's Pizza      336   \n",
       "84   _eymim7Di9WjVOxT4OSnjg                     Pizza Studio      283   \n",
       "89   WiRBzwdzVMDp6JRjWRNaqA                        Fired Pie       99   \n",
       "90   BMjggIgOghBMEXPo8q7q3w  LaBella Pizzeria and Restaurant      181   \n",
       "94   77pQVPhksTpz-Yz8v4bK_A                      Forge Pizza       85   \n",
       "98   51vtDjP79vBjaI5dbkPoPw       Grand Avenue Pizza Company      191   \n",
       "103  qm0a4q481Sa7dugkzqRgjg                   Rosati's Pizza      156   \n",
       "118  ql12LAdBdaqT3-zuRU6QHA                       Boka Pizza      179   \n",
       "130  3E2j2avZJjNKCeWZIGZYTw                   Domino's Pizza       79   \n",
       "142  oPpA0LHMWJht4lMFgfYwhA         Pittsburgh Pizza Company      274   \n",
       "158  sllcxcR9olrF0LQH38lZpQ              Hungry Howies Pizza        0   \n",
       "\n",
       "        stars  \n",
       "0           5  \n",
       "20          5  \n",
       "29        4.6  \n",
       "42        4.3  \n",
       "46       4.25  \n",
       "69          4  \n",
       "84        3.8  \n",
       "89       3.75  \n",
       "90   3.714286  \n",
       "94   3.666667  \n",
       "98        3.6  \n",
       "103       3.5  \n",
       "118         3  \n",
       "130         3  \n",
       "142      2.25  \n",
       "158         1  "
      ]
     },
     "execution_count": 30,
     "metadata": {},
     "output_type": "execute_result"
    }
   ],
   "source": [
    "#get the rank of restaurants which lasted less than one year\n",
    "df_mean_data[df_mean_data[\"lastDays\"] <=365]"
   ]
  },
  {
   "cell_type": "code",
   "execution_count": 31,
   "metadata": {
    "collapsed": false
   },
   "outputs": [
    {
     "data": {
      "image/png": "[encoded data removed]",
      "text/plain": [
       "<matplotlib.figure.Figure at 0x1b1dfcf98>"
      ]
     },
     "metadata": {},
     "output_type": "display_data"
    }
   ],
   "source": [
    "#plot the (lastDays, mean Rating) of all restaurants, and add a line x = 365\n",
    "import matplotlib.pyplot as plt\n",
    "%matplotlib inline \n",
    "plt.figure(figsize=(20,10))\n",
    "plt.scatter(df_mean_data[\"lastDays\"], df_mean_data[\"stars\"])\n",
    "plt.xlabel(\"Last Days\")\n",
    "plt.ylabel(\"Mean Rating\")\n",
    "plt.axvline(x=365, color=\"r\")\n",
    "plt.show()"
   ]
  },
  {
   "cell_type": "code",
   "execution_count": 34,
   "metadata": {
    "collapsed": true
   },
   "outputs": [],
   "source": [
    "business = business_phx\n",
    "def organize_data(data):\n",
    "    b_ids = {}\n",
    "    for s in data:\n",
    "        bid = s['business_id']\n",
    "        date = s['date']\n",
    "        stars = s['stars']\n",
    "        votes = s['votes']\n",
    "        if b_ids.has_key(bid):\n",
    "            bidstuff = b_ids[bid]\n",
    "            bidstuff['reviews'] += [{date:[stars,votes]}]\n",
    "            bidstuff['name'] = s['name']\n",
    "            if date < bidstuff['opendate']:\n",
    "                bidstuff['opendate'] = date\n",
    "        else:\n",
    "            b_ids[bid] = {'name':s['name'], 'reviews':[{date:[stars,votes]}],'opendate':date}\n",
    "    return b_ids"
   ]
  },
  {
   "cell_type": "code",
   "execution_count": 35,
   "metadata": {
    "collapsed": false
   },
   "outputs": [],
   "source": [
    "mapped_data = organize_data(business)\n",
    "ids = [i['business_id'] for i in business]\n",
    "ids = list(set(ids))"
   ]
  },
  {
   "cell_type": "code",
   "execution_count": 36,
   "metadata": {
    "collapsed": true
   },
   "outputs": [],
   "source": [
    "#In this example, we chose to find the trending new pizza restaurants in the last two months.\n",
    "#Rank Method 2: We focused on how much each store has improved during the window period. In order to filter\n",
    "# those who have improved little from scratch, we set up a threshold to be 3. That is, only ratings bigger\n",
    "# than 3 inside the window will be taken into account.\n",
    "import time,datetime\n",
    "def rank1(m,ids,window,present):\n",
    "    ranks = []\n",
    "    for i in ids:\n",
    "        reviews = m[i]['reviews']\n",
    "        ts = time.mktime(datetime.datetime.strptime(present, \"%Y-%m-%d\").timetuple()) - 3600 * 24 * window\n",
    "        opents = time.mktime(datetime.datetime.strptime(m[i]['opendate'], \"%Y-%m-%d\").timetuple())\n",
    "        length = float(time.mktime(datetime.datetime.strptime(present, \"%Y-%m-%d\").timetuple()) - opents) / (3600 *24 * window)\n",
    "        time_of_start = datetime.datetime.fromtimestamp(ts).strftime('%Y-%m-%d')\n",
    "        avg = sum([r.values()[0][0] for r in reviews\n",
    "                   if r.keys()[0] < time_of_start])/float(len(reviews))\n",
    "        recent = [r.values()[0][0] for r in reviews\n",
    "                  if r.keys()[0] >= time_of_start]\n",
    "        bigger = [b for b in recent if b > avg and b > 3]\n",
    "        if len(recent) > 0 and length != 0:\n",
    "            ranks += [{'ID':i,'Name':m[i]['name'],'Rating':len(bigger)/(float(len(recent))*length),'Opendate':m[i]['opendate'],'AVG':sum(recent)/len(recent)}]\n",
    "        else:\n",
    "            ranks += [{'ID':i,'Name':m[i]['name'],'Rating':0,'Length':len(reviews),'AVG':avg}]\n",
    "    return ranks"
   ]
  },
  {
   "cell_type": "code",
   "execution_count": 38,
   "metadata": {
    "collapsed": false
   },
   "outputs": [
    {
     "data": {
      "text/plain": [
       "[(u'Fired Pie', u'2014-09-30', 0.42039704165044767),\n",
       " (u'MOD Pizza', u'2014-09-19', 0.3812213201553124),\n",
       " (u'Forge Pizza', u'2014-10-10', 0.30914555603263205),\n",
       " (u'Fired Pie', u'2014-08-29', 0.28768354809709323),\n",
       " (u\"Domino's Pizza\", u'2014-09-24', 0.26538886841135273),\n",
       " (u'LaBella Pizzeria and Restaurant', u'2014-07-10', 0.25391227683491296),\n",
       " (u'Oven and Vine', u'2014-07-01', 0.22722491058278982),\n",
       " (u'Momenti', u'2014-03-19', 0.19864808939164022),\n",
       " (u'Pizza Studio', u'2014-03-11', 0.19352237602472785),\n",
       " (u\"Rosati's Pizza\", u'2014-08-03', 0.18177227972734158)]"
      ]
     },
     "execution_count": 38,
     "metadata": {},
     "output_type": "execute_result"
    }
   ],
   "source": [
    "#Get the top 10\n",
    "from operator import itemgetter\n",
    "r = rank1(mapped_data,ids,60,'2015-01-15')\n",
    "#Sort the ranks based on their percentage of improvement\n",
    "newlist = sorted(r, key=itemgetter('Rating'), reverse=True)\n",
    "top10 = newlist[:10]\n",
    "finalRank1 = [(r['Name'],r['Opendate'],r['Rating']) for r in top10]\n",
    "finalRank1 #Top 10 during period 2014-11-16 to 2015-01-15"
   ]
  },
  {
   "cell_type": "code",
   "execution_count": 39,
   "metadata": {
    "collapsed": false
   },
   "outputs": [],
   "source": [
    "import datetime\n",
    "#Rank method 2\n",
    "#Learn the constant factor lambda via validation\n",
    "#The ranking formula : R(i) = average(R(i) in the window) * lambda ^ L\n",
    "# R(i) -> Rating for Restaurant i; lambda: penalizing factor for old restaurants; L: how many windows\n",
    "# are there between the date of measure and its opendate.\n",
    "#Error Metric \n",
    "#How does our ranking result based on the window period matches that of the following short time period?\n",
    "# Error Formula: MSE(i) is how many restaurants that ranked top 10 are not inside that of the first one\n",
    "# We aggregate the error of the entire dataset with weights equal to how far each period is to the mindate\n",
    "# Resulting in a subset of lambdas\n",
    "# Then we find the best lambda when the overall unweighted error is the minimum.\n",
    "import numpy\n",
    "def date_range(s, e, window, validation, step):\n",
    "    yr = []\n",
    "    start = datetime.datetime.strptime(s,\"%Y-%m-%d\") - datetime.timedelta(days=step)\n",
    "    end = datetime.datetime.strptime(e,\"%Y-%m-%d\")\n",
    "    i = 0\n",
    "    while (start < end):\n",
    "        start = start + datetime.timedelta(days=step)\n",
    "        w = start + datetime.timedelta(days=window)\n",
    "        v = start + datetime.timedelta(days=window+validation)\n",
    "        yr.append((start.strftime(\"%Y-%m-%d\"),w.strftime(\"%Y-%m-%d\"),v.strftime(\"%Y-%m-%d\")))\n",
    "    return yr\n",
    "mindate = '2005-03-08'\n",
    "maxdate = '2014-11-08'\n",
    "#Window :60 days; Validation : 20 days; Step: 30 days. So the result will be a list of overlapping time\n",
    "times = date_range(mindate,maxdate,60,20,30)\n",
    "\n",
    "def rankb(m,ids,t,l):\n",
    "    ranks = []\n",
    "    for i in ids:\n",
    "        reviews = m[i]['reviews']\n",
    "        opendate = datetime.datetime.strptime(m[i]['opendate'],\"%Y-%m-%d\")\n",
    "        L = (datetime.datetime.strptime(t[0],\"%Y-%m-%d\") - opendate).days / float(60)\n",
    "        if (L < 0):\n",
    "            L = 100000\n",
    "        recent = [r.values()[0][0] for r in reviews if r.keys()[0] >= t[0] and r.keys()[0] <= t[1] and r.values()[0][0] > 3]\n",
    "        if len(recent) > 0:\n",
    "            avg1 = l ** L * sum(recent) / float(len(recent))\n",
    "        else:\n",
    "            avg1 = 0\n",
    "        v = [r.values()[0][0] for r in reviews if r.keys()[0] >= t[1] and r.keys()[0] <= t[2]] # using a small validation set\n",
    "        if len(v) > 0:\n",
    "            avg2 = l ** L * sum(v) / float(len(v))\n",
    "        else:\n",
    "            avg2 = 0\n",
    "        ranks.append({'ID':i,'name':mapped_data[i]['name'],'Rating1':avg1,'Rating2': avg2,'Opendate':m[i]['opendate'],'L':L})\n",
    "        r1 = sorted(ranks, key=itemgetter('Rating1'),reverse = True)[:10]\n",
    "        r2 = sorted(ranks, key=itemgetter('Rating2'), reverse=True)[:10]\n",
    "    return (r1,r2)# We just want to verify the top 10\n",
    "\n",
    "def err(t,l):\n",
    "    r = rankb(mapped_data,ids,t,l)\n",
    "    rank1 = r[0]\n",
    "    rank2 = r[1]\n",
    "    #Error Calculation\n",
    "    err = 0;\n",
    "    rank1ID = [i['ID'] for i in rank1]\n",
    "    j = 0\n",
    "    for i in rank2:\n",
    "        if i['ID'] not in rank1ID:\n",
    "            err = err + 1\n",
    "    return err\n",
    "# It is found that globally weighted error reach minimum when lambda = [0.36,0.40]. So we would discover which resulted \n",
    "# in the least un-weighted error\n",
    "def find_optimal(times,search_span,g):\n",
    "    lambdas = []\n",
    "    ls = search_span\n",
    "    b = 0\n",
    "    for l in ls:\n",
    "        total = 99999\n",
    "        e = 0\n",
    "        p = 1\n",
    "        for t in times:\n",
    "            if (g == 1):\n",
    "                e = e + err(t,l)* p / 121\n",
    "            else:\n",
    "                e = e + err(t,l)\n",
    "            p = p + 1\n",
    "        lambdas += [(e,l)]\n",
    "        if (e < total):\n",
    "            total = e\n",
    "            b = l\n",
    "    return lambdas"
   ]
  },
  {
   "cell_type": "code",
   "execution_count": 111,
   "metadata": {
    "collapsed": false
   },
   "outputs": [
    {
     "data": {
      "text/plain": [
       "[(199, 0.01),\n",
       " (199, 0.02),\n",
       " (199, 0.029999999999999999),\n",
       " (199, 0.040000000000000001),\n",
       " (199, 0.050000000000000003),\n",
       " (200, 0.060000000000000005),\n",
       " (200, 0.069999999999999993),\n",
       " (200, 0.080000000000000002),\n",
       " (200, 0.089999999999999997),\n",
       " (200, 0.099999999999999992),\n",
       " (200, 0.11),\n",
       " (200, 0.12),\n",
       " (200, 0.13),\n",
       " (200, 0.14000000000000001),\n",
       " (200, 0.15000000000000002),\n",
       " (201, 0.16),\n",
       " (201, 0.17000000000000001),\n",
       " (201, 0.18000000000000002),\n",
       " (201, 0.19),\n",
       " (201, 0.20000000000000001),\n",
       " (202, 0.21000000000000002),\n",
       " (202, 0.22),\n",
       " (202, 0.23000000000000001),\n",
       " (202, 0.24000000000000002),\n",
       " (202, 0.25),\n",
       " (202, 0.26000000000000001),\n",
       " (202, 0.27000000000000002),\n",
       " (202, 0.28000000000000003),\n",
       " (202, 0.29000000000000004),\n",
       " (202, 0.29999999999999999),\n",
       " (202, 0.31),\n",
       " (202, 0.32000000000000001),\n",
       " (202, 0.33000000000000002),\n",
       " (202, 0.34000000000000002),\n",
       " (202, 0.35000000000000003),\n",
       " (202, 0.36000000000000004),\n",
       " (202, 0.37),\n",
       " (202, 0.38),\n",
       " (203, 0.39000000000000001),\n",
       " (203, 0.40000000000000002),\n",
       " (204, 0.41000000000000003),\n",
       " (203, 0.42000000000000004),\n",
       " (204, 0.42999999999999999),\n",
       " (204, 0.44),\n",
       " (204, 0.45000000000000001),\n",
       " (204, 0.46000000000000002),\n",
       " (204, 0.47000000000000003),\n",
       " (204, 0.48000000000000004),\n",
       " (204, 0.48999999999999999),\n",
       " (204, 0.5),\n",
       " (204, 0.51000000000000001),\n",
       " (204, 0.52000000000000002),\n",
       " (204, 0.53000000000000003),\n",
       " (204, 0.54000000000000004),\n",
       " (203, 0.55000000000000004),\n",
       " (203, 0.56000000000000005),\n",
       " (204, 0.57000000000000006),\n",
       " (204, 0.58000000000000007),\n",
       " (204, 0.58999999999999997),\n",
       " (205, 0.59999999999999998),\n",
       " (206, 0.60999999999999999),\n",
       " (206, 0.62),\n",
       " (206, 0.63),\n",
       " (207, 0.64000000000000001),\n",
       " (207, 0.65000000000000002),\n",
       " (208, 0.66000000000000003),\n",
       " (209, 0.67000000000000004),\n",
       " (210, 0.68000000000000005),\n",
       " (210, 0.69000000000000006),\n",
       " (211, 0.70000000000000007),\n",
       " (211, 0.71000000000000008),\n",
       " (214, 0.71999999999999997),\n",
       " (217, 0.72999999999999998),\n",
       " (219, 0.73999999999999999),\n",
       " (219, 0.75),\n",
       " (218, 0.76000000000000001),\n",
       " (219, 0.77000000000000002),\n",
       " (222, 0.78000000000000003),\n",
       " (221, 0.79000000000000004),\n",
       " (223, 0.80000000000000004),\n",
       " (223, 0.81000000000000005),\n",
       " (224, 0.82000000000000006),\n",
       " (227, 0.83000000000000007),\n",
       " (230, 0.84000000000000008),\n",
       " (232, 0.84999999999999998),\n",
       " (234, 0.85999999999999999),\n",
       " (234, 0.87),\n",
       " (238, 0.88),\n",
       " (241, 0.89000000000000001),\n",
       " (239, 0.90000000000000002),\n",
       " (241, 0.91000000000000003),\n",
       " (249, 0.92000000000000004),\n",
       " (252, 0.93000000000000005),\n",
       " (252, 0.94000000000000006),\n",
       " (257, 0.95000000000000007),\n",
       " (269, 0.96000000000000008),\n",
       " (276, 0.96999999999999997),\n",
       " (305, 0.97999999999999998)]"
      ]
     },
     "execution_count": 111,
     "metadata": {},
     "output_type": "execute_result"
    }
   ],
   "source": [
    "#Optimal lambda\n",
    "ls = find_optimal(times,numpy.arange(0.01,0.99,0.01),1)\n",
    "ls"
   ]
  },
  {
   "cell_type": "code",
   "execution_count": 112,
   "metadata": {
    "collapsed": false
   },
   "outputs": [
    {
     "data": {
      "text/plain": [
       "[(481, 0.01),\n",
       " (481, 0.02),\n",
       " (481, 0.029999999999999999),\n",
       " (482, 0.040000000000000001),\n",
       " (482, 0.050000000000000003),\n",
       " (483, 0.060000000000000005),\n",
       " (483, 0.069999999999999993),\n",
       " (483, 0.080000000000000002),\n",
       " (483, 0.089999999999999997),\n",
       " (483, 0.099999999999999992),\n",
       " (483, 0.11),\n",
       " (483, 0.12),\n",
       " (483, 0.13),\n",
       " (483, 0.14000000000000001)]"
      ]
     },
     "execution_count": 112,
     "metadata": {},
     "output_type": "execute_result"
    }
   ],
   "source": [
    "#Best is among 0.01 to 0.15\n",
    "optl=find_optimal(times,numpy.arange(0.01,0.15,0.01),0)\n",
    "optl"
   ]
  },
  {
   "cell_type": "code",
   "execution_count": 40,
   "metadata": {
    "collapsed": false
   },
   "outputs": [
    {
     "name": "stdout",
     "output_type": "stream",
     "text": [
      "('2014-11-16', '2015-01-15', '2015-02-04')\n"
     ]
    },
    {
     "data": {
      "text/plain": [
       "[(u'Forge Pizza', u'2014-10-10', 0.4300738810031571),\n",
       " (u'Fired Pie', u'2014-09-30', 0.2178446728586392),\n",
       " (u\"Domino's Pizza\", u'2014-09-24', 0.15783858074703744),\n",
       " (u'MOD Pizza', u'2014-09-19', 0.11013087168054532),\n",
       " (u'Fired Pie', u'2014-08-29', 0.028972957673779002),\n",
       " (u\"Rosati's Pizza\", u'2014-08-03', 0.005318295896944989),\n",
       " (u'LaBella Pizzeria and Restaurant', u'2014-07-10', 0.0010565939030236172),\n",
       " (u'Oven and Vine', u'2014-07-01', 0.0006184989894219839),\n",
       " (u'Grand Avenue Pizza Company', u'2014-06-26', 0.00041667259490860495),\n",
       " (u'Pittsburgh Pizza Company', u'2014-03-28', 1.2627086459762996e-06)]"
      ]
     },
     "execution_count": 40,
     "metadata": {},
     "output_type": "execute_result"
    }
   ],
   "source": [
    "#We chose 0.02\n",
    "final2=rankb(mapped_data,ids,times[118],0.02)\n",
    "finalRanks = [(r['name'],r['Opendate'],r['Rating1']) for r in final2[0]]\n",
    "#Description of times: first is the starting date, second one is actually the end date of the window;\n",
    "#The last date is the end for the validation set\n",
    "print(times[118])\n",
    "finalRanks"
   ]
  },
  {
   "cell_type": "markdown",
   "metadata": {},
   "source": [
    "*------------------------\n",
    "\n",
    "#Bonus Question: Display results or implement a prototype service using a web framework (20 points)"
   ]
  },
  {
   "cell_type": "markdown",
   "metadata": {},
   "source": [
    "Create a simple web framework using <a href=\"http://flask.pocoo.org/\">Flask</a> or <a href=\"https://www.djangoproject.com/\">Django</a> that displays the results/prototype on a locally served web page. \n",
    "If you’ve never used Flask or Django before, here are some great tutorials for <a href=\"http://blog.miguelgrinberg.com/post/the-flask-mega-tutorial-part-i-hello-world\">flask</a> and <a href=\"http://www.lightbird.net/dbe/\">Django</a>."
   ]
  },
  {
   "cell_type": "markdown",
   "metadata": {},
   "source": [
    "*-----------------\n",
    "# Done\n",
    "\n",
    "All set! \n",
    "\n",
    "** What do you need to submit?**\n",
    "\n",
    "* **Notebook File** (60 points): Save this IPython notebook.\n",
    "\n",
    "\n",
    "* **PPT Slides** (20 points): please prepare PPT slides (for 10 minutes' talk) to present about the case study . \n",
    "\n",
    "* ** Report** (20 points): please prepare a report (less than 10 pages) to report what you did in this project.\n",
    "\n",
    "     (please include figures or tables in the report, but no source code)\n",
    "\n",
    "* **web code** (20 bonus points): the code in web framework.\n",
    "Please compress all the files in a zipped file.\n"
   ]
  }
 ],
 "metadata": {
  "kernelspec": {
   "display_name": "Python 2",
   "language": "python",
   "name": "python2"
  },
  "language_info": {
   "codemirror_mode": {
    "name": "ipython",
    "version": 2
   },
   "file_extension": ".py",
   "mimetype": "text/x-python",
   "name": "python",
   "nbconvert_exporter": "python",
   "pygments_lexer": "ipython2",
   "version": "2.7.10"
  }
 },
 "nbformat": 4,
 "nbformat_minor": 0
}
