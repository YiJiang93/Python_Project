{
 "cells": [
  {
   "cell_type": "markdown",
   "metadata": {},
   "source": [
    "#Case Study 4 :  Data Science Shark Tank:  Pitch Your Ideas\n",
    "\n",
    "** Due Date: Dec. 9, before the class**\n",
    "<a href=\"https://www.youtube.com/channel/UCxQB1f0fQQEQuh8O-6KCONA\"> <img src=\"https://cp.inkrefuge.com/images%5Cpressreleases/shark%20tank_large.jpg\" width=\"400px\"> </a>"
   ]
  },
  {
   "cell_type": "markdown",
   "metadata": {},
   "source": [
    "After the previous 3 case studies,  your team has now equipped with all the three powerful skills of data science: Hacking skill, Business skill and Math skill. In this project, your team is going to make use of these skills to come up with an idea of a new business/startup based upon data science technology. Your goal is to design a better service/solution on any data you like, develop a prototype/demo and prepare a pitch for your idea.\n",
    "* Your team needs to decide which business problem is important for the market you are joining in (for example, social media market, housing market, search market, etc.).\n",
    "* Then design a data science approach to improve one of the current services or design a new service on any data that you choose (hopefully not Yelp dataset again).\n",
    "* The solution should include all the three components of data science: 1) the business part to analyze the potential impact of your new/improved service, why the idea can make money, how much are you evaluating the company; How are you planing to persuade the sharks to invest in your business; 2) the mathematical part to formulate the problem and develop math solution; 3) the programming part to collect the data, implement the math solution, and develop the prototype/demo.\n"
   ]
  },
  {
   "cell_type": "markdown",
   "metadata": {},
   "source": [
    "# Background about Elevator Pitch (90 seconds) and Shark Tank"
   ]
  },
  {
   "cell_type": "code",
   "execution_count": 1,
   "metadata": {
    "collapsed": false
   },
   "outputs": [
    {
     "data": {
      "text/html": [
       "\n",
       "        <iframe\n",
       "            width=\"400\"\n",
       "            height=\"300\"\n",
       "            src=\"https://www.youtube.com/embed/mrSmaCo29U4\"\n",
       "            frameborder=\"0\"\n",
       "            allowfullscreen\n",
       "        ></iframe>\n",
       "        "
      ],
      "text/plain": [
       "<IPython.lib.display.YouTubeVideo at 0x4d19940>"
      ]
     },
     "execution_count": 1,
     "metadata": {},
     "output_type": "execute_result"
    }
   ],
   "source": [
    "from IPython.display import YouTubeVideo\n",
    "YouTubeVideo(\"mrSmaCo29U4\") "
   ]
  },
  {
   "cell_type": "code",
   "execution_count": 2,
   "metadata": {
    "collapsed": false
   },
   "outputs": [
    {
     "data": {
      "text/html": [
       "\n",
       "        <iframe\n",
       "            width=\"400\"\n",
       "            height=300\"\n",
       "            src=\"https://www.youtube.com/embed/g31M8WmKeqg\"\n",
       "            frameborder=\"0\"\n",
       "            allowfullscreen\n",
       "        ></iframe>\n",
       "        "
      ],
      "text/plain": [
       "<IPython.lib.display.YouTubeVideo at 0x102d90e90>"
      ]
     },
     "execution_count": 2,
     "metadata": {},
     "output_type": "execute_result"
    }
   ],
   "source": [
    "YouTubeVideo(\"g31M8WmKeqg\") "
   ]
  },
  {
   "cell_type": "markdown",
   "metadata": {},
   "source": [
    "\n",
    "**Optional Readings:** \n",
    "* LinkedIn API: https://developer.linkedin.com/docs/rest-api\n",
    "* Zillow API: https://pypi.python.org/pypi/pyzillow\n",
    "* Google Map API: https://developers.google.com/api-client-library/python/apis/mapsengine/v1?hl=en\n",
    "* More APIs: https://github.com/ptwobrussell/Mining-the-Social-Web-2nd-Edition\n",
    "\n",
    "\n",
    "** Python libraries you may want to use:**\n",
    "* Scikit-learn (http://scikit-learn.org): machine learning tools in Python.\n",
    "\n",
    "** NOTE **\n",
    "* Please don't forget to save the notebook frequently when working in IPython Notebook, otherwise the changes you made can be lost.\n",
    "\n",
    "*----------------------"
   ]
  },
  {
   "cell_type": "markdown",
   "metadata": {},
   "source": [
    "#Problem 1: the Business Part (20 points)\n",
    " As a group, learn about the data science related business and research about the current markets: such as search, social media, advertisement, recommendation and so on.\n",
    "Pick one of the markets for further consideration, and design a new service  which you believe to be important in the market. \n",
    "Define precisely in the report and briefly in the cells below, what is the business problem that your team wants to solve.\n",
    "Why the problem is important to solve? \n",
    "Why you believe you could make a big difference with data science technology.\n",
    "How are you planing to persuade the investors to buy in your idea."
   ]
  },
  {
   "cell_type": "markdown",
   "metadata": {},
   "source": [
    "**Please describe here *briefly*  (please edit this cell)**\n",
    "\n",
    "1) Your business problem to solve:\n",
    "\n",
    "How to market products for statups or solo sellers on ebay using twitter social network\n",
    "\n",
    "\n",
    "\n",
    "2) Why the problem is important to solve?\n",
    "\n",
    "Marketing cost is high and inefficient\n",
    "\n",
    "Marketing via social network is more reliable and efficient\n",
    "\n",
    "\n",
    "3) What is your idea to solve the problem? \n",
    "\n",
    "Here we just solve the twitter part of our business plan, that is to rank the twitter users according\n",
    "to their influence indices, which is defiend as the product of their influence in their social network\n",
    "and the number of their followers.\n",
    "\n",
    "\n",
    "4) What differences you could make with your data science approach?\n",
    "\n",
    "A better marketing plan for small business.\n",
    "Both the sellers and twitter users can benefit from it.\n",
    "\n",
    "\n",
    "5) Why do you believe the idea deserves the investment of the \"sharks\"?\n",
    "\n",
    "Come on. Its $$$ business.\n",
    "\n",
    "\n",
    "\n"
   ]
  },
  {
   "cell_type": "markdown",
   "metadata": {},
   "source": [
    "#Problem 2: The Math Part (20 points)"
   ]
  },
  {
   "cell_type": "markdown",
   "metadata": {},
   "source": [
    "Define the business problem as a math problem and design a math solution to the problem.\n"
   ]
  },
  {
   "cell_type": "markdown",
   "metadata": {},
   "source": [
    "**Insert your answers here**\n",
    "\n",
    "\n",
    "1) Problem formulation in Math:\n",
    "\n",
    "For the PageRank formula:\n",
    "<img src=\"http://localhost:8888/files/pagerank.jpg\" width=\"500px\">\n",
    "\n",
    "\n",
    "For our UserRank formula:\n",
    "<img src=\"http://localhost:8888/files/UserRank.png\" width=\"800px\">\n",
    "\n",
    "\n",
    "2) Math Solution:\n",
    "Since we are dealing with social network data, it is natural to use PageRank Algorithms to assess each candidate's \n",
    "influence in his or her social network. Here we just pick the first 10 mutual friends of each candidate, and we ranked \n",
    "theses 11 people based on their newtork statuses.\n",
    "\n",
    "\n",
    "3) Implementation of the Solution\n",
    "First, you have to transform the collected data to a binary matrix, where each row represents whether or not the twitter user of that row is following the user in column. Then, you can initialize each person's score with any arbitrary values. \n",
    "Secondly, you can find the final scores, or the staedy-state distribution of everyone in their little network via iterating over the graph.\n"
   ]
  },
  {
   "cell_type": "markdown",
   "metadata": {},
   "source": [
    "\n",
    "\n",
    "#Problem 3: The Hacking Part  (20 points)\n"
   ]
  },
  {
   "cell_type": "markdown",
   "metadata": {},
   "source": [
    "* Data Collection\n",
    "* Implement a small Demo/Prototype/experiment result figures for the \"product\" of your data science company. You could use this demo during the Pitch"
   ]
  },
  {
   "cell_type": "code",
   "execution_count": 115,
   "metadata": {
    "collapsed": false
   },
   "outputs": [],
   "source": [
    "# Import all the packages required\n",
    "\n",
    "import twitter, io,json\n",
    "from prettytable import PrettyTable\n",
    "import sys\n",
    "import time\n",
    "from urllib2 import URLError\n",
    "from httplib import BadStatusLine\n",
    "from functools import partial\n",
    "from sys import maxint\n",
    "import numpy as np\n",
    "import pandas as pd\n",
    "import scipy.sparse.linalg as sl"
   ]
  },
  {
   "cell_type": "code",
   "execution_count": 2,
   "metadata": {
    "collapsed": true
   },
   "outputs": [],
   "source": [
    "#---------------------------------------------\n",
    "# Define a Function to Login Twitter API\n",
    "def oauth_login():\n",
    "    # Go to http://twitter.com/apps/new to create an app and get values\n",
    "    # for these credentials that you'll need to provide in place of these\n",
    "    # empty string values that are defined as placeholders.\n",
    "    # See https://dev.twitter.com/docs/auth/oauth for more information \n",
    "    # on Twitter's OAuth implementation.\n",
    "    \n",
    "    CONSUMER_KEY = 'V5s2QI2uyCK2htBIbkT3T34ox'\n",
    "    CONSUMER_SECRET ='IPgFYZbdlnxJ2QwAtLEkAmKsjMvFQe7KGbajK3Y5bRiBLAd1tF'\n",
    "    OAUTH_TOKEN = '3062701068-13Ti6kCgN9uN7uvgi8h3CfmyeACWKwokNhBw228'\n",
    "    OAUTH_TOKEN_SECRET = 'FJyJuSIcPJi2Y4HWqCCMmRvi60wXPWuaHVLpxd6VMT0Yu'\n",
    "    \n",
    "    auth = twitter.oauth.OAuth(OAUTH_TOKEN, OAUTH_TOKEN_SECRET, CONSUMER_KEY, CONSUMER_SECRET)\n",
    "    \n",
    "    twitter_api = twitter.Twitter(auth=auth)\n",
    "    return twitter_api"
   ]
  },
  {
   "cell_type": "code",
   "execution_count": 13,
   "metadata": {
    "collapsed": false
   },
   "outputs": [],
   "source": [
    "# Function to save the json file into local drive for future reference\n",
    "\n",
    "def save_json(filename, data):\n",
    "    with io.open('{0}.json'.format(filename), \n",
    "                 'w', encoding='utf-8') as f:\n",
    "        f.write(unicode(json.dumps(data, ensure_ascii=False)))\n",
    "\n",
    "# Function to load the json file from local drive\n",
    "\n",
    "def load_json(filename):\n",
    "    with io.open('{0}.json'.format(filename), \n",
    "                 encoding='utf-8') as f:\n",
    "        return f.read()\n",
    "\n",
    "# Making a preety table \n",
    "    \n",
    "def make_table(label,data,count=maxint):\n",
    "    pt = PrettyTable(field_names=[label[0],label[1]])\n",
    "    for r in data:\n",
    "        if r[0] =='':continue\n",
    "        pt.add_row([r[0],r[1]])\n",
    "        pt.align[label[0]], pt.align[label[1]] = 'c', 'r' # Set column alignment\n",
    "    print pt\n",
    "    return"
   ]
  },
  {
   "cell_type": "code",
   "execution_count": 4,
   "metadata": {
    "collapsed": false
   },
   "outputs": [],
   "source": [
    "twitter_api = oauth_login()"
   ]
  },
  {
   "cell_type": "code",
   "execution_count": 8,
   "metadata": {
    "collapsed": false
   },
   "outputs": [
    {
     "name": "stderr",
     "output_type": "stream",
     "text": [
      "Fetched 100 total friends ids for Nike\n",
      "Fetched 5000 total followers ids for Nike\n"
     ]
    }
   ],
   "source": [
    "#----------------------------------------------\n",
    "# Your code starts here\n",
    "#   Please add comments or text cells in between to explain the general idea of each block of the code.\n",
    "#   Please feel free to add more cells below this cell if necessary\n",
    "def make_twitter_request(twitter_api_func, max_errors=10, *args, **kw):\n",
    "    def handle_twitter_http_error(e, wait_period=2, sleep_when_rate_limited=True):\n",
    "        if wait_period > 3600: # Seconds\n",
    "            print >> sys.stderr, 'Too many retries. Quitting.'\n",
    "            raise e\n",
    "        if e.e.code == 401:\n",
    "            print >> sys.stderr, 'Encountered 401 Error (Not Authorized)'\n",
    "            return None\n",
    "        elif e.e.code == 404:\n",
    "            print >> sys.stderr, 'Encountered 404 Error (Not Found)'\n",
    "            return None\n",
    "        elif e.e.code == 429:\n",
    "            print >> sys.stderr, 'Encountered 429 Error (Rate Limit Exceeded)'\n",
    "            if sleep_when_rate_limited:\n",
    "                print >> sys.stderr, \"Retrying in 15 minutes...ZzZ...\"\n",
    "                sys.stderr.flush()\n",
    "                time.sleep(60*15 + 5)\n",
    "                print >> sys.stderr, '...ZzZ...Awake now and trying again.'\n",
    "                return 2\n",
    "            else:\n",
    "                raise e # Caller must handle the rate limiting issue\n",
    "        elif e.e.code in (500, 502, 503, 504):\n",
    "            print >> sys.stderr, 'Encountered %i Error. Retrying in %i seconds' % \\\n",
    "            (e.e.code, wait_period)\n",
    "            time.sleep(wait_period)\n",
    "            wait_period *= 1.5\n",
    "            return wait_period\n",
    "        else:\n",
    "            raise e \n",
    "    wait_period = 2\n",
    "    error_count = 0\n",
    "    while True:\n",
    "        try:\n",
    "            return twitter_api_func(*args, **kw)\n",
    "        except twitter.api.TwitterHTTPError, e:\n",
    "            error_count = 0\n",
    "            wait_period = handle_twitter_http_error(e, wait_period)\n",
    "            if wait_period is None:\n",
    "                return\n",
    "        except URLError, e:\n",
    "            error_count += 1\n",
    "            print >> sys.stderr, \"URLError encountered. Continuing.\"\n",
    "            if error_count > max_errors:\n",
    "                print >> sys.stderr, \"Too many consecutive errors...bailing out.\"\n",
    "                raise\n",
    "        except BadStatusLine, e:\n",
    "            error_count += 1\n",
    "            print >> sys.stderr, \"BadStatusLine encountered. Continuing.\"\n",
    "            if error_count > max_errors:\n",
    "                print >> sys.stderr, \"Too many consecutive errors...bailing out.\"\n",
    "                raise\n",
    "\n",
    "\n",
    "def get_friends_followers(twitter_api, screen_name=None, user_id=None,\n",
    "                          limit=maxint, fr_or_fl = True,plimit = 100):\n",
    "    assert(screen_name !=None) != (user_id != None),\"Must have screen_name or user_id, but not both\"\n",
    "    if (fr_or_fl):\n",
    "        get_ids = partial(make_twitter_request, twitter_api.friends.ids,\n",
    "                              count=plimit)\n",
    "        label = \"friends\"\n",
    "    else:\n",
    "        get_ids = partial(make_twitter_request, twitter_api.followers.ids,\n",
    "                                count=plimit)\n",
    "        label = \"followers\"\n",
    "    result_ids = []\n",
    "    if limit == 0:return\n",
    "    cursor = -1\n",
    "    while cursor !=0:\n",
    "        if screen_name:\n",
    "            response = get_ids(screen_name = screen_name, cursor = cursor)\n",
    "        else:\n",
    "            response = get_ids(user_id=user_id, cursor=cursor)\n",
    "        if response is not None:\n",
    "            result_ids += response['ids']\n",
    "            cursor = response['next_cursor']\n",
    "        print >> sys.stderr, 'Fetched {0} total {1} ids for {2}'.format(len(result_ids),label, (user_id or screen_name))\n",
    "        if len(result_ids) >= limit or response is None:\n",
    "            break\n",
    "    return result_ids[:limit]\n",
    "\n",
    "\n",
    "friends_ids = get_friends_followers(twitter_api,screen_name=\"Nike\",limit=50,\n",
    "                                                   fr_or_fl=True,plimit = 100)\n",
    "followers_ids = get_friends_followers(twitter_api,screen_name=\"Nike\",limit=5000,\n",
    "                                                   fr_or_fl = False,plimit = 5000)"
   ]
  },
  {
   "cell_type": "code",
   "execution_count": 18,
   "metadata": {
    "collapsed": false
   },
   "outputs": [
    {
     "data": {
      "text/plain": [
       "[339530251,\n",
       " 1451390232,\n",
       " 310441671,\n",
       " 446410553,\n",
       " 20188504,\n",
       " 49565686,\n",
       " 618811816,\n",
       " 28764917,\n",
       " 1632755064,\n",
       " 459570927,\n",
       " 56337471,\n",
       " 945012014,\n",
       " 53447067,\n",
       " 794087815,\n",
       " 214584456,\n",
       " 737183868,\n",
       " 267061023,\n",
       " 551046830,\n",
       " 477442986,\n",
       " 1888986979,\n",
       " 244873413,\n",
       " 766231346,\n",
       " 241199445,\n",
       " 1129951758,\n",
       " 929532036,\n",
       " 246846985,\n",
       " 330091517,\n",
       " 708210458,\n",
       " 251828373,\n",
       " 1275811220,\n",
       " 275590213,\n",
       " 231305294,\n",
       " 124624985,\n",
       " 992140022,\n",
       " 219332006,\n",
       " 509288969,\n",
       " 28324031,\n",
       " 625067973,\n",
       " 1570847064,\n",
       " 1973989417,\n",
       " 620331987,\n",
       " 329077339,\n",
       " 146340115,\n",
       " 1040847247,\n",
       " 111588847,\n",
       " 594012180,\n",
       " 1523445073,\n",
       " 158434306,\n",
       " 428702574,\n",
       " 150513051,\n",
       " 1527529573,\n",
       " 265668224,\n",
       " 36888495,\n",
       " 502002243,\n",
       " 527029384,\n",
       " 451200505,\n",
       " 983061145,\n",
       " 768456416,\n",
       " 340775765,\n",
       " 1707547963,\n",
       " 1024309291,\n",
       " 267332736,\n",
       " 1720971487,\n",
       " 1538897461,\n",
       " 63382216,\n",
       " 490983789,\n",
       " 732406159,\n",
       " 1727022103,\n",
       " 855614892,\n",
       " 701935932,\n",
       " 570093647,\n",
       " 1099400719,\n",
       " 602936723,\n",
       " 21808524,\n",
       " 1264524391,\n",
       " 384971109,\n",
       " 516564029,\n",
       " 559720576,\n",
       " 824334727,\n",
       " 52253739,\n",
       " 395610814,\n",
       " 371513766,\n",
       " 1011918631,\n",
       " 179575702,\n",
       " 201044265,\n",
       " 35752213,\n",
       " 26823482,\n",
       " 22793219,\n",
       " 1764602790,\n",
       " 1155290534,\n",
       " 277503620,\n",
       " 1508062062,\n",
       " 1603957356,\n",
       " 172366463,\n",
       " 562240610,\n",
       " 257997785,\n",
       " 171664883,\n",
       " 310702244,\n",
       " 737768076,\n",
       " 243854382,\n",
       " 24796874,\n",
       " 1438356349,\n",
       " 1030238041,\n",
       " 940624669,\n",
       " 1630344410,\n",
       " 271601301,\n",
       " 340360397,\n",
       " 1855943461,\n",
       " 997259587,\n",
       " 161124913,\n",
       " 432500173,\n",
       " 364918201,\n",
       " 117479000,\n",
       " 259475565,\n",
       " 43112027,\n",
       " 36063241,\n",
       " 555896063,\n",
       " 15370140,\n",
       " 366970852,\n",
       " 829136064,\n",
       " 618867618,\n",
       " 1864435375,\n",
       " 608158960,\n",
       " 909949416,\n",
       " 1447491636,\n",
       " 1248962900,\n",
       " 365182442,\n",
       " 43597940,\n",
       " 1967754458,\n",
       " 1621683715,\n",
       " 382446449,\n",
       " 1023996530,\n",
       " 278147874,\n",
       " 1877021646,\n",
       " 263277317,\n",
       " 778984993,\n",
       " 447984414,\n",
       " 241808522,\n",
       " 86294875,\n",
       " 809871715,\n",
       " 123435131,\n",
       " 35096092,\n",
       " 497752640,\n",
       " 1876869842,\n",
       " 257850075,\n",
       " 1390981262,\n",
       " 363559834,\n",
       " 104573902,\n",
       " 379160853,\n",
       " 1061622247,\n",
       " 74514057,\n",
       " 390424491,\n",
       " 471657952,\n",
       " 129901526,\n",
       " 137585827,\n",
       " 541907609,\n",
       " 1526010535,\n",
       " 708664256,\n",
       " 575324429,\n",
       " 807126786,\n",
       " 1662835286,\n",
       " 520943035,\n",
       " 1228120752,\n",
       " 1000302883,\n",
       " 302657598,\n",
       " 484395870,\n",
       " 1004965777,\n",
       " 771852672,\n",
       " 1115045816,\n",
       " 357205472,\n",
       " 466182286,\n",
       " 456059987,\n",
       " 432816558,\n",
       " 1317023869,\n",
       " 321681586,\n",
       " 1647986430,\n",
       " 405475021,\n",
       " 540455286,\n",
       " 248917549,\n",
       " 613694461,\n",
       " 372587691,\n",
       " 19733472]"
      ]
     },
     "execution_count": 18,
     "metadata": {},
     "output_type": "execute_result"
    }
   ],
   "source": [
    "filtered_list = []\n",
    "count = 0\n",
    "# First , we filter all people that have a follower ration bigger than 1.2\n",
    "twitter_func = partial(make_twitter_request, twitter_api.users.lookup,\n",
    "                                    count=5000)\n",
    "for i in range(0,50):\n",
    "    tmp = twitter_func(user_id = followers_ids[i*100:(i+1)*100],include_user_entities = True)\n",
    "    r = [u['id'] for u in tmp if 1.0*u['followers_count']/u['friends_count'] > 1.2]\n",
    "    if len(filtered_list) + len(r) > 200:\n",
    "        break\n",
    "    else:\n",
    "        filtered_list += r\n",
    "filtered_list"
   ]
  },
  {
   "cell_type": "code",
   "execution_count": 19,
   "metadata": {
    "collapsed": false
   },
   "outputs": [
    {
     "data": {
      "text/plain": [
       "182"
      ]
     },
     "execution_count": 19,
     "metadata": {},
     "output_type": "execute_result"
    }
   ],
   "source": [
    "len(filtered_list)"
   ]
  },
  {
   "cell_type": "code",
   "execution_count": 20,
   "metadata": {
    "collapsed": false
   },
   "outputs": [
    {
     "name": "stderr",
     "output_type": "stream",
     "text": [
      "Fetched 387 total friends ids for 339530251\n",
      "Fetched 527 total followers ids for 339530251"
     ]
    },
    {
     "name": "stdout",
     "output_type": "stream",
     "text": [
      "now 339530251\n",
      "now"
     ]
    },
    {
     "name": "stderr",
     "output_type": "stream",
     "text": [
      "\n",
      "Fetched 433 total friends ids for 1451390232\n",
      "Fetched 1382 total followers ids for 1451390232"
     ]
    },
    {
     "name": "stdout",
     "output_type": "stream",
     "text": [
      " 1451390232\n",
      "now"
     ]
    },
    {
     "name": "stderr",
     "output_type": "stream",
     "text": [
      "\n",
      "Fetched 9 total friends ids for 310441671\n",
      "Fetched 14 total followers ids for 310441671"
     ]
    },
    {
     "name": "stdout",
     "output_type": "stream",
     "text": [
      " 310441671\n",
      "now"
     ]
    },
    {
     "name": "stderr",
     "output_type": "stream",
     "text": [
      "\n",
      "Fetched 65 total friends ids for 446410553\n",
      "Fetched 116 total followers ids for 446410553"
     ]
    },
    {
     "name": "stdout",
     "output_type": "stream",
     "text": [
      " 446410553\n",
      "now"
     ]
    },
    {
     "name": "stderr",
     "output_type": "stream",
     "text": [
      "\n",
      "Encountered 401 Error (Not Authorized)\n",
      "Fetched 0 total friends ids for 20188504\n",
      "Encountered 401 Error (Not Authorized)"
     ]
    },
    {
     "name": "stdout",
     "output_type": "stream",
     "text": [
      " 20188504\n",
      "now"
     ]
    },
    {
     "name": "stderr",
     "output_type": "stream",
     "text": [
      "\n",
      "Fetched 0 total followers ids for 20188504\n",
      "Fetched 66 total friends ids for 49565686\n",
      "Fetched 114 total followers ids for 49565686"
     ]
    },
    {
     "name": "stdout",
     "output_type": "stream",
     "text": [
      " 49565686\n",
      "now"
     ]
    },
    {
     "name": "stderr",
     "output_type": "stream",
     "text": [
      "\n",
      "Fetched 159 total friends ids for 618811816\n",
      "Fetched 2378 total followers ids for 618811816"
     ]
    },
    {
     "name": "stdout",
     "output_type": "stream",
     "text": [
      " 618811816\n",
      "now"
     ]
    },
    {
     "name": "stderr",
     "output_type": "stream",
     "text": [
      "\n",
      "Fetched 839 total friends ids for 28764917\n",
      "Fetched 5000 total followers ids for 28764917"
     ]
    },
    {
     "name": "stdout",
     "output_type": "stream",
     "text": [
      " 28764917\n",
      "now"
     ]
    },
    {
     "name": "stderr",
     "output_type": "stream",
     "text": [
      "\n",
      "Fetched 333 total friends ids for 1632755064\n",
      "Fetched 510 total followers ids for 1632755064"
     ]
    },
    {
     "name": "stdout",
     "output_type": "stream",
     "text": [
      " 1632755064\n",
      "now"
     ]
    },
    {
     "name": "stderr",
     "output_type": "stream",
     "text": [
      "\n",
      "Encountered 429 Error (Rate Limit Exceeded)\n",
      "Retrying in 15 minutes...ZzZ...\n",
      "...ZzZ...Awake now and trying again.\n",
      "Fetched 25 total friends ids for 459570927\n",
      "Fetched 5000 total followers ids for 459570927"
     ]
    },
    {
     "name": "stdout",
     "output_type": "stream",
     "text": [
      " 459570927\n",
      "now"
     ]
    },
    {
     "name": "stderr",
     "output_type": "stream",
     "text": [
      "\n",
      "Fetched 386 total friends ids for 56337471\n",
      "Fetched 574 total followers ids for 56337471"
     ]
    },
    {
     "name": "stdout",
     "output_type": "stream",
     "text": [
      " 56337471\n",
      "now"
     ]
    },
    {
     "name": "stderr",
     "output_type": "stream",
     "text": [
      "\n",
      "Fetched 59 total friends ids for 945012014\n",
      "Fetched 104 total followers ids for 945012014"
     ]
    },
    {
     "name": "stdout",
     "output_type": "stream",
     "text": [
      " 945012014\n",
      "now"
     ]
    },
    {
     "name": "stderr",
     "output_type": "stream",
     "text": [
      "\n",
      "Fetched 114 total friends ids for 53447067\n",
      "Fetched 354 total followers ids for 53447067"
     ]
    },
    {
     "name": "stdout",
     "output_type": "stream",
     "text": [
      " 53447067\n",
      "now"
     ]
    },
    {
     "name": "stderr",
     "output_type": "stream",
     "text": [
      "\n",
      "Fetched 443 total friends ids for 794087815\n",
      "Fetched 1753 total followers ids for 794087815"
     ]
    },
    {
     "name": "stdout",
     "output_type": "stream",
     "text": [
      " 794087815\n",
      "now"
     ]
    },
    {
     "name": "stderr",
     "output_type": "stream",
     "text": [
      "\n",
      "Fetched 30 total friends ids for 214584456\n",
      "Fetched 179 total followers ids for 214584456"
     ]
    },
    {
     "name": "stdout",
     "output_type": "stream",
     "text": [
      " 214584456\n",
      "now"
     ]
    },
    {
     "name": "stderr",
     "output_type": "stream",
     "text": [
      "\n",
      "Encountered 401 Error (Not Authorized)\n",
      "Fetched 0 total friends ids for 737183868\n",
      "Encountered 401 Error (Not Authorized)"
     ]
    },
    {
     "name": "stdout",
     "output_type": "stream",
     "text": [
      " 737183868\n",
      "now"
     ]
    },
    {
     "name": "stderr",
     "output_type": "stream",
     "text": [
      "\n",
      "Fetched 0 total followers ids for 737183868\n",
      "Fetched 743 total friends ids for 267061023\n",
      "Fetched 2717 total followers ids for 267061023"
     ]
    },
    {
     "name": "stdout",
     "output_type": "stream",
     "text": [
      " 267061023\n",
      "now"
     ]
    },
    {
     "name": "stderr",
     "output_type": "stream",
     "text": [
      "\n",
      "Fetched 200 total friends ids for 551046830\n",
      "Fetched 592 total followers ids for 551046830"
     ]
    },
    {
     "name": "stdout",
     "output_type": "stream",
     "text": [
      " 551046830\n",
      "now"
     ]
    },
    {
     "name": "stderr",
     "output_type": "stream",
     "text": [
      "\n",
      "Fetched 900 total friends ids for 477442986\n",
      "Fetched 1394 total followers ids for 477442986"
     ]
    },
    {
     "name": "stdout",
     "output_type": "stream",
     "text": [
      " 477442986\n",
      "now"
     ]
    },
    {
     "name": "stderr",
     "output_type": "stream",
     "text": [
      "\n",
      "Fetched 346 total friends ids for 1888986979\n",
      "Fetched 468 total followers ids for 1888986979"
     ]
    },
    {
     "name": "stdout",
     "output_type": "stream",
     "text": [
      " 1888986979\n",
      "now"
     ]
    },
    {
     "name": "stderr",
     "output_type": "stream",
     "text": [
      "\n",
      "Fetched 666 total friends ids for 244873413\n",
      "Fetched 5000 total followers ids for 244873413"
     ]
    },
    {
     "name": "stdout",
     "output_type": "stream",
     "text": [
      " 244873413\n",
      "now"
     ]
    },
    {
     "name": "stderr",
     "output_type": "stream",
     "text": [
      "\n",
      "Fetched 16 total friends ids for 766231346\n",
      "Fetched 98 total followers ids for 766231346"
     ]
    },
    {
     "name": "stdout",
     "output_type": "stream",
     "text": [
      " 766231346\n",
      "now"
     ]
    },
    {
     "name": "stderr",
     "output_type": "stream",
     "text": [
      "\n",
      "Fetched 467 total friends ids for 241199445\n",
      "Fetched 566 total followers ids for 241199445"
     ]
    },
    {
     "name": "stdout",
     "output_type": "stream",
     "text": [
      " 241199445\n",
      "now"
     ]
    },
    {
     "name": "stderr",
     "output_type": "stream",
     "text": [
      "\n",
      "Fetched 130 total friends ids for 1129951758\n",
      "Fetched 291 total followers ids for 1129951758"
     ]
    },
    {
     "name": "stdout",
     "output_type": "stream",
     "text": [
      " 1129951758\n",
      "now"
     ]
    },
    {
     "name": "stderr",
     "output_type": "stream",
     "text": [
      "\n",
      "Encountered 429 Error (Rate Limit Exceeded)\n",
      "Retrying in 15 minutes...ZzZ...\n",
      "...ZzZ...Awake now and trying again.\n",
      "Encountered 401 Error (Not Authorized)\n",
      "Fetched 0 total friends ids for 929532036\n",
      "Encountered 401 Error (Not Authorized)"
     ]
    },
    {
     "name": "stdout",
     "output_type": "stream",
     "text": [
      " 929532036\n",
      "now"
     ]
    },
    {
     "name": "stderr",
     "output_type": "stream",
     "text": [
      "\n",
      "Fetched 0 total followers ids for 929532036\n",
      "Fetched 79 total friends ids for 246846985\n",
      "Fetched 4471 total followers ids for 246846985"
     ]
    },
    {
     "name": "stdout",
     "output_type": "stream",
     "text": [
      " 246846985\n",
      "now"
     ]
    },
    {
     "name": "stderr",
     "output_type": "stream",
     "text": [
      "\n",
      "Fetched 294 total friends ids for 330091517\n",
      "Fetched 740 total followers ids for 330091517"
     ]
    },
    {
     "name": "stdout",
     "output_type": "stream",
     "text": [
      " 330091517\n",
      "now"
     ]
    },
    {
     "name": "stderr",
     "output_type": "stream",
     "text": [
      "\n",
      "Fetched 95 total friends ids for 708210458\n",
      "Fetched 227 total followers ids for 708210458"
     ]
    },
    {
     "name": "stdout",
     "output_type": "stream",
     "text": [
      " 708210458\n",
      "now"
     ]
    },
    {
     "name": "stderr",
     "output_type": "stream",
     "text": [
      "\n",
      "Fetched 128 total friends ids for 251828373\n",
      "Fetched 194 total followers ids for 251828373"
     ]
    },
    {
     "name": "stdout",
     "output_type": "stream",
     "text": [
      " 251828373\n",
      "now"
     ]
    },
    {
     "name": "stderr",
     "output_type": "stream",
     "text": [
      "\n",
      "Fetched 879 total friends ids for 1275811220\n",
      "Fetched 5000 total followers ids for 1275811220"
     ]
    },
    {
     "name": "stdout",
     "output_type": "stream",
     "text": [
      " 1275811220\n",
      "now"
     ]
    },
    {
     "name": "stderr",
     "output_type": "stream",
     "text": [
      "\n",
      "Fetched 298 total friends ids for 275590213\n",
      "Fetched 603 total followers ids for 275590213"
     ]
    },
    {
     "name": "stdout",
     "output_type": "stream",
     "text": [
      " 275590213\n",
      "now"
     ]
    },
    {
     "name": "stderr",
     "output_type": "stream",
     "text": [
      "\n",
      "Fetched 310 total friends ids for 231305294\n",
      "Fetched 534 total followers ids for 231305294"
     ]
    },
    {
     "name": "stdout",
     "output_type": "stream",
     "text": [
      " 231305294\n",
      "now"
     ]
    },
    {
     "name": "stderr",
     "output_type": "stream",
     "text": [
      "\n",
      "Encountered 401 Error (Not Authorized)\n",
      "Fetched 0 total friends ids for 124624985\n",
      "Encountered 401 Error (Not Authorized)"
     ]
    },
    {
     "name": "stdout",
     "output_type": "stream",
     "text": [
      " 124624985\n",
      "now"
     ]
    },
    {
     "name": "stderr",
     "output_type": "stream",
     "text": [
      "\n",
      "Fetched 0 total followers ids for 124624985\n",
      "Encountered 401 Error (Not Authorized)\n",
      "Fetched 0 total friends ids for 992140022\n",
      "Encountered 401 Error (Not Authorized)"
     ]
    },
    {
     "name": "stdout",
     "output_type": "stream",
     "text": [
      " 992140022\n",
      "now"
     ]
    },
    {
     "name": "stderr",
     "output_type": "stream",
     "text": [
      "\n",
      "Fetched 0 total followers ids for 992140022\n",
      "Fetched 201 total friends ids for 219332006\n",
      "Fetched 370 total followers ids for 219332006"
     ]
    },
    {
     "name": "stdout",
     "output_type": "stream",
     "text": [
      " 219332006\n",
      "now"
     ]
    },
    {
     "name": "stderr",
     "output_type": "stream",
     "text": [
      "\n",
      "Fetched 148 total friends ids for 509288969\n",
      "Fetched 358 total followers ids for 509288969"
     ]
    },
    {
     "name": "stdout",
     "output_type": "stream",
     "text": [
      " 509288969\n",
      "now"
     ]
    },
    {
     "name": "stderr",
     "output_type": "stream",
     "text": [
      "\n",
      "Fetched 502 total friends ids for 28324031\n",
      "Fetched 2420 total followers ids for 28324031"
     ]
    },
    {
     "name": "stdout",
     "output_type": "stream",
     "text": [
      " 28324031\n",
      "now"
     ]
    },
    {
     "name": "stderr",
     "output_type": "stream",
     "text": [
      "\n",
      "Fetched 352 total friends ids for 625067973\n",
      "Fetched 1066 total followers ids for 625067973"
     ]
    },
    {
     "name": "stdout",
     "output_type": "stream",
     "text": [
      " 625067973\n",
      "now"
     ]
    },
    {
     "name": "stderr",
     "output_type": "stream",
     "text": [
      "\n",
      "Fetched 275 total friends ids for 1570847064\n",
      "Fetched 1000 total followers ids for 1570847064"
     ]
    },
    {
     "name": "stdout",
     "output_type": "stream",
     "text": [
      " 1570847064\n",
      "now"
     ]
    },
    {
     "name": "stderr",
     "output_type": "stream",
     "text": [
      "\n",
      "Encountered 429 Error (Rate Limit Exceeded)\n",
      "Retrying in 15 minutes...ZzZ...\n",
      "...ZzZ...Awake now and trying again.\n",
      "Encountered 401 Error (Not Authorized)\n",
      "Fetched 0 total friends ids for 1973989417\n",
      "Encountered 401 Error (Not Authorized)"
     ]
    },
    {
     "name": "stdout",
     "output_type": "stream",
     "text": [
      " 1973989417\n",
      "now"
     ]
    },
    {
     "name": "stderr",
     "output_type": "stream",
     "text": [
      "\n",
      "Fetched 0 total followers ids for 1973989417\n",
      "Fetched 170 total friends ids for 620331987\n",
      "Fetched 259 total followers ids for 620331987"
     ]
    },
    {
     "name": "stdout",
     "output_type": "stream",
     "text": [
      " 620331987\n",
      "now"
     ]
    },
    {
     "name": "stderr",
     "output_type": "stream",
     "text": [
      "\n",
      "Fetched 359 total friends ids for 329077339\n",
      "Fetched 747 total followers ids for 329077339"
     ]
    },
    {
     "name": "stdout",
     "output_type": "stream",
     "text": [
      " 329077339\n",
      "now"
     ]
    },
    {
     "name": "stderr",
     "output_type": "stream",
     "text": [
      "\n",
      "Fetched 103 total friends ids for 146340115\n",
      "Fetched 161 total followers ids for 146340115"
     ]
    },
    {
     "name": "stdout",
     "output_type": "stream",
     "text": [
      " 146340115\n",
      "now"
     ]
    },
    {
     "name": "stderr",
     "output_type": "stream",
     "text": [
      "\n",
      "Fetched 100 total friends ids for 1040847247\n",
      "Fetched 166 total followers ids for 1040847247"
     ]
    },
    {
     "name": "stdout",
     "output_type": "stream",
     "text": [
      " 1040847247\n",
      "now"
     ]
    },
    {
     "name": "stderr",
     "output_type": "stream",
     "text": [
      "\n",
      "Fetched 310 total friends ids for 111588847\n",
      "Fetched 390 total followers ids for 111588847"
     ]
    },
    {
     "name": "stdout",
     "output_type": "stream",
     "text": [
      " 111588847\n",
      "now"
     ]
    },
    {
     "name": "stderr",
     "output_type": "stream",
     "text": [
      "\n",
      "Fetched 312 total friends ids for 594012180\n",
      "Fetched 5000 total followers ids for 594012180"
     ]
    },
    {
     "name": "stdout",
     "output_type": "stream",
     "text": [
      " 594012180\n",
      "now"
     ]
    },
    {
     "name": "stderr",
     "output_type": "stream",
     "text": [
      "\n",
      "Fetched 105 total friends ids for 1523445073\n",
      "Fetched 133 total followers ids for 1523445073"
     ]
    },
    {
     "name": "stdout",
     "output_type": "stream",
     "text": [
      " 1523445073\n",
      "now"
     ]
    },
    {
     "name": "stderr",
     "output_type": "stream",
     "text": [
      "\n",
      "Fetched 96 total friends ids for 158434306\n",
      "Fetched 546 total followers ids for 158434306"
     ]
    },
    {
     "name": "stdout",
     "output_type": "stream",
     "text": [
      " 158434306\n",
      "now"
     ]
    },
    {
     "name": "stderr",
     "output_type": "stream",
     "text": [
      "\n",
      "Fetched 29 total friends ids for 428702574\n",
      "Fetched 236 total followers ids for 428702574"
     ]
    },
    {
     "name": "stdout",
     "output_type": "stream",
     "text": [
      " 428702574\n",
      "now"
     ]
    },
    {
     "name": "stderr",
     "output_type": "stream",
     "text": [
      "\n",
      "Fetched 936 total friends ids for 150513051\n",
      "Fetched 2008 total followers ids for 150513051"
     ]
    },
    {
     "name": "stdout",
     "output_type": "stream",
     "text": [
      " 150513051\n",
      "now"
     ]
    },
    {
     "name": "stderr",
     "output_type": "stream",
     "text": [
      "\n",
      "Fetched 79 total friends ids for 1527529573\n",
      "Fetched 165 total followers ids for 1527529573"
     ]
    },
    {
     "name": "stdout",
     "output_type": "stream",
     "text": [
      " 1527529573\n",
      "now"
     ]
    },
    {
     "name": "stderr",
     "output_type": "stream",
     "text": [
      "\n",
      "Fetched 5000 total friends ids for 265668224\n",
      "Fetched 5000 total followers ids for 265668224"
     ]
    },
    {
     "name": "stdout",
     "output_type": "stream",
     "text": [
      " 265668224\n",
      "now"
     ]
    },
    {
     "name": "stderr",
     "output_type": "stream",
     "text": [
      "\n",
      "Fetched 2734 total friends ids for 36888495\n",
      "Fetched 5000 total followers ids for 36888495"
     ]
    },
    {
     "name": "stdout",
     "output_type": "stream",
     "text": [
      " 36888495\n",
      "now"
     ]
    },
    {
     "name": "stderr",
     "output_type": "stream",
     "text": [
      "\n",
      "Fetched 171 total friends ids for 502002243\n",
      "Fetched 238 total followers ids for 502002243"
     ]
    },
    {
     "name": "stdout",
     "output_type": "stream",
     "text": [
      " 502002243\n",
      "now"
     ]
    },
    {
     "name": "stderr",
     "output_type": "stream",
     "text": [
      "\n",
      "Encountered 429 Error (Rate Limit Exceeded)\n",
      "Retrying in 15 minutes...ZzZ...\n",
      "...ZzZ...Awake now and trying again.\n",
      "Fetched 382 total friends ids for 527029384\n",
      "Fetched 5000 total followers ids for 527029384"
     ]
    },
    {
     "name": "stdout",
     "output_type": "stream",
     "text": [
      " 527029384\n",
      "now"
     ]
    },
    {
     "name": "stderr",
     "output_type": "stream",
     "text": [
      "\n",
      "Fetched 2525 total friends ids for 451200505\n",
      "Fetched 5000 total followers ids for 451200505"
     ]
    },
    {
     "name": "stdout",
     "output_type": "stream",
     "text": [
      " 451200505\n",
      "now"
     ]
    },
    {
     "name": "stderr",
     "output_type": "stream",
     "text": [
      "\n",
      "Fetched 720 total friends ids for 983061145\n",
      "Fetched 991 total followers ids for 983061145"
     ]
    },
    {
     "name": "stdout",
     "output_type": "stream",
     "text": [
      " 983061145\n",
      "now"
     ]
    },
    {
     "name": "stderr",
     "output_type": "stream",
     "text": [
      "\n",
      "Fetched 145 total friends ids for 768456416\n",
      "Fetched 224 total followers ids for 768456416"
     ]
    },
    {
     "name": "stdout",
     "output_type": "stream",
     "text": [
      " 768456416\n",
      "now"
     ]
    },
    {
     "name": "stderr",
     "output_type": "stream",
     "text": [
      "\n",
      "Fetched 318 total friends ids for 340775765\n",
      "Fetched 454 total followers ids for 340775765"
     ]
    },
    {
     "name": "stdout",
     "output_type": "stream",
     "text": [
      " 340775765\n",
      "now"
     ]
    },
    {
     "name": "stderr",
     "output_type": "stream",
     "text": [
      "\n",
      "Fetched 2 total friends ids for 1707547963\n",
      "Fetched 23 total followers ids for 1707547963"
     ]
    },
    {
     "name": "stdout",
     "output_type": "stream",
     "text": [
      " 1707547963\n",
      "now"
     ]
    },
    {
     "name": "stderr",
     "output_type": "stream",
     "text": [
      "\n",
      "Fetched 235 total friends ids for 1024309291\n",
      "Fetched 402 total followers ids for 1024309291"
     ]
    },
    {
     "name": "stdout",
     "output_type": "stream",
     "text": [
      " 1024309291\n",
      "now"
     ]
    },
    {
     "name": "stderr",
     "output_type": "stream",
     "text": [
      "\n",
      "Fetched 3516 total friends ids for 267332736\n",
      "Fetched 5000 total followers ids for 267332736"
     ]
    },
    {
     "name": "stdout",
     "output_type": "stream",
     "text": [
      " 267332736\n",
      "now"
     ]
    },
    {
     "name": "stderr",
     "output_type": "stream",
     "text": [
      "\n",
      "Encountered 401 Error (Not Authorized)\n",
      "Fetched 0 total friends ids for 1720971487\n",
      "Encountered 401 Error (Not Authorized)"
     ]
    },
    {
     "name": "stdout",
     "output_type": "stream",
     "text": [
      " 1720971487\n",
      "now"
     ]
    },
    {
     "name": "stderr",
     "output_type": "stream",
     "text": [
      "\n",
      "Fetched 0 total followers ids for 1720971487\n",
      "Fetched 1846 total friends ids for 1538897461\n",
      "Fetched 2411 total followers ids for 1538897461"
     ]
    },
    {
     "name": "stdout",
     "output_type": "stream",
     "text": [
      " 1538897461\n",
      "now"
     ]
    },
    {
     "name": "stderr",
     "output_type": "stream",
     "text": [
      "\n",
      "Fetched 487 total friends ids for 63382216\n",
      "Fetched 2266 total followers ids for 63382216"
     ]
    },
    {
     "name": "stdout",
     "output_type": "stream",
     "text": [
      " 63382216\n",
      "now"
     ]
    },
    {
     "name": "stderr",
     "output_type": "stream",
     "text": [
      "\n",
      "Fetched 327 total friends ids for 490983789\n",
      "Fetched 395 total followers ids for 490983789"
     ]
    },
    {
     "name": "stdout",
     "output_type": "stream",
     "text": [
      " 490983789\n",
      "now"
     ]
    },
    {
     "name": "stderr",
     "output_type": "stream",
     "text": [
      "\n",
      "Fetched 570 total friends ids for 732406159\n",
      "Fetched 2124 total followers ids for 732406159"
     ]
    },
    {
     "name": "stdout",
     "output_type": "stream",
     "text": [
      " 732406159\n",
      "now"
     ]
    },
    {
     "name": "stderr",
     "output_type": "stream",
     "text": [
      "\n",
      "Fetched 121 total friends ids for 1727022103\n",
      "Fetched 163 total followers ids for 1727022103"
     ]
    },
    {
     "name": "stdout",
     "output_type": "stream",
     "text": [
      " 1727022103\n",
      "now"
     ]
    },
    {
     "name": "stderr",
     "output_type": "stream",
     "text": [
      "\n",
      "Fetched 355 total friends ids for 855614892\n",
      "Fetched 452 total followers ids for 855614892"
     ]
    },
    {
     "name": "stdout",
     "output_type": "stream",
     "text": [
      " 855614892\n",
      "now"
     ]
    },
    {
     "name": "stderr",
     "output_type": "stream",
     "text": [
      "\n",
      "Encountered 429 Error (Rate Limit Exceeded)\n",
      "Retrying in 15 minutes...ZzZ...\n",
      "...ZzZ...Awake now and trying again.\n",
      "Fetched 899 total friends ids for 701935932\n",
      "Fetched 1341 total followers ids for 701935932"
     ]
    },
    {
     "name": "stdout",
     "output_type": "stream",
     "text": [
      " 701935932\n",
      "now"
     ]
    },
    {
     "name": "stderr",
     "output_type": "stream",
     "text": [
      "\n",
      "Fetched 857 total friends ids for 570093647\n",
      "Fetched 5000 total followers ids for 570093647"
     ]
    },
    {
     "name": "stdout",
     "output_type": "stream",
     "text": [
      " 570093647\n",
      "now"
     ]
    },
    {
     "name": "stderr",
     "output_type": "stream",
     "text": [
      "\n",
      "Fetched 117 total friends ids for 1099400719\n",
      "Fetched 206 total followers ids for 1099400719"
     ]
    },
    {
     "name": "stdout",
     "output_type": "stream",
     "text": [
      " 1099400719\n",
      "now"
     ]
    },
    {
     "name": "stderr",
     "output_type": "stream",
     "text": [
      "\n",
      "Fetched 136 total friends ids for 602936723\n",
      "Fetched 200 total followers ids for 602936723"
     ]
    },
    {
     "name": "stdout",
     "output_type": "stream",
     "text": [
      " 602936723\n",
      "now"
     ]
    },
    {
     "name": "stderr",
     "output_type": "stream",
     "text": [
      "\n",
      "Fetched 203 total friends ids for 21808524\n",
      "Fetched 586 total followers ids for 21808524"
     ]
    },
    {
     "name": "stdout",
     "output_type": "stream",
     "text": [
      " 21808524\n",
      "now"
     ]
    },
    {
     "name": "stderr",
     "output_type": "stream",
     "text": [
      "\n",
      "Encountered 401 Error (Not Authorized)\n",
      "Fetched 0 total friends ids for 1264524391\n",
      "Encountered 401 Error (Not Authorized)"
     ]
    },
    {
     "name": "stdout",
     "output_type": "stream",
     "text": [
      " 1264524391\n",
      "now"
     ]
    },
    {
     "name": "stderr",
     "output_type": "stream",
     "text": [
      "\n",
      "Fetched 0 total followers ids for 1264524391\n",
      "Encountered 401 Error (Not Authorized)\n",
      "Fetched 0 total friends ids for 384971109\n",
      "Encountered 401 Error (Not Authorized)"
     ]
    },
    {
     "name": "stdout",
     "output_type": "stream",
     "text": [
      " 384971109\n",
      "now"
     ]
    },
    {
     "name": "stderr",
     "output_type": "stream",
     "text": [
      "\n",
      "Fetched 0 total followers ids for 384971109\n",
      "Fetched 177 total friends ids for 516564029\n",
      "Fetched 248 total followers ids for 516564029"
     ]
    },
    {
     "name": "stdout",
     "output_type": "stream",
     "text": [
      " 516564029\n",
      "now"
     ]
    },
    {
     "name": "stderr",
     "output_type": "stream",
     "text": [
      "\n",
      "Fetched 253 total friends ids for 559720576\n",
      "Fetched 1152 total followers ids for 559720576"
     ]
    },
    {
     "name": "stdout",
     "output_type": "stream",
     "text": [
      " 559720576\n",
      "now"
     ]
    },
    {
     "name": "stderr",
     "output_type": "stream",
     "text": [
      "\n",
      "Fetched 481 total friends ids for 824334727\n",
      "Fetched 764 total followers ids for 824334727"
     ]
    },
    {
     "name": "stdout",
     "output_type": "stream",
     "text": [
      " 824334727\n",
      "now"
     ]
    },
    {
     "name": "stderr",
     "output_type": "stream",
     "text": [
      "\n",
      "Fetched 458 total friends ids for 52253739\n",
      "Fetched 2688 total followers ids for 52253739"
     ]
    },
    {
     "name": "stdout",
     "output_type": "stream",
     "text": [
      " 52253739\n",
      "now"
     ]
    },
    {
     "name": "stderr",
     "output_type": "stream",
     "text": [
      "\n",
      "Fetched 452 total friends ids for 395610814\n",
      "Fetched 941 total followers ids for 395610814"
     ]
    },
    {
     "name": "stdout",
     "output_type": "stream",
     "text": [
      " 395610814\n",
      "now"
     ]
    },
    {
     "name": "stderr",
     "output_type": "stream",
     "text": [
      "\n",
      "Fetched 46 total friends ids for 371513766\n",
      "Fetched 248 total followers ids for 371513766"
     ]
    },
    {
     "name": "stdout",
     "output_type": "stream",
     "text": [
      " 371513766\n",
      "now"
     ]
    },
    {
     "name": "stderr",
     "output_type": "stream",
     "text": [
      "\n",
      "Encountered 401 Error (Not Authorized)\n",
      "Fetched 0 total friends ids for 1011918631\n",
      "Encountered 401 Error (Not Authorized)"
     ]
    },
    {
     "name": "stdout",
     "output_type": "stream",
     "text": [
      " 1011918631\n",
      "now"
     ]
    },
    {
     "name": "stderr",
     "output_type": "stream",
     "text": [
      "\n",
      "Fetched 0 total followers ids for 1011918631\n",
      "Fetched 204 total friends ids for 179575702\n",
      "Fetched 272 total followers ids for 179575702"
     ]
    },
    {
     "name": "stdout",
     "output_type": "stream",
     "text": [
      " 179575702\n",
      "now"
     ]
    },
    {
     "name": "stderr",
     "output_type": "stream",
     "text": [
      "\n",
      "Encountered 429 Error (Rate Limit Exceeded)\n",
      "Retrying in 15 minutes...ZzZ...\n",
      "...ZzZ...Awake now and trying again.\n",
      "Fetched 210 total friends ids for 201044265\n",
      "Fetched 2510 total followers ids for 201044265"
     ]
    },
    {
     "name": "stdout",
     "output_type": "stream",
     "text": [
      " 201044265\n",
      "now"
     ]
    },
    {
     "name": "stderr",
     "output_type": "stream",
     "text": [
      "\n",
      "Fetched 499 total friends ids for 35752213\n",
      "Fetched 738 total followers ids for 35752213"
     ]
    },
    {
     "name": "stdout",
     "output_type": "stream",
     "text": [
      " 35752213\n",
      "now"
     ]
    },
    {
     "name": "stderr",
     "output_type": "stream",
     "text": [
      "\n",
      "Fetched 86 total friends ids for 26823482\n",
      "Fetched 625 total followers ids for 26823482"
     ]
    },
    {
     "name": "stdout",
     "output_type": "stream",
     "text": [
      " 26823482\n",
      "now"
     ]
    },
    {
     "name": "stderr",
     "output_type": "stream",
     "text": [
      "\n",
      "Fetched 747 total friends ids for 22793219\n",
      "Fetched 1498 total followers ids for 22793219"
     ]
    },
    {
     "name": "stdout",
     "output_type": "stream",
     "text": [
      " 22793219\n",
      "now"
     ]
    },
    {
     "name": "stderr",
     "output_type": "stream",
     "text": [
      "\n",
      "Fetched 36 total friends ids for 1764602790\n",
      "Fetched 49 total followers ids for 1764602790"
     ]
    },
    {
     "name": "stdout",
     "output_type": "stream",
     "text": [
      " 1764602790\n",
      "now"
     ]
    },
    {
     "name": "stderr",
     "output_type": "stream",
     "text": [
      "\n",
      "Fetched 117 total friends ids for 1155290534\n",
      "Fetched 176 total followers ids for 1155290534"
     ]
    },
    {
     "name": "stdout",
     "output_type": "stream",
     "text": [
      " 1155290534\n",
      "now"
     ]
    },
    {
     "name": "stderr",
     "output_type": "stream",
     "text": [
      "\n",
      "Fetched 1462 total friends ids for 277503620\n",
      "Fetched 2566 total followers ids for 277503620"
     ]
    },
    {
     "name": "stdout",
     "output_type": "stream",
     "text": [
      " 277503620\n",
      "now"
     ]
    },
    {
     "name": "stderr",
     "output_type": "stream",
     "text": [
      "\n",
      "Fetched 190 total friends ids for 1508062062\n",
      "Fetched 907 total followers ids for 1508062062"
     ]
    },
    {
     "name": "stdout",
     "output_type": "stream",
     "text": [
      " 1508062062\n",
      "now"
     ]
    },
    {
     "name": "stderr",
     "output_type": "stream",
     "text": [
      "\n",
      "Fetched 490 total friends ids for 1603957356\n",
      "Fetched 636 total followers ids for 1603957356"
     ]
    },
    {
     "name": "stdout",
     "output_type": "stream",
     "text": [
      " 1603957356\n",
      "now"
     ]
    },
    {
     "name": "stderr",
     "output_type": "stream",
     "text": [
      "\n",
      "Encountered 401 Error (Not Authorized)\n",
      "Fetched 0 total friends ids for 172366463\n",
      "Encountered 401 Error (Not Authorized)"
     ]
    },
    {
     "name": "stdout",
     "output_type": "stream",
     "text": [
      " 172366463\n",
      "now"
     ]
    },
    {
     "name": "stderr",
     "output_type": "stream",
     "text": [
      "\n",
      "Fetched 0 total followers ids for 172366463\n",
      "Fetched 770 total friends ids for 562240610\n",
      "Fetched 1305 total followers ids for 562240610"
     ]
    },
    {
     "name": "stdout",
     "output_type": "stream",
     "text": [
      " 562240610\n",
      "now"
     ]
    },
    {
     "name": "stderr",
     "output_type": "stream",
     "text": [
      "\n",
      "Fetched 349 total friends ids for 257997785\n",
      "Fetched 634 total followers ids for 257997785"
     ]
    },
    {
     "name": "stdout",
     "output_type": "stream",
     "text": [
      " 257997785\n",
      "now"
     ]
    },
    {
     "name": "stderr",
     "output_type": "stream",
     "text": [
      "\n",
      "Fetched 979 total friends ids for 171664883\n",
      "Fetched 3931 total followers ids for 171664883"
     ]
    },
    {
     "name": "stdout",
     "output_type": "stream",
     "text": [
      " 171664883\n",
      "now"
     ]
    },
    {
     "name": "stderr",
     "output_type": "stream",
     "text": [
      "\n",
      "Fetched 472 total friends ids for 310702244\n",
      "Fetched 577 total followers ids for 310702244"
     ]
    },
    {
     "name": "stdout",
     "output_type": "stream",
     "text": [
      " 310702244\n",
      "now"
     ]
    },
    {
     "name": "stderr",
     "output_type": "stream",
     "text": [
      "\n",
      "Fetched 194 total friends ids for 737768076\n",
      "Fetched 240 total followers ids for 737768076"
     ]
    },
    {
     "name": "stdout",
     "output_type": "stream",
     "text": [
      " 737768076\n",
      "now"
     ]
    },
    {
     "name": "stderr",
     "output_type": "stream",
     "text": [
      "\n",
      "Encountered 429 Error (Rate Limit Exceeded)\n",
      "Retrying in 15 minutes...ZzZ...\n",
      "...ZzZ...Awake now and trying again.\n",
      "Fetched 137 total friends ids for 243854382\n",
      "Fetched 278 total followers ids for 243854382"
     ]
    },
    {
     "name": "stdout",
     "output_type": "stream",
     "text": [
      " 243854382\n",
      "now"
     ]
    },
    {
     "name": "stderr",
     "output_type": "stream",
     "text": [
      "\n",
      "Fetched 435 total friends ids for 24796874\n",
      "Fetched 977 total followers ids for 24796874"
     ]
    },
    {
     "name": "stdout",
     "output_type": "stream",
     "text": [
      " 24796874\n",
      "now"
     ]
    },
    {
     "name": "stderr",
     "output_type": "stream",
     "text": [
      "\n",
      "Fetched 354 total friends ids for 1438356349\n",
      "Fetched 456 total followers ids for 1438356349"
     ]
    },
    {
     "name": "stdout",
     "output_type": "stream",
     "text": [
      " 1438356349\n",
      "now"
     ]
    },
    {
     "name": "stderr",
     "output_type": "stream",
     "text": [
      "\n",
      "Encountered 401 Error (Not Authorized)\n",
      "Fetched 0 total friends ids for 1030238041\n",
      "Encountered 401 Error (Not Authorized)"
     ]
    },
    {
     "name": "stdout",
     "output_type": "stream",
     "text": [
      " 1030238041\n",
      "now"
     ]
    },
    {
     "name": "stderr",
     "output_type": "stream",
     "text": [
      "\n",
      "Fetched 0 total followers ids for 1030238041\n",
      "Encountered 401 Error (Not Authorized)\n",
      "Fetched 0 total friends ids for 940624669\n",
      "Encountered 401 Error (Not Authorized)"
     ]
    },
    {
     "name": "stdout",
     "output_type": "stream",
     "text": [
      " 940624669\n",
      "now"
     ]
    },
    {
     "name": "stderr",
     "output_type": "stream",
     "text": [
      "\n",
      "Fetched 0 total followers ids for 940624669\n",
      "Encountered 401 Error (Not Authorized)\n",
      "Fetched 0 total friends ids for 1630344410\n",
      "Encountered 401 Error (Not Authorized)"
     ]
    },
    {
     "name": "stdout",
     "output_type": "stream",
     "text": [
      " 1630344410\n",
      "now"
     ]
    },
    {
     "name": "stderr",
     "output_type": "stream",
     "text": [
      "\n",
      "Fetched 0 total followers ids for 1630344410\n",
      "Fetched 303 total friends ids for 271601301\n",
      "Fetched 518 total followers ids for 271601301"
     ]
    },
    {
     "name": "stdout",
     "output_type": "stream",
     "text": [
      " 271601301\n",
      "now"
     ]
    },
    {
     "name": "stderr",
     "output_type": "stream",
     "text": [
      "\n",
      "Fetched 3350 total friends ids for 340360397\n",
      "Fetched 5000 total followers ids for 340360397"
     ]
    },
    {
     "name": "stdout",
     "output_type": "stream",
     "text": [
      " 340360397\n",
      "now"
     ]
    },
    {
     "name": "stderr",
     "output_type": "stream",
     "text": [
      "\n",
      "Fetched 242 total friends ids for 1855943461\n",
      "Fetched 298 total followers ids for 1855943461"
     ]
    },
    {
     "name": "stdout",
     "output_type": "stream",
     "text": [
      " 1855943461\n",
      "now"
     ]
    },
    {
     "name": "stderr",
     "output_type": "stream",
     "text": [
      "\n",
      "Fetched 87 total friends ids for 997259587\n",
      "Fetched 112 total followers ids for 997259587"
     ]
    },
    {
     "name": "stdout",
     "output_type": "stream",
     "text": [
      " 997259587\n",
      "now"
     ]
    },
    {
     "name": "stderr",
     "output_type": "stream",
     "text": [
      "\n",
      "Fetched 10 total friends ids for 161124913\n",
      "Fetched 17 total followers ids for 161124913"
     ]
    },
    {
     "name": "stdout",
     "output_type": "stream",
     "text": [
      " 161124913\n",
      "now"
     ]
    },
    {
     "name": "stderr",
     "output_type": "stream",
     "text": [
      "\n",
      "Fetched 44 total friends ids for 432500173\n",
      "Fetched 167 total followers ids for 432500173"
     ]
    },
    {
     "name": "stdout",
     "output_type": "stream",
     "text": [
      " 432500173\n",
      "now"
     ]
    },
    {
     "name": "stderr",
     "output_type": "stream",
     "text": [
      "\n",
      "Fetched 294 total friends ids for 364918201\n",
      "Fetched 356 total followers ids for 364918201"
     ]
    },
    {
     "name": "stdout",
     "output_type": "stream",
     "text": [
      " 364918201\n",
      "now"
     ]
    },
    {
     "name": "stderr",
     "output_type": "stream",
     "text": [
      "\n",
      "Fetched 23 total friends ids for 117479000\n",
      "Fetched 46 total followers ids for 117479000"
     ]
    },
    {
     "name": "stdout",
     "output_type": "stream",
     "text": [
      " 117479000\n",
      "now"
     ]
    },
    {
     "name": "stderr",
     "output_type": "stream",
     "text": [
      "\n",
      "Encountered 401 Error (Not Authorized)\n",
      "Fetched 0 total friends ids for 259475565\n",
      "Encountered 401 Error (Not Authorized)"
     ]
    },
    {
     "name": "stdout",
     "output_type": "stream",
     "text": [
      " 259475565\n",
      "now"
     ]
    },
    {
     "name": "stderr",
     "output_type": "stream",
     "text": [
      "\n",
      "Fetched 0 total followers ids for 259475565\n",
      "Encountered 429 Error (Rate Limit Exceeded)\n",
      "Retrying in 15 minutes...ZzZ...\n",
      "...ZzZ...Awake now and trying again.\n",
      "Fetched 1014 total friends ids for 43112027\n",
      "Fetched 5000 total followers ids for 43112027"
     ]
    },
    {
     "name": "stdout",
     "output_type": "stream",
     "text": [
      " 43112027\n",
      "now"
     ]
    },
    {
     "name": "stderr",
     "output_type": "stream",
     "text": [
      "\n",
      "Fetched 210 total friends ids for 36063241\n",
      "Fetched 574 total followers ids for 36063241"
     ]
    },
    {
     "name": "stdout",
     "output_type": "stream",
     "text": [
      " 36063241\n",
      "now"
     ]
    },
    {
     "name": "stderr",
     "output_type": "stream",
     "text": [
      "\n",
      "Fetched 850 total friends ids for 555896063\n",
      "Fetched 1518 total followers ids for 555896063"
     ]
    },
    {
     "name": "stdout",
     "output_type": "stream",
     "text": [
      " 555896063\n",
      "now"
     ]
    },
    {
     "name": "stderr",
     "output_type": "stream",
     "text": [
      "\n",
      "Fetched 38 total friends ids for 15370140\n",
      "Fetched 297 total followers ids for 15370140"
     ]
    },
    {
     "name": "stdout",
     "output_type": "stream",
     "text": [
      " 15370140\n",
      "now"
     ]
    },
    {
     "name": "stderr",
     "output_type": "stream",
     "text": [
      "\n",
      "Fetched 619 total friends ids for 366970852\n",
      "Fetched 1912 total followers ids for 366970852"
     ]
    },
    {
     "name": "stdout",
     "output_type": "stream",
     "text": [
      " 366970852\n",
      "now"
     ]
    },
    {
     "name": "stderr",
     "output_type": "stream",
     "text": [
      "\n",
      "Encountered 401 Error (Not Authorized)\n",
      "Fetched 0 total friends ids for 829136064\n",
      "Encountered 401 Error (Not Authorized)"
     ]
    },
    {
     "name": "stdout",
     "output_type": "stream",
     "text": [
      " 829136064\n",
      "now"
     ]
    },
    {
     "name": "stderr",
     "output_type": "stream",
     "text": [
      "\n",
      "Fetched 0 total followers ids for 829136064\n",
      "Fetched 63 total friends ids for 618867618\n",
      "Fetched 89 total followers ids for 618867618"
     ]
    },
    {
     "name": "stdout",
     "output_type": "stream",
     "text": [
      " 618867618\n",
      "now"
     ]
    },
    {
     "name": "stderr",
     "output_type": "stream",
     "text": [
      "\n",
      "Fetched 7 total friends ids for 1864435375\n",
      "Fetched 141 total followers ids for 1864435375"
     ]
    },
    {
     "name": "stdout",
     "output_type": "stream",
     "text": [
      " 1864435375\n",
      "now"
     ]
    },
    {
     "name": "stderr",
     "output_type": "stream",
     "text": [
      "\n",
      "Fetched 231 total friends ids for 608158960\n",
      "Fetched 290 total followers ids for 608158960"
     ]
    },
    {
     "name": "stdout",
     "output_type": "stream",
     "text": [
      " 608158960\n",
      "now"
     ]
    },
    {
     "name": "stderr",
     "output_type": "stream",
     "text": [
      "\n",
      "Fetched 77 total friends ids for 909949416\n",
      "Fetched 142 total followers ids for 909949416"
     ]
    },
    {
     "name": "stdout",
     "output_type": "stream",
     "text": [
      " 909949416\n",
      "now"
     ]
    },
    {
     "name": "stderr",
     "output_type": "stream",
     "text": [
      "\n",
      "Fetched 50 total friends ids for 1447491636\n",
      "Fetched 63 total followers ids for 1447491636"
     ]
    },
    {
     "name": "stdout",
     "output_type": "stream",
     "text": [
      " 1447491636\n",
      "now"
     ]
    },
    {
     "name": "stderr",
     "output_type": "stream",
     "text": [
      "\n",
      "Fetched 228 total friends ids for 1248962900\n",
      "Fetched 298 total followers ids for 1248962900"
     ]
    },
    {
     "name": "stdout",
     "output_type": "stream",
     "text": [
      " 1248962900\n",
      "now"
     ]
    },
    {
     "name": "stderr",
     "output_type": "stream",
     "text": [
      "\n",
      "Fetched 28 total friends ids for 365182442\n",
      "Fetched 51 total followers ids for 365182442"
     ]
    },
    {
     "name": "stdout",
     "output_type": "stream",
     "text": [
      " 365182442\n",
      "now"
     ]
    },
    {
     "name": "stderr",
     "output_type": "stream",
     "text": [
      "\n",
      "Fetched 4 total friends ids for 43597940\n",
      "Fetched 8 total followers ids for 43597940"
     ]
    },
    {
     "name": "stdout",
     "output_type": "stream",
     "text": [
      " 43597940\n",
      "now"
     ]
    },
    {
     "name": "stderr",
     "output_type": "stream",
     "text": [
      "\n",
      "Encountered 401 Error (Not Authorized)\n",
      "Fetched 0 total friends ids for 1967754458\n",
      "Encountered 401 Error (Not Authorized)"
     ]
    },
    {
     "name": "stdout",
     "output_type": "stream",
     "text": [
      " 1967754458\n",
      "now"
     ]
    },
    {
     "name": "stderr",
     "output_type": "stream",
     "text": [
      "\n",
      "Fetched 0 total followers ids for 1967754458\n",
      "Encountered 429 Error (Rate Limit Exceeded)\n",
      "Retrying in 15 minutes...ZzZ...\n",
      "...ZzZ...Awake now and trying again.\n",
      "Fetched 343 total friends ids for 1621683715\n",
      "Fetched 428 total followers ids for 1621683715"
     ]
    },
    {
     "name": "stdout",
     "output_type": "stream",
     "text": [
      " 1621683715\n",
      "now"
     ]
    },
    {
     "name": "stderr",
     "output_type": "stream",
     "text": [
      "\n",
      "Fetched 744 total friends ids for 382446449\n",
      "Fetched 1601 total followers ids for 382446449"
     ]
    },
    {
     "name": "stdout",
     "output_type": "stream",
     "text": [
      " 382446449\n",
      "now"
     ]
    },
    {
     "name": "stderr",
     "output_type": "stream",
     "text": [
      "\n",
      "Fetched 396 total friends ids for 1023996530\n",
      "Fetched 635 total followers ids for 1023996530"
     ]
    },
    {
     "name": "stdout",
     "output_type": "stream",
     "text": [
      " 1023996530\n",
      "now"
     ]
    },
    {
     "name": "stderr",
     "output_type": "stream",
     "text": [
      "\n",
      "Fetched 129 total friends ids for 278147874\n",
      "Fetched 355 total followers ids for 278147874"
     ]
    },
    {
     "name": "stdout",
     "output_type": "stream",
     "text": [
      " 278147874\n",
      "now"
     ]
    },
    {
     "name": "stderr",
     "output_type": "stream",
     "text": [
      "\n",
      "Fetched 304 total friends ids for 1877021646\n",
      "Fetched 393 total followers ids for 1877021646"
     ]
    },
    {
     "name": "stdout",
     "output_type": "stream",
     "text": [
      " 1877021646\n",
      "now"
     ]
    },
    {
     "name": "stderr",
     "output_type": "stream",
     "text": [
      "\n",
      "Fetched 281 total friends ids for 263277317\n",
      "Fetched 358 total followers ids for 263277317"
     ]
    },
    {
     "name": "stdout",
     "output_type": "stream",
     "text": [
      " 263277317\n",
      "now"
     ]
    },
    {
     "name": "stderr",
     "output_type": "stream",
     "text": [
      "\n",
      "Fetched 147 total friends ids for 778984993\n",
      "Fetched 520 total followers ids for 778984993"
     ]
    },
    {
     "name": "stdout",
     "output_type": "stream",
     "text": [
      " 778984993\n",
      "now"
     ]
    },
    {
     "name": "stderr",
     "output_type": "stream",
     "text": [
      "\n",
      "Fetched 483 total friends ids for 447984414\n",
      "Fetched 657 total followers ids for 447984414"
     ]
    },
    {
     "name": "stdout",
     "output_type": "stream",
     "text": [
      " 447984414\n",
      "now"
     ]
    },
    {
     "name": "stderr",
     "output_type": "stream",
     "text": [
      "\n",
      "Fetched 187 total friends ids for 241808522\n",
      "Fetched 252 total followers ids for 241808522"
     ]
    },
    {
     "name": "stdout",
     "output_type": "stream",
     "text": [
      " 241808522\n",
      "now"
     ]
    },
    {
     "name": "stderr",
     "output_type": "stream",
     "text": [
      "\n",
      "Fetched 5000 total friends ids for 86294875\n",
      "Fetched 5000 total followers ids for 86294875"
     ]
    },
    {
     "name": "stdout",
     "output_type": "stream",
     "text": [
      " 86294875\n",
      "now"
     ]
    },
    {
     "name": "stderr",
     "output_type": "stream",
     "text": [
      "\n",
      "Fetched 442 total friends ids for 809871715\n",
      "Fetched 538 total followers ids for 809871715"
     ]
    },
    {
     "name": "stdout",
     "output_type": "stream",
     "text": [
      " 809871715\n",
      "now"
     ]
    },
    {
     "name": "stderr",
     "output_type": "stream",
     "text": [
      "\n",
      "Fetched 369 total friends ids for 123435131\n",
      "Fetched 493 total followers ids for 123435131"
     ]
    },
    {
     "name": "stdout",
     "output_type": "stream",
     "text": [
      " 123435131\n",
      "now"
     ]
    },
    {
     "name": "stderr",
     "output_type": "stream",
     "text": [
      "\n",
      "Fetched 161 total friends ids for 35096092\n",
      "Fetched 255 total followers ids for 35096092"
     ]
    },
    {
     "name": "stdout",
     "output_type": "stream",
     "text": [
      " 35096092\n",
      "now"
     ]
    },
    {
     "name": "stderr",
     "output_type": "stream",
     "text": [
      "\n",
      "Fetched 44 total friends ids for 497752640\n",
      "Fetched 95 total followers ids for 497752640"
     ]
    },
    {
     "name": "stdout",
     "output_type": "stream",
     "text": [
      " 497752640\n",
      "now"
     ]
    },
    {
     "name": "stderr",
     "output_type": "stream",
     "text": [
      "\n",
      "Fetched 213 total friends ids for 1876869842\n",
      "Fetched 265 total followers ids for 1876869842"
     ]
    },
    {
     "name": "stdout",
     "output_type": "stream",
     "text": [
      " 1876869842\n",
      "now"
     ]
    },
    {
     "name": "stderr",
     "output_type": "stream",
     "text": [
      "\n",
      "Encountered 429 Error (Rate Limit Exceeded)\n",
      "Retrying in 15 minutes...ZzZ...\n",
      "...ZzZ...Awake now and trying again.\n",
      "URLError encountered. Continuing.\n",
      "URLError encountered. Continuing.\n",
      "URLError encountered. Continuing.\n",
      "URLError encountered. Continuing.\n",
      "URLError encountered. Continuing.\n",
      "URLError encountered. Continuing.\n",
      "URLError encountered. Continuing.\n",
      "URLError encountered. Continuing."
     ]
    },
    {
     "name": "stdout",
     "output_type": "stream",
     "text": [
      " 257850075\n"
     ]
    },
    {
     "name": "stderr",
     "output_type": "stream",
     "text": [
      "\n",
      "URLError encountered. Continuing.\n",
      "URLError encountered. Continuing.\n",
      "URLError encountered. Continuing.\n",
      "Too many consecutive errors...bailing out.\n"
     ]
    },
    {
     "ename": "URLError",
     "evalue": "<urlopen error [Errno 11001] getaddrinfo failed>",
     "output_type": "error",
     "traceback": [
      "\u001b[1;31m---------------------------------------------------------------------------\u001b[0m",
      "\u001b[1;31mURLError\u001b[0m                                  Traceback (most recent call last)",
      "\u001b[1;32m<ipython-input-20-ec2d91c0d81e>\u001b[0m in \u001b[0;36m<module>\u001b[1;34m()\u001b[0m\n\u001b[0;32m      2\u001b[0m \u001b[1;32mfor\u001b[0m \u001b[0mid\u001b[0m \u001b[1;32min\u001b[0m \u001b[0mfiltered_list\u001b[0m\u001b[1;33m:\u001b[0m\u001b[1;33m\u001b[0m\u001b[0m\n\u001b[0;32m      3\u001b[0m     \u001b[1;32mprint\u001b[0m \u001b[1;34m'now'\u001b[0m\u001b[1;33m,\u001b[0m\u001b[0mid\u001b[0m\u001b[1;33m\u001b[0m\u001b[0m\n\u001b[1;32m----> 4\u001b[1;33m     \u001b[0mffs\u001b[0m \u001b[1;33m=\u001b[0m \u001b[0mget_friends_followers\u001b[0m\u001b[1;33m(\u001b[0m\u001b[0mtwitter_api\u001b[0m\u001b[1;33m,\u001b[0m\u001b[0muser_id\u001b[0m \u001b[1;33m=\u001b[0m \u001b[0mid\u001b[0m\u001b[1;33m,\u001b[0m\u001b[0mlimit\u001b[0m\u001b[1;33m=\u001b[0m\u001b[1;36m5000\u001b[0m\u001b[1;33m,\u001b[0m\u001b[0mfr_or_fl\u001b[0m\u001b[1;33m=\u001b[0m\u001b[0mTrue\u001b[0m\u001b[1;33m,\u001b[0m\u001b[0mplimit\u001b[0m \u001b[1;33m=\u001b[0m \u001b[1;36m5000\u001b[0m\u001b[1;33m)\u001b[0m\u001b[1;33m\u001b[0m\u001b[0m\n\u001b[0m\u001b[0;32m      5\u001b[0m     \u001b[0mfo_ids\u001b[0m \u001b[1;33m=\u001b[0m \u001b[0mget_friends_followers\u001b[0m\u001b[1;33m(\u001b[0m\u001b[0mtwitter_api\u001b[0m\u001b[1;33m,\u001b[0m\u001b[0muser_id\u001b[0m \u001b[1;33m=\u001b[0m \u001b[0mid\u001b[0m\u001b[1;33m,\u001b[0m\u001b[0mlimit\u001b[0m\u001b[1;33m=\u001b[0m\u001b[1;36m5000\u001b[0m\u001b[1;33m,\u001b[0m\u001b[0mfr_or_fl\u001b[0m\u001b[1;33m=\u001b[0m\u001b[0mFalse\u001b[0m\u001b[1;33m,\u001b[0m\u001b[0mplimit\u001b[0m \u001b[1;33m=\u001b[0m \u001b[1;36m5000\u001b[0m\u001b[1;33m)\u001b[0m\u001b[1;33m\u001b[0m\u001b[0m\n\u001b[0;32m      6\u001b[0m     \u001b[0ms\u001b[0m \u001b[1;33m=\u001b[0m \u001b[0mset\u001b[0m\u001b[1;33m(\u001b[0m\u001b[0mffs\u001b[0m\u001b[1;33m)\u001b[0m\u001b[1;33m.\u001b[0m\u001b[0mintersection\u001b[0m\u001b[1;33m(\u001b[0m\u001b[0mset\u001b[0m\u001b[1;33m(\u001b[0m\u001b[0mfo_ids\u001b[0m\u001b[1;33m)\u001b[0m\u001b[1;33m)\u001b[0m\u001b[1;33m\u001b[0m\u001b[0m\n",
      "\u001b[1;32m<ipython-input-8-532128097c2f>\u001b[0m in \u001b[0;36mget_friends_followers\u001b[1;34m(twitter_api, screen_name, user_id, limit, fr_or_fl, plimit)\u001b[0m\n\u001b[0;32m     73\u001b[0m             \u001b[0mresponse\u001b[0m \u001b[1;33m=\u001b[0m \u001b[0mget_ids\u001b[0m\u001b[1;33m(\u001b[0m\u001b[0mscreen_name\u001b[0m \u001b[1;33m=\u001b[0m \u001b[0mscreen_name\u001b[0m\u001b[1;33m,\u001b[0m \u001b[0mcursor\u001b[0m \u001b[1;33m=\u001b[0m \u001b[0mcursor\u001b[0m\u001b[1;33m)\u001b[0m\u001b[1;33m\u001b[0m\u001b[0m\n\u001b[0;32m     74\u001b[0m         \u001b[1;32melse\u001b[0m\u001b[1;33m:\u001b[0m\u001b[1;33m\u001b[0m\u001b[0m\n\u001b[1;32m---> 75\u001b[1;33m             \u001b[0mresponse\u001b[0m \u001b[1;33m=\u001b[0m \u001b[0mget_ids\u001b[0m\u001b[1;33m(\u001b[0m\u001b[0muser_id\u001b[0m\u001b[1;33m=\u001b[0m\u001b[0muser_id\u001b[0m\u001b[1;33m,\u001b[0m \u001b[0mcursor\u001b[0m\u001b[1;33m=\u001b[0m\u001b[0mcursor\u001b[0m\u001b[1;33m)\u001b[0m\u001b[1;33m\u001b[0m\u001b[0m\n\u001b[0m\u001b[0;32m     76\u001b[0m         \u001b[1;32mif\u001b[0m \u001b[0mresponse\u001b[0m \u001b[1;32mis\u001b[0m \u001b[1;32mnot\u001b[0m \u001b[0mNone\u001b[0m\u001b[1;33m:\u001b[0m\u001b[1;33m\u001b[0m\u001b[0m\n\u001b[0;32m     77\u001b[0m             \u001b[0mresult_ids\u001b[0m \u001b[1;33m+=\u001b[0m \u001b[0mresponse\u001b[0m\u001b[1;33m[\u001b[0m\u001b[1;34m'ids'\u001b[0m\u001b[1;33m]\u001b[0m\u001b[1;33m\u001b[0m\u001b[0m\n",
      "\u001b[1;32m<ipython-input-8-532128097c2f>\u001b[0m in \u001b[0;36mmake_twitter_request\u001b[1;34m(twitter_api_func, max_errors, *args, **kw)\u001b[0m\n\u001b[0;32m     35\u001b[0m     \u001b[1;32mwhile\u001b[0m \u001b[0mTrue\u001b[0m\u001b[1;33m:\u001b[0m\u001b[1;33m\u001b[0m\u001b[0m\n\u001b[0;32m     36\u001b[0m         \u001b[1;32mtry\u001b[0m\u001b[1;33m:\u001b[0m\u001b[1;33m\u001b[0m\u001b[0m\n\u001b[1;32m---> 37\u001b[1;33m             \u001b[1;32mreturn\u001b[0m \u001b[0mtwitter_api_func\u001b[0m\u001b[1;33m(\u001b[0m\u001b[1;33m*\u001b[0m\u001b[0margs\u001b[0m\u001b[1;33m,\u001b[0m \u001b[1;33m**\u001b[0m\u001b[0mkw\u001b[0m\u001b[1;33m)\u001b[0m\u001b[1;33m\u001b[0m\u001b[0m\n\u001b[0m\u001b[0;32m     38\u001b[0m         \u001b[1;32mexcept\u001b[0m \u001b[0mtwitter\u001b[0m\u001b[1;33m.\u001b[0m\u001b[0mapi\u001b[0m\u001b[1;33m.\u001b[0m\u001b[0mTwitterHTTPError\u001b[0m\u001b[1;33m,\u001b[0m \u001b[0me\u001b[0m\u001b[1;33m:\u001b[0m\u001b[1;33m\u001b[0m\u001b[0m\n\u001b[0;32m     39\u001b[0m             \u001b[0merror_count\u001b[0m \u001b[1;33m=\u001b[0m \u001b[1;36m0\u001b[0m\u001b[1;33m\u001b[0m\u001b[0m\n",
      "\u001b[1;32mC:\\Users\\Xiang\\Anaconda2\\lib\\site-packages\\twitter\\api.pyc\u001b[0m in \u001b[0;36m__call__\u001b[1;34m(self, **kwargs)\u001b[0m\n\u001b[0;32m    310\u001b[0m             \u001b[1;32mreturn\u001b[0m \u001b[0mself\u001b[0m\u001b[1;33m.\u001b[0m\u001b[0m_handle_response_with_retry\u001b[0m\u001b[1;33m(\u001b[0m\u001b[0mreq\u001b[0m\u001b[1;33m,\u001b[0m \u001b[0muri\u001b[0m\u001b[1;33m,\u001b[0m \u001b[0marg_data\u001b[0m\u001b[1;33m,\u001b[0m \u001b[0m_timeout\u001b[0m\u001b[1;33m)\u001b[0m\u001b[1;33m\u001b[0m\u001b[0m\n\u001b[0;32m    311\u001b[0m         \u001b[1;32melse\u001b[0m\u001b[1;33m:\u001b[0m\u001b[1;33m\u001b[0m\u001b[0m\n\u001b[1;32m--> 312\u001b[1;33m             \u001b[1;32mreturn\u001b[0m \u001b[0mself\u001b[0m\u001b[1;33m.\u001b[0m\u001b[0m_handle_response\u001b[0m\u001b[1;33m(\u001b[0m\u001b[0mreq\u001b[0m\u001b[1;33m,\u001b[0m \u001b[0muri\u001b[0m\u001b[1;33m,\u001b[0m \u001b[0marg_data\u001b[0m\u001b[1;33m,\u001b[0m \u001b[0m_timeout\u001b[0m\u001b[1;33m)\u001b[0m\u001b[1;33m\u001b[0m\u001b[0m\n\u001b[0m\u001b[0;32m    313\u001b[0m \u001b[1;33m\u001b[0m\u001b[0m\n\u001b[0;32m    314\u001b[0m     \u001b[1;32mdef\u001b[0m \u001b[0m_handle_response\u001b[0m\u001b[1;33m(\u001b[0m\u001b[0mself\u001b[0m\u001b[1;33m,\u001b[0m \u001b[0mreq\u001b[0m\u001b[1;33m,\u001b[0m \u001b[0muri\u001b[0m\u001b[1;33m,\u001b[0m \u001b[0marg_data\u001b[0m\u001b[1;33m,\u001b[0m \u001b[0m_timeout\u001b[0m\u001b[1;33m=\u001b[0m\u001b[0mNone\u001b[0m\u001b[1;33m)\u001b[0m\u001b[1;33m:\u001b[0m\u001b[1;33m\u001b[0m\u001b[0m\n",
      "\u001b[1;32mC:\\Users\\Xiang\\Anaconda2\\lib\\site-packages\\twitter\\api.pyc\u001b[0m in \u001b[0;36m_handle_response\u001b[1;34m(self, req, uri, arg_data, _timeout)\u001b[0m\n\u001b[0;32m    317\u001b[0m             \u001b[0mkwargs\u001b[0m\u001b[1;33m[\u001b[0m\u001b[1;34m'timeout'\u001b[0m\u001b[1;33m]\u001b[0m \u001b[1;33m=\u001b[0m \u001b[0m_timeout\u001b[0m\u001b[1;33m\u001b[0m\u001b[0m\n\u001b[0;32m    318\u001b[0m         \u001b[1;32mtry\u001b[0m\u001b[1;33m:\u001b[0m\u001b[1;33m\u001b[0m\u001b[0m\n\u001b[1;32m--> 319\u001b[1;33m             \u001b[0mhandle\u001b[0m \u001b[1;33m=\u001b[0m \u001b[0murllib_request\u001b[0m\u001b[1;33m.\u001b[0m\u001b[0murlopen\u001b[0m\u001b[1;33m(\u001b[0m\u001b[0mreq\u001b[0m\u001b[1;33m,\u001b[0m \u001b[1;33m**\u001b[0m\u001b[0mkwargs\u001b[0m\u001b[1;33m)\u001b[0m\u001b[1;33m\u001b[0m\u001b[0m\n\u001b[0m\u001b[0;32m    320\u001b[0m             \u001b[1;32mif\u001b[0m \u001b[0mhandle\u001b[0m\u001b[1;33m.\u001b[0m\u001b[0mheaders\u001b[0m\u001b[1;33m[\u001b[0m\u001b[1;34m'Content-Type'\u001b[0m\u001b[1;33m]\u001b[0m \u001b[1;32min\u001b[0m \u001b[1;33m[\u001b[0m\u001b[1;34m'image/jpeg'\u001b[0m\u001b[1;33m,\u001b[0m \u001b[1;34m'image/png'\u001b[0m\u001b[1;33m]\u001b[0m\u001b[1;33m:\u001b[0m\u001b[1;33m\u001b[0m\u001b[0m\n\u001b[0;32m    321\u001b[0m                 \u001b[1;32mreturn\u001b[0m \u001b[0mhandle\u001b[0m\u001b[1;33m\u001b[0m\u001b[0m\n",
      "\u001b[1;32mC:\\Users\\Xiang\\Anaconda2\\lib\\urllib2.pyc\u001b[0m in \u001b[0;36murlopen\u001b[1;34m(url, data, timeout, cafile, capath, cadefault, context)\u001b[0m\n\u001b[0;32m    152\u001b[0m     \u001b[1;32melse\u001b[0m\u001b[1;33m:\u001b[0m\u001b[1;33m\u001b[0m\u001b[0m\n\u001b[0;32m    153\u001b[0m         \u001b[0mopener\u001b[0m \u001b[1;33m=\u001b[0m \u001b[0m_opener\u001b[0m\u001b[1;33m\u001b[0m\u001b[0m\n\u001b[1;32m--> 154\u001b[1;33m     \u001b[1;32mreturn\u001b[0m \u001b[0mopener\u001b[0m\u001b[1;33m.\u001b[0m\u001b[0mopen\u001b[0m\u001b[1;33m(\u001b[0m\u001b[0murl\u001b[0m\u001b[1;33m,\u001b[0m \u001b[0mdata\u001b[0m\u001b[1;33m,\u001b[0m \u001b[0mtimeout\u001b[0m\u001b[1;33m)\u001b[0m\u001b[1;33m\u001b[0m\u001b[0m\n\u001b[0m\u001b[0;32m    155\u001b[0m \u001b[1;33m\u001b[0m\u001b[0m\n\u001b[0;32m    156\u001b[0m \u001b[1;32mdef\u001b[0m \u001b[0minstall_opener\u001b[0m\u001b[1;33m(\u001b[0m\u001b[0mopener\u001b[0m\u001b[1;33m)\u001b[0m\u001b[1;33m:\u001b[0m\u001b[1;33m\u001b[0m\u001b[0m\n",
      "\u001b[1;32mC:\\Users\\Xiang\\Anaconda2\\lib\\urllib2.pyc\u001b[0m in \u001b[0;36mopen\u001b[1;34m(self, fullurl, data, timeout)\u001b[0m\n\u001b[0;32m    429\u001b[0m             \u001b[0mreq\u001b[0m \u001b[1;33m=\u001b[0m \u001b[0mmeth\u001b[0m\u001b[1;33m(\u001b[0m\u001b[0mreq\u001b[0m\u001b[1;33m)\u001b[0m\u001b[1;33m\u001b[0m\u001b[0m\n\u001b[0;32m    430\u001b[0m \u001b[1;33m\u001b[0m\u001b[0m\n\u001b[1;32m--> 431\u001b[1;33m         \u001b[0mresponse\u001b[0m \u001b[1;33m=\u001b[0m \u001b[0mself\u001b[0m\u001b[1;33m.\u001b[0m\u001b[0m_open\u001b[0m\u001b[1;33m(\u001b[0m\u001b[0mreq\u001b[0m\u001b[1;33m,\u001b[0m \u001b[0mdata\u001b[0m\u001b[1;33m)\u001b[0m\u001b[1;33m\u001b[0m\u001b[0m\n\u001b[0m\u001b[0;32m    432\u001b[0m \u001b[1;33m\u001b[0m\u001b[0m\n\u001b[0;32m    433\u001b[0m         \u001b[1;31m# post-process response\u001b[0m\u001b[1;33m\u001b[0m\u001b[1;33m\u001b[0m\u001b[0m\n",
      "\u001b[1;32mC:\\Users\\Xiang\\Anaconda2\\lib\\urllib2.pyc\u001b[0m in \u001b[0;36m_open\u001b[1;34m(self, req, data)\u001b[0m\n\u001b[0;32m    447\u001b[0m         \u001b[0mprotocol\u001b[0m \u001b[1;33m=\u001b[0m \u001b[0mreq\u001b[0m\u001b[1;33m.\u001b[0m\u001b[0mget_type\u001b[0m\u001b[1;33m(\u001b[0m\u001b[1;33m)\u001b[0m\u001b[1;33m\u001b[0m\u001b[0m\n\u001b[0;32m    448\u001b[0m         result = self._call_chain(self.handle_open, protocol, protocol +\n\u001b[1;32m--> 449\u001b[1;33m                                   '_open', req)\n\u001b[0m\u001b[0;32m    450\u001b[0m         \u001b[1;32mif\u001b[0m \u001b[0mresult\u001b[0m\u001b[1;33m:\u001b[0m\u001b[1;33m\u001b[0m\u001b[0m\n\u001b[0;32m    451\u001b[0m             \u001b[1;32mreturn\u001b[0m \u001b[0mresult\u001b[0m\u001b[1;33m\u001b[0m\u001b[0m\n",
      "\u001b[1;32mC:\\Users\\Xiang\\Anaconda2\\lib\\urllib2.pyc\u001b[0m in \u001b[0;36m_call_chain\u001b[1;34m(self, chain, kind, meth_name, *args)\u001b[0m\n\u001b[0;32m    407\u001b[0m             \u001b[0mfunc\u001b[0m \u001b[1;33m=\u001b[0m \u001b[0mgetattr\u001b[0m\u001b[1;33m(\u001b[0m\u001b[0mhandler\u001b[0m\u001b[1;33m,\u001b[0m \u001b[0mmeth_name\u001b[0m\u001b[1;33m)\u001b[0m\u001b[1;33m\u001b[0m\u001b[0m\n\u001b[0;32m    408\u001b[0m \u001b[1;33m\u001b[0m\u001b[0m\n\u001b[1;32m--> 409\u001b[1;33m             \u001b[0mresult\u001b[0m \u001b[1;33m=\u001b[0m \u001b[0mfunc\u001b[0m\u001b[1;33m(\u001b[0m\u001b[1;33m*\u001b[0m\u001b[0margs\u001b[0m\u001b[1;33m)\u001b[0m\u001b[1;33m\u001b[0m\u001b[0m\n\u001b[0m\u001b[0;32m    410\u001b[0m             \u001b[1;32mif\u001b[0m \u001b[0mresult\u001b[0m \u001b[1;32mis\u001b[0m \u001b[1;32mnot\u001b[0m \u001b[0mNone\u001b[0m\u001b[1;33m:\u001b[0m\u001b[1;33m\u001b[0m\u001b[0m\n\u001b[0;32m    411\u001b[0m                 \u001b[1;32mreturn\u001b[0m \u001b[0mresult\u001b[0m\u001b[1;33m\u001b[0m\u001b[0m\n",
      "\u001b[1;32mC:\\Users\\Xiang\\Anaconda2\\lib\\urllib2.pyc\u001b[0m in \u001b[0;36mhttps_open\u001b[1;34m(self, req)\u001b[0m\n\u001b[0;32m   1238\u001b[0m         \u001b[1;32mdef\u001b[0m \u001b[0mhttps_open\u001b[0m\u001b[1;33m(\u001b[0m\u001b[0mself\u001b[0m\u001b[1;33m,\u001b[0m \u001b[0mreq\u001b[0m\u001b[1;33m)\u001b[0m\u001b[1;33m:\u001b[0m\u001b[1;33m\u001b[0m\u001b[0m\n\u001b[0;32m   1239\u001b[0m             return self.do_open(httplib.HTTPSConnection, req,\n\u001b[1;32m-> 1240\u001b[1;33m                 context=self._context)\n\u001b[0m\u001b[0;32m   1241\u001b[0m \u001b[1;33m\u001b[0m\u001b[0m\n\u001b[0;32m   1242\u001b[0m         \u001b[0mhttps_request\u001b[0m \u001b[1;33m=\u001b[0m \u001b[0mAbstractHTTPHandler\u001b[0m\u001b[1;33m.\u001b[0m\u001b[0mdo_request_\u001b[0m\u001b[1;33m\u001b[0m\u001b[0m\n",
      "\u001b[1;32mC:\\Users\\Xiang\\Anaconda2\\lib\\urllib2.pyc\u001b[0m in \u001b[0;36mdo_open\u001b[1;34m(self, http_class, req, **http_conn_args)\u001b[0m\n\u001b[0;32m   1195\u001b[0m         \u001b[1;32mexcept\u001b[0m \u001b[0msocket\u001b[0m\u001b[1;33m.\u001b[0m\u001b[0merror\u001b[0m\u001b[1;33m,\u001b[0m \u001b[0merr\u001b[0m\u001b[1;33m:\u001b[0m \u001b[1;31m# XXX what error?\u001b[0m\u001b[1;33m\u001b[0m\u001b[0m\n\u001b[0;32m   1196\u001b[0m             \u001b[0mh\u001b[0m\u001b[1;33m.\u001b[0m\u001b[0mclose\u001b[0m\u001b[1;33m(\u001b[0m\u001b[1;33m)\u001b[0m\u001b[1;33m\u001b[0m\u001b[0m\n\u001b[1;32m-> 1197\u001b[1;33m             \u001b[1;32mraise\u001b[0m \u001b[0mURLError\u001b[0m\u001b[1;33m(\u001b[0m\u001b[0merr\u001b[0m\u001b[1;33m)\u001b[0m\u001b[1;33m\u001b[0m\u001b[0m\n\u001b[0m\u001b[0;32m   1198\u001b[0m         \u001b[1;32melse\u001b[0m\u001b[1;33m:\u001b[0m\u001b[1;33m\u001b[0m\u001b[0m\n\u001b[0;32m   1199\u001b[0m             \u001b[1;32mtry\u001b[0m\u001b[1;33m:\u001b[0m\u001b[1;33m\u001b[0m\u001b[0m\n",
      "\u001b[1;31mURLError\u001b[0m: <urlopen error [Errno 11001] getaddrinfo failed>"
     ]
    }
   ],
   "source": [
    "network_ids= {}\n",
    "for id in filtered_list:\n",
    "    print 'now',id\n",
    "    ffs = get_friends_followers(twitter_api,user_id = id,limit=5000,fr_or_fl=True,plimit = 5000)\n",
    "    fo_ids = get_friends_followers(twitter_api,user_id = id,limit=5000,fr_or_fl=False,plimit = 5000)\n",
    "    s = set(ffs).intersection(set(fo_ids))\n",
    "    cids=[]\n",
    "    for i in range(0,len(ffs) / 100):\n",
    "        tmp = twitter_func(user_id = ffs[i*100:(i+1)*100],include_user_entities = True)\n",
    "        rs = [u['id'] for u in tmp]\n",
    "        if (len(rs) > 0):\n",
    "            for r in rs:\n",
    "                if (r in s and r != filtered_list[1]):\n",
    "                    cids.append(r)\n",
    "            break\n",
    "    for i in range(0,len(fo_ids) / 100):\n",
    "        tmp = twitter_func(user_id = fo_ids[i*100:(i+1)*100],include_user_entities = True)\n",
    "        rs = [u['id'] for u in tmp]\n",
    "        if (len(rs) > 0):\n",
    "            for r in rs:\n",
    "                if (r in s and r != filtered_list[1]):\n",
    "                    cids.append(r)\n",
    "            break\n",
    "    network_ids[id] = cids\n",
    "    \n",
    "    "
   ]
  },
  {
   "cell_type": "code",
   "execution_count": 21,
   "metadata": {
    "collapsed": false
   },
   "outputs": [],
   "source": [
    "save_json(\"network_ids\",network_ids)"
   ]
  },
  {
   "cell_type": "code",
   "execution_count": 25,
   "metadata": {
    "collapsed": false
   },
   "outputs": [],
   "source": [
    "further_filtered  = [(u,len(network_ids[u])) for u in network_ids.keys() if len(network_ids[u])<10 and len(network_ids[u]) > 0]\n",
    "further_filtered = [f[0] for f in further_filtered]"
   ]
  },
  {
   "cell_type": "code",
   "execution_count": 27,
   "metadata": {
    "collapsed": false
   },
   "outputs": [
    {
     "data": {
      "text/plain": [
       "21"
      ]
     },
     "execution_count": 27,
     "metadata": {},
     "output_type": "execute_result"
    }
   ],
   "source": [
    "len(further_filtered)"
   ]
  },
  {
   "cell_type": "code",
   "execution_count": 55,
   "metadata": {
    "collapsed": false
   },
   "outputs": [
    {
     "name": "stderr",
     "output_type": "stream",
     "text": [
      "Fetched 215 total friends ids for 541907609\n",
      "Fetched 318 total followers ids for 541907609\n"
     ]
    }
   ],
   "source": [
    "user_id = 541907609\n",
    "ffs = get_friends_followers(twitter_api,user_id = user_id,limit=5000,fr_or_fl=True,plimit = 5000)\n",
    "fo_ids = get_friends_followers(twitter_api,user_id = user_id,limit=5000,fr_or_fl=False,plimit = 5000)\n",
    "s = set(ffs).intersection(set(fo_ids))\n"
   ]
  },
  {
   "cell_type": "code",
   "execution_count": 216,
   "metadata": {
    "collapsed": false
   },
   "outputs": [],
   "source": [
    "def arc(i,reference):\n",
    "    #A function for finding friends\n",
    "    result = []\n",
    "    ffs = get_friends_followers(twitter_api,user_id = i,limit=5000,fr_or_fl=True,plimit = 5000)\n",
    "    for i in range(0,len(ffs) / 100):\n",
    "            tmp = twitter_func(user_id = ffs[i*100:(i+1)*100],include_user_entities = True)\n",
    "            if (len(tmp) > 0):\n",
    "                for r in tmp:\n",
    "                    if (r['id'] in reference and r['id'] != i): #Someone that a mutual friend is following is my mutual friend\n",
    "                        result.append((r['id'],r['friends_count'],r['followers_count']))\n",
    "    return result\n",
    "                  \n",
    "\n",
    "def get_network_scores(user_id,init,frac):\n",
    "    #First thing to do is to limit the search span\n",
    "    ffs = get_friends_followers(twitter_api,user_id = user_id,limit=5000,fr_or_fl=True,plimit = 5000)\n",
    "    fo_ids = get_friends_followers(twitter_api,user_id = user_id,limit=5000,fr_or_fl=False,plimit = 5000)\n",
    "    mutual_friends = list(set(ffs).intersection(set(fo_ids)))[:init]\n",
    "    print \"now constructing graphs\"\n",
    "    graph = construct_graph(mutual_friends,user_id)\n",
    "    #print \"now collecting scores\"\n",
    "     ##Calculating base scores and flatten Score dictionary\n",
    "    #scores = {}\n",
    "    #vector = []\n",
    "    #for i in graph.columns.values.tolist():\n",
    "        #u = twitter_api.users.show(user_id = i,include_user_entities = True)\n",
    "        #scores[i] = 1.0 * u['followers_count'] / u['friends_count']\n",
    "        #vector.append(scores[i])\n",
    "        #print >> sys.stderr, 'Fetched Scores for {0}'.format(i)\n",
    "    #Normalization\n",
    "    for i in graph.index:\n",
    "        n = sum(graph.loc[:,i])\n",
    "        graph.loc[:,i] = 1.0 * graph.loc[:,i] / n\n",
    "    rank_score = get_ranks(graph,frac)\n",
    "    return (user_id, rank_score, graph.index)\n",
    "    #if method == \"Prank\":\n",
    "    #    return (user_id,rank_score[0])\n",
    "    #else:\n",
    "    #    return (user_id,rank_score[1])\n",
    "\n",
    "def get_ranks(graph,frac):\n",
    "    matrix = pd.DataFrame.as_matrix(graph) * frac\n",
    "    np.fill_diagonal(matrix, 1 - frac)\n",
    "    print matrix\n",
    "    #ranks = np.linalg.inv(np.transpose(matrix) -  np.eye(matrix.shape[0])).dot(vector)\n",
    "    #ranks - min(ranks)\n",
    "    err = 1\n",
    "    vector = [1.0 / len(matrix)] * len(matrix)\n",
    "    oldm = np.asarray(vector)\n",
    "    count = 0\n",
    "    while (err > 1e-4 and count <100):\n",
    "        newm = oldm.dot(np.transpose(matrix))\n",
    "        err = np.linalg.norm(newm - oldm)\n",
    "        oldm = newm\n",
    "        count = count +1\n",
    "    prank = oldm\n",
    "    return prank\n",
    "    \n",
    "    \n",
    "def construct_graph(mutual_friends,user_id):\n",
    "    allids = mutual_friends\n",
    "    allids.append(user_id)\n",
    "    graph = pd.DataFrame(0, index = allids,columns = allids)\n",
    "    get_r = partial(make_twitter_request, twitter_api.friendships.show,count=5000)\n",
    "    graph.loc[:,user_id] = 1\n",
    "    graph.loc[user_id,:] = 1\n",
    "    graph.loc[user_id,user_id] = 0\n",
    "    #Now looping the realtionships to construct the graph\n",
    "    i = 0\n",
    "    while (i < len(mutual_friends)):\n",
    "        for otid in mutual_friends[i:]:\n",
    "            tmp = get_r(source_id = mutual_friends[i],target_id = otid)\n",
    "            if tmp is not None:\n",
    "                if (tmp['relationship']['source']['followed_by'] == True):\n",
    "                    graph.loc[otid,mutual_friends[i]] = 1\n",
    "                if (tmp['relationship']['source']['following'] == True):\n",
    "                    graph.loc[mutual_friends[i],otid] = 1\n",
    "        print >> sys.stderr, 'Graph Construction for {0} is finished'.format(mutual_friends[i])\n",
    "        i = i + 1\n",
    "    return graph"
   ]
  },
  {
   "cell_type": "code",
   "execution_count": 240,
   "metadata": {
    "collapsed": false
   },
   "outputs": [
    {
     "name": "stderr",
     "output_type": "stream",
     "text": [
      "Fetched Scores for 158434306\n",
      "Fetched Scores for 22793219\n",
      "Fetched Scores for 246846985\n",
      "Fetched Scores for 778984993\n",
      "Fetched Scores for 43112027\n",
      "Fetched Scores for 559720576\n",
      "Fetched Scores for 570093647\n",
      "Fetched Scores for 1527529573\n",
      "Fetched Scores for 214584456\n",
      "Fetched Scores for 1864435375\n",
      "Fetched Scores for 244873413\n",
      "Fetched Scores for 63382216\n",
      "Fetched Scores for 608158960\n",
      "Fetched Scores for 267061023\n",
      "Fetched Scores for 945012014\n",
      "Fetched Scores for 36063241\n",
      "Fetched Scores for 428702574\n",
      "Fetched Scores for 271601301\n",
      "Fetched Scores for 15370140\n",
      "Fetched Scores for 432500173\n",
      "Fetched Scores for 371513766\n",
      "Fetched 96 total friends ids for 158434306\n",
      "Fetched 546 total followers ids for 158434306\n",
      "Graph Construction for 29388032 is finished\n",
      "Graph Construction for 204211584 is finished\n",
      "Graph Construction for 30281157 is finished\n",
      "Graph Construction for 124294412 is finished\n",
      "Graph Construction for 53819921 is finished\n",
      "Graph Construction for 46157970 is finished\n",
      "Graph Construction for 121313046 is finished\n",
      "Graph Construction for 3121625371 is finished\n",
      "Graph Construction for 2150177054 is finished\n",
      "Graph Construction for 3152061253 is finished\n",
      "Graph Construction for 158434306 is finished"
     ]
    },
    {
     "name": "stdout",
     "output_type": "stream",
     "text": [
      "now constructing graphs\n",
      "[[ 0.15        0.          0.          0.          0.          0.          0.\n",
      "   0.          0.          0.          0.085     ]\n",
      " [ 0.          0.15        0.          0.          0.          0.28333333\n",
      "   0.          0.          0.          0.          0.085     ]\n",
      " [ 0.          0.          0.15        0.          0.          0.          0.\n",
      "   0.          0.          0.          0.085     ]\n",
      " [ 0.          0.          0.425       0.15        0.          0.          0.\n",
      "   0.          0.          0.          0.085     ]\n",
      " [ 0.          0.          0.          0.          0.15        0.28333333\n",
      "   0.          0.          0.          0.          0.085     ]\n",
      " [ 0.          0.          0.          0.          0.425       0.15        0.\n",
      "   0.          0.          0.          0.085     ]\n",
      " [ 0.          0.          0.          0.          0.          0.          0.15\n",
      "   0.          0.          0.          0.085     ]\n",
      " [ 0.          0.          0.          0.          0.          0.          0.\n",
      "   0.15        0.          0.          0.085     ]\n",
      " [ 0.          0.          0.          0.          0.          0.          0.\n",
      "   0.          0.15        0.          0.085     ]\n",
      " [ 0.          0.          0.          0.          0.          0.          0.\n",
      "   0.          0.          0.15        0.085     ]\n",
      " [ 0.85        0.85        0.425       0.85        0.425       0.28333333\n",
      "   0.85        0.85        0.85        0.85        0.15      ]]"
     ]
    },
    {
     "name": "stderr",
     "output_type": "stream",
     "text": [
      "\n",
      "Fetched 747 total friends ids for 22793219\n",
      "Fetched 1499 total followers ids for 22793219"
     ]
    },
    {
     "name": "stdout",
     "output_type": "stream",
     "text": [
      "\n",
      "now constructing graphs"
     ]
    },
    {
     "name": "stderr",
     "output_type": "stream",
     "text": [
      "\n",
      "Graph Construction for 198248449 is finished\n",
      "Graph Construction for 14379528 is finished\n",
      "Graph Construction for 22111990 is finished\n",
      "Graph Construction for 223714564 is finished\n",
      "Graph Construction for 271558171 is finished\n",
      "Graph Construction for 17624325 is finished\n",
      "Graph Construction for 66465746 is finished\n",
      "Graph Construction for 14497313 is finished\n",
      "Graph Construction for 33996834 is finished\n",
      "Graph Construction for 2362778971 is finished\n",
      "Graph Construction for 22793219 is finished"
     ]
    },
    {
     "name": "stdout",
     "output_type": "stream",
     "text": [
      "\n",
      "[[ 0.15   0.     0.     0.     0.     0.     0.     0.     0.     0.     0.085]\n",
      " [ 0.     0.15   0.     0.     0.     0.     0.     0.     0.     0.     0.085]\n",
      " [ 0.     0.     0.15   0.     0.     0.     0.     0.     0.     0.     0.085]\n",
      " [ 0.     0.     0.     0.15   0.     0.     0.     0.425  0.     0.     0.085]\n",
      " [ 0.     0.     0.     0.     0.15   0.     0.     0.     0.     0.     0.085]\n",
      " [ 0.     0.     0.     0.     0.     0.15   0.     0.     0.425  0.     0.085]\n",
      " [ 0.     0.     0.     0.     0.     0.     0.15   0.     0.     0.     0.085]\n",
      " [ 0.     0.     0.     0.     0.     0.     0.     0.15   0.     0.     0.085]\n",
      " [ 0.     0.     0.     0.     0.     0.425  0.     0.     0.15   0.     0.085]\n",
      " [ 0.     0.     0.     0.     0.     0.     0.     0.     0.     0.15\n",
      "   0.085]\n",
      " [ 0.85   0.85   0.85   0.85   0.85   0.425  0.85   0.425  0.425  0.85\n",
      "   0.15 ]]"
     ]
    },
    {
     "name": "stderr",
     "output_type": "stream",
     "text": [
      "\n",
      "Fetched 79 total friends ids for 246846985\n",
      "Fetched 4472 total followers ids for 246846985"
     ]
    },
    {
     "name": "stdout",
     "output_type": "stream",
     "text": [
      "\n",
      "now constructing graphs"
     ]
    },
    {
     "name": "stderr",
     "output_type": "stream",
     "text": [
      "\n",
      "Graph Construction for 82837601 is finished\n",
      "Graph Construction for 1685784325 is finished\n",
      "Graph Construction for 539692747 is finished\n",
      "Graph Construction for 1725715981 is finished\n",
      "Graph Construction for 508809549 is finished\n",
      "Encountered 429 Error (Rate Limit Exceeded)\n",
      "Retrying in 15 minutes...ZzZ...\n",
      "...ZzZ...Awake now and trying again.\n",
      "Graph Construction for 54181232 is finished\n",
      "Graph Construction for 119829202 is finished\n",
      "Graph Construction for 1346337811 is finished\n",
      "Graph Construction for 126581655 is finished\n",
      "Graph Construction for 1467978488 is finished\n",
      "Graph Construction for 246846985 is finished"
     ]
    },
    {
     "name": "stdout",
     "output_type": "stream",
     "text": [
      "\n",
      "[[ 0.15        0.          0.          0.          0.          0.          0.\n",
      "   0.          0.          0.          0.085     ]\n",
      " [ 0.          0.15        0.          0.          0.28333333  0.          0.\n",
      "   0.          0.          0.          0.085     ]\n",
      " [ 0.          0.          0.15        0.          0.          0.          0.\n",
      "   0.          0.          0.          0.085     ]\n",
      " [ 0.          0.          0.          0.15        0.          0.          0.\n",
      "   0.          0.          0.          0.085     ]\n",
      " [ 0.          0.425       0.          0.          0.15        0.425       0.\n",
      "   0.          0.          0.          0.085     ]\n",
      " [ 0.425       0.          0.425       0.          0.28333333  0.15        0.\n",
      "   0.          0.          0.          0.085     ]\n",
      " [ 0.          0.          0.          0.          0.          0.          0.15\n",
      "   0.          0.          0.          0.085     ]\n",
      " [ 0.          0.          0.          0.          0.          0.          0.\n",
      "   0.15        0.          0.          0.085     ]\n",
      " [ 0.          0.          0.          0.          0.          0.          0.\n",
      "   0.          0.15        0.          0.085     ]\n",
      " [ 0.          0.          0.          0.          0.          0.          0.\n",
      "   0.          0.          0.15        0.085     ]\n",
      " [ 0.425       0.425       0.425       0.85        0.28333333  0.425       0.85\n",
      "   0.85        0.85        0.85        0.15      ]]"
     ]
    },
    {
     "name": "stderr",
     "output_type": "stream",
     "text": [
      "\n",
      "Fetched 147 total friends ids for 778984993\n",
      "Fetched 519 total followers ids for 778984993"
     ]
    },
    {
     "name": "stdout",
     "output_type": "stream",
     "text": [
      "\n",
      "now constructing graphs"
     ]
    },
    {
     "name": "stderr",
     "output_type": "stream",
     "text": [
      "\n",
      "Graph Construction for 1189292256 is finished\n",
      "Graph Construction for 293483941 is finished\n",
      "Graph Construction for 412450570 is finished\n",
      "Graph Construction for 2362765929 is finished\n",
      "Graph Construction for 247732938 is finished\n",
      "Graph Construction for 453868947 is finished\n",
      "Graph Construction for 2713374769 is finished\n",
      "Graph Construction for 554663442 is finished\n",
      "Graph Construction for 288769407 is finished\n",
      "Graph Construction for 768943615 is finished\n",
      "Graph Construction for 778984993 is finished"
     ]
    },
    {
     "name": "stdout",
     "output_type": "stream",
     "text": [
      "\n",
      "[[ 0.15        0.17        0.          0.          0.          0.\n",
      "   0.12142857  0.14166667  0.10625     0.          0.085     ]\n",
      " [ 0.17        0.15        0.          0.          0.2125      0.\n",
      "   0.12142857  0.          0.          0.425       0.085     ]\n",
      " [ 0.          0.          0.15        0.          0.2125      0.          0.\n",
      "   0.14166667  0.10625     0.          0.085     ]\n",
      " [ 0.          0.          0.          0.15        0.          0.\n",
      "   0.12142857  0.          0.10625     0.          0.085     ]\n",
      " [ 0.          0.17        0.2125      0.          0.15        0.          0.\n",
      "   0.          0.10625     0.          0.085     ]\n",
      " [ 0.          0.          0.          0.          0.          0.15\n",
      "   0.12142857  0.14166667  0.10625     0.          0.085     ]\n",
      " [ 0.17        0.17        0.          0.          0.          0.28333333\n",
      "   0.15        0.14166667  0.10625     0.          0.085     ]\n",
      " [ 0.17        0.          0.2125      0.          0.          0.28333333\n",
      "   0.12142857  0.15        0.10625     0.          0.085     ]\n",
      " [ 0.17        0.          0.2125      0.425       0.2125      0.\n",
      "   0.12142857  0.14166667  0.15        0.          0.085     ]\n",
      " [ 0.          0.17        0.          0.          0.          0.          0.\n",
      "   0.          0.          0.15        0.085     ]\n",
      " [ 0.17        0.17        0.2125      0.425       0.2125      0.28333333\n",
      "   0.12142857  0.14166667  0.10625     0.425       0.15      ]]"
     ]
    },
    {
     "name": "stderr",
     "output_type": "stream",
     "text": [
      "\n",
      "Fetched 1014 total friends ids for 43112027\n",
      "Fetched 5000 total followers ids for 43112027"
     ]
    },
    {
     "name": "stdout",
     "output_type": "stream",
     "text": [
      "\n",
      "now constructing graphs"
     ]
    },
    {
     "name": "stderr",
     "output_type": "stream",
     "text": [
      "\n",
      "Graph Construction for 363656987 is finished\n",
      "Graph Construction for 305289369 is finished\n",
      "Graph Construction for 2891457763 is finished\n",
      "Graph Construction for 2668458014 is finished\n",
      "Graph Construction for 590178705 is finished\n",
      "Graph Construction for 43112027 is finished"
     ]
    },
    {
     "name": "stdout",
     "output_type": "stream",
     "text": [
      "\n",
      "[[ 0.15  0.    0.    0.    0.    0.17]\n",
      " [ 0.    0.15  0.    0.    0.    0.17]\n",
      " [ 0.    0.    0.15  0.    0.    0.17]\n",
      " [ 0.    0.    0.    0.15  0.    0.17]\n",
      " [ 0.    0.    0.    0.    0.15  0.17]\n",
      " [ 0.85  0.85  0.85  0.85  0.85  0.15]]"
     ]
    },
    {
     "name": "stderr",
     "output_type": "stream",
     "text": [
      "\n",
      "Fetched 253 total friends ids for 559720576\n",
      "Fetched 1150 total followers ids for 559720576"
     ]
    },
    {
     "name": "stdout",
     "output_type": "stream",
     "text": [
      "\n",
      "now constructing graphs"
     ]
    },
    {
     "name": "stderr",
     "output_type": "stream",
     "text": [
      "\n",
      "Graph Construction for 3381555328 is finished\n",
      "Graph Construction for 4165639169 is finished\n",
      "Encountered 401 Error (Not Authorized)\n",
      "Graph Construction for 4040894597 is finished\n",
      "Graph Construction for 373064710 is finished\n",
      "Graph Construction for 3342614410 is finished\n",
      "Graph Construction for 3423960807 is finished\n",
      "Graph Construction for 2741678357 is finished\n",
      "Graph Construction for 2770576150 is finished\n",
      "Graph Construction for 410151236 is finished\n",
      "Graph Construction for 2881446172 is finished\n",
      "Graph Construction for 559720576 is finished"
     ]
    },
    {
     "name": "stdout",
     "output_type": "stream",
     "text": [
      "\n",
      "[[ 0.15        0.          0.          0.          0.          0.          0.\n",
      "   0.          0.          0.          0.085     ]\n",
      " [ 0.          0.15        0.          0.          0.28333333  0.          0.\n",
      "   0.          0.          0.          0.085     ]\n",
      " [ 0.          0.28333333  0.15        0.          0.28333333  0.          0.\n",
      "   0.          0.          0.          0.085     ]\n",
      " [ 0.          0.          0.          0.15        0.          0.          0.\n",
      "   0.          0.          0.425       0.085     ]\n",
      " [ 0.          0.28333333  0.425       0.          0.15        0.          0.425\n",
      "   0.          0.          0.          0.085     ]\n",
      " [ 0.          0.          0.          0.          0.          0.15        0.\n",
      "   0.          0.          0.          0.085     ]\n",
      " [ 0.          0.          0.          0.          0.          0.          0.15\n",
      "   0.          0.          0.          0.085     ]\n",
      " [ 0.          0.          0.          0.          0.          0.          0.\n",
      "   0.15        0.          0.          0.085     ]\n",
      " [ 0.          0.          0.          0.          0.          0.          0.\n",
      "   0.          0.15        0.          0.085     ]\n",
      " [ 0.          0.          0.          0.425       0.          0.          0.\n",
      "   0.          0.          0.15        0.085     ]\n",
      " [ 0.85        0.28333333  0.425       0.425       0.28333333  0.85        0.425\n",
      "   0.85        0.85        0.425       0.15      ]]"
     ]
    },
    {
     "name": "stderr",
     "output_type": "stream",
     "text": [
      "\n",
      "Fetched 464 total friends ids for 570093647\n",
      "Fetched 5000 total followers ids for 570093647"
     ]
    },
    {
     "name": "stdout",
     "output_type": "stream",
     "text": [
      "\n",
      "now constructing graphs"
     ]
    },
    {
     "name": "stderr",
     "output_type": "stream",
     "text": [
      "\n",
      "Encountered 429 Error (Rate Limit Exceeded)\n",
      "Retrying in 15 minutes...ZzZ...\n",
      "...ZzZ...Awake now and trying again.\n",
      "Graph Construction for 21577728 is finished\n",
      "Graph Construction for 3253986318 is finished\n",
      "Graph Construction for 6572632 is finished\n",
      "Graph Construction for 394568451 is finished\n",
      "Graph Construction for 61003804 is finished\n",
      "Graph Construction for 11059232 is finished\n",
      "Graph Construction for 424757797 is finished\n",
      "Graph Construction for 72122407 is finished\n",
      "Graph Construction for 2485343272 is finished\n",
      "Graph Construction for 1532436524 is finished\n",
      "Graph Construction for 570093647 is finished"
     ]
    },
    {
     "name": "stdout",
     "output_type": "stream",
     "text": [
      "\n",
      "[[ 0.15        0.          0.          0.          0.28333333  0.          0.\n",
      "   0.          0.          0.          0.085     ]\n",
      " [ 0.          0.15        0.          0.12142857  0.          0.2125      0.\n",
      "   0.          0.          0.          0.085     ]\n",
      " [ 0.          0.          0.15        0.12142857  0.          0.          0.\n",
      "   0.          0.14166667  0.          0.085     ]\n",
      " [ 0.          0.28333333  0.28333333  0.15        0.28333333  0.2125      0.\n",
      "   0.          0.14166667  0.28333333  0.085     ]\n",
      " [ 0.425       0.          0.          0.12142857  0.15        0.          0.\n",
      "   0.          0.          0.          0.085     ]\n",
      " [ 0.          0.28333333  0.          0.12142857  0.          0.15        0.\n",
      "   0.          0.14166667  0.          0.085     ]\n",
      " [ 0.          0.          0.          0.          0.          0.          0.15\n",
      "   0.          0.14166667  0.          0.085     ]\n",
      " [ 0.          0.          0.          0.          0.          0.          0.\n",
      "   0.15        0.          0.          0.085     ]\n",
      " [ 0.          0.          0.28333333  0.12142857  0.          0.2125\n",
      "   0.425       0.          0.15        0.28333333  0.085     ]\n",
      " [ 0.          0.          0.          0.12142857  0.          0.          0.\n",
      "   0.          0.14166667  0.15        0.085     ]\n",
      " [ 0.425       0.28333333  0.28333333  0.12142857  0.28333333  0.2125\n",
      "   0.425       0.85        0.14166667  0.28333333  0.15      ]]"
     ]
    },
    {
     "name": "stderr",
     "output_type": "stream",
     "text": [
      "\n",
      "Fetched 86 total friends ids for 1527529573\n",
      "Fetched 165 total followers ids for 1527529573"
     ]
    },
    {
     "name": "stdout",
     "output_type": "stream",
     "text": [
      "\n",
      "now constructing graphs"
     ]
    },
    {
     "name": "stderr",
     "output_type": "stream",
     "text": [
      "\n",
      "Graph Construction for 248364800 is finished\n",
      "Encountered 401 Error (Not Authorized)\n",
      "Encountered 401 Error (Not Authorized)\n",
      "Graph Construction for 3193776769 is finished\n",
      "Graph Construction for 4074799874 is finished\n",
      "Graph Construction for 2198960264 is finished\n",
      "Graph Construction for 2364128017 is finished\n",
      "Graph Construction for 3224030612 is finished\n",
      "Graph Construction for 1272305173 is finished\n",
      "Graph Construction for 3064682263 is finished\n",
      "Encountered 401 Error (Not Authorized)\n",
      "Graph Construction for 2469097200 is finished\n",
      "Graph Construction for 2517793825 is finished\n",
      "Graph Construction for 1527529573 is finished"
     ]
    },
    {
     "name": "stdout",
     "output_type": "stream",
     "text": [
      "\n",
      "[[ 0.15        0.          0.          0.          0.          0.          0.\n",
      "   0.          0.          0.          0.085     ]\n",
      " [ 0.          0.15        0.          0.17        0.17        0.          0.\n",
      "   0.425       0.          0.17        0.085     ]\n",
      " [ 0.          0.          0.15        0.          0.          0.\n",
      "   0.28333333  0.          0.          0.          0.085     ]\n",
      " [ 0.          0.17        0.          0.15        0.17        0.          0.\n",
      "   0.          0.          0.17        0.085     ]\n",
      " [ 0.          0.17        0.          0.17        0.15        0.          0.\n",
      "   0.          0.          0.17        0.085     ]\n",
      " [ 0.          0.          0.          0.          0.          0.15        0.\n",
      "   0.          0.          0.          0.085     ]\n",
      " [ 0.          0.          0.          0.          0.          0.          0.15\n",
      "   0.          0.425       0.          0.085     ]\n",
      " [ 0.          0.17        0.          0.17        0.17        0.          0.\n",
      "   0.15        0.          0.17        0.085     ]\n",
      " [ 0.          0.          0.          0.          0.          0.\n",
      "   0.28333333  0.          0.15        0.          0.085     ]\n",
      " [ 0.          0.17        0.          0.17        0.17        0.          0.\n",
      "   0.          0.          0.15        0.085     ]\n",
      " [ 0.85        0.17        0.85        0.17        0.17        0.85\n",
      "   0.28333333  0.425       0.425       0.17        0.15      ]]"
     ]
    },
    {
     "name": "stderr",
     "output_type": "stream",
     "text": [
      "\n",
      "Fetched 30 total friends ids for 214584456\n",
      "Fetched 179 total followers ids for 214584456"
     ]
    },
    {
     "name": "stdout",
     "output_type": "stream",
     "text": [
      "\n",
      "now constructing graphs"
     ]
    },
    {
     "name": "stderr",
     "output_type": "stream",
     "text": [
      "\n",
      "Graph Construction for 89607427 is finished\n",
      "Graph Construction for 582920886 is finished\n",
      "Encountered 401 Error (Not Authorized)\n",
      "Encountered 401 Error (Not Authorized)\n",
      "Graph Construction for 314644422 is finished\n",
      "Graph Construction for 136074467 is finished\n",
      "Graph Construction for 177146312 is finished\n",
      "Graph Construction for 267151229 is finished\n",
      "Graph Construction for 3458659276 is finished\n",
      "Encountered 429 Error (Rate Limit Exceeded)\n",
      "Retrying in 15 minutes...ZzZ...\n",
      "...ZzZ...Awake now and trying again.\n",
      "Graph Construction for 1720502701 is finished\n",
      "Graph Construction for 3986186235 is finished\n",
      "Encountered 401 Error (Not Authorized)\n",
      "Graph Construction for 2385312112 is finished\n",
      "Graph Construction for 214584456 is finished"
     ]
    },
    {
     "name": "stdout",
     "output_type": "stream",
     "text": [
      "\n",
      "[[ 0.15        0.28333333  0.28333333  0.          0.          0.          0.\n",
      "   0.          0.          0.          0.085     ]\n",
      " [ 0.28333333  0.15        0.28333333  0.          0.          0.          0.\n",
      "   0.          0.          0.          0.085     ]\n",
      " [ 0.28333333  0.          0.15        0.          0.          0.          0.\n",
      "   0.          0.          0.          0.085     ]\n",
      " [ 0.          0.          0.          0.15        0.          0.          0.\n",
      "   0.          0.          0.          0.085     ]\n",
      " [ 0.          0.          0.          0.          0.15        0.\n",
      "   0.28333333  0.          0.425       0.          0.085     ]\n",
      " [ 0.          0.          0.          0.          0.          0.15        0.\n",
      "   0.28333333  0.          0.          0.085     ]\n",
      " [ 0.          0.28333333  0.          0.425       0.          0.2125      0.15\n",
      "   0.28333333  0.          0.          0.085     ]\n",
      " [ 0.          0.          0.          0.          0.          0.2125      0.\n",
      "   0.15        0.          0.          0.085     ]\n",
      " [ 0.          0.          0.          0.          0.425       0.2125\n",
      "   0.28333333  0.          0.15        0.          0.085     ]\n",
      " [ 0.          0.          0.          0.          0.          0.          0.\n",
      "   0.          0.          0.15        0.085     ]\n",
      " [ 0.28333333  0.28333333  0.28333333  0.425       0.425       0.2125\n",
      "   0.28333333  0.28333333  0.425       0.85        0.15      ]]"
     ]
    },
    {
     "name": "stderr",
     "output_type": "stream",
     "text": [
      "\n",
      "Fetched 7 total friends ids for 1864435375\n",
      "Fetched 142 total followers ids for 1864435375"
     ]
    },
    {
     "name": "stdout",
     "output_type": "stream",
     "text": [
      "\n",
      "now constructing graphs"
     ]
    },
    {
     "name": "stderr",
     "output_type": "stream",
     "text": [
      "\n",
      "Graph Construction for 1317340518 is finished\n",
      "Graph Construction for 1864435375 is finished"
     ]
    },
    {
     "name": "stdout",
     "output_type": "stream",
     "text": [
      "\n",
      "[[ 0.15  0.85]\n",
      " [ 0.85  0.15]]"
     ]
    },
    {
     "name": "stderr",
     "output_type": "stream",
     "text": [
      "\n",
      "Fetched 667 total friends ids for 244873413\n",
      "Fetched 5000 total followers ids for 244873413"
     ]
    },
    {
     "name": "stdout",
     "output_type": "stream",
     "text": [
      "\n",
      "now constructing graphs"
     ]
    },
    {
     "name": "stderr",
     "output_type": "stream",
     "text": [
      "\n",
      "Graph Construction for 196415460 is finished\n",
      "Graph Construction for 244873413 is finished"
     ]
    },
    {
     "name": "stdout",
     "output_type": "stream",
     "text": [
      "\n",
      "[[ 0.15  0.85]\n",
      " [ 0.85  0.15]]"
     ]
    },
    {
     "name": "stderr",
     "output_type": "stream",
     "text": [
      "\n",
      "Fetched 485 total friends ids for 63382216\n",
      "Fetched 2266 total followers ids for 63382216"
     ]
    },
    {
     "name": "stdout",
     "output_type": "stream",
     "text": [
      "\n",
      "now constructing graphs"
     ]
    },
    {
     "name": "stderr",
     "output_type": "stream",
     "text": [
      "\n",
      "Graph Construction for 456819201 is finished\n",
      "Graph Construction for 173358083 is finished\n",
      "Graph Construction for 393014791 is finished\n",
      "Graph Construction for 328311822 is finished\n",
      "Graph Construction for 3241963024 is finished\n",
      "Graph Construction for 332520536 is finished\n",
      "Graph Construction for 217336340 is finished\n",
      "Graph Construction for 3226677271 is finished\n",
      "Graph Construction for 292678169 is finished\n",
      "Graph Construction for 2640557083 is finished\n",
      "Graph Construction for 63382216 is finished"
     ]
    },
    {
     "name": "stdout",
     "output_type": "stream",
     "text": [
      "\n",
      "[[ 0.15        0.          0.          0.          0.          0.          0.\n",
      "   0.          0.12142857  0.          0.085     ]\n",
      " [ 0.          0.15        0.          0.          0.          0.          0.\n",
      "   0.          0.12142857  0.          0.085     ]\n",
      " [ 0.          0.          0.15        0.          0.          0.          0.\n",
      "   0.          0.12142857  0.          0.085     ]\n",
      " [ 0.          0.          0.          0.15        0.          0.          0.\n",
      "   0.          0.12142857  0.          0.085     ]\n",
      " [ 0.          0.          0.          0.          0.15        0.\n",
      "   0.28333333  0.          0.12142857  0.          0.085     ]\n",
      " [ 0.          0.          0.          0.          0.          0.15        0.\n",
      "   0.          0.          0.          0.085     ]\n",
      " [ 0.          0.          0.          0.          0.          0.          0.15\n",
      "   0.          0.12142857  0.          0.085     ]\n",
      " [ 0.          0.          0.          0.          0.          0.          0.\n",
      "   0.15        0.          0.          0.085     ]\n",
      " [ 0.425       0.          0.425       0.425       0.425       0.\n",
      "   0.28333333  0.          0.15        0.          0.085     ]\n",
      " [ 0.          0.          0.          0.          0.          0.          0.\n",
      "   0.          0.          0.15        0.085     ]\n",
      " [ 0.425       0.85        0.425       0.425       0.425       0.85\n",
      "   0.28333333  0.85        0.12142857  0.85        0.15      ]]"
     ]
    },
    {
     "name": "stderr",
     "output_type": "stream",
     "text": [
      "\n",
      "Fetched 231 total friends ids for 608158960\n",
      "Fetched 291 total followers ids for 608158960"
     ]
    },
    {
     "name": "stdout",
     "output_type": "stream",
     "text": [
      "\n",
      "now constructing graphs"
     ]
    },
    {
     "name": "stderr",
     "output_type": "stream",
     "text": [
      "\n",
      "Graph Construction for 1118011393 is finished\n",
      "Graph Construction for 2453603593 is finished\n",
      "Graph Construction for 163730859 is finished\n",
      "Graph Construction for 2478913428 is finished\n",
      "Graph Construction for 4127364148 is finished\n",
      "Graph Construction for 1183728474 is finished\n",
      "Graph Construction for 608158960 is finished"
     ]
    },
    {
     "name": "stdout",
     "output_type": "stream",
     "text": [
      "\n",
      "[[ 0.15        0.          0.          0.          0.          0.\n",
      "   0.14166667]\n",
      " [ 0.          0.15        0.          0.          0.          0.\n",
      "   0.14166667]\n",
      " [ 0.          0.          0.15        0.          0.          0.\n",
      "   0.14166667]\n",
      " [ 0.          0.          0.          0.15        0.          0.\n",
      "   0.14166667]\n",
      " [ 0.          0.          0.          0.          0.15        0.\n",
      "   0.14166667]\n",
      " [ 0.          0.425       0.          0.          0.          0.15\n",
      "   0.14166667]\n",
      " [ 0.85        0.425       0.85        0.85        0.85        0.85        0.15      ]]"
     ]
    },
    {
     "name": "stderr",
     "output_type": "stream",
     "text": [
      "\n",
      "Fetched 749 total friends ids for 267061023\n",
      "Fetched 2772 total followers ids for 267061023"
     ]
    },
    {
     "name": "stdout",
     "output_type": "stream",
     "text": [
      "\n",
      "now constructing graphs"
     ]
    },
    {
     "name": "stderr",
     "output_type": "stream",
     "text": [
      "\n",
      "Encountered 401 Error (Not Authorized)\n",
      "Encountered 401 Error (Not Authorized)\n",
      "Encountered 401 Error (Not Authorized)\n",
      "Graph Construction for 620884480 is finished\n",
      "Graph Construction for 28391425 is finished\n",
      "Encountered 401 Error (Not Authorized)\n",
      "Encountered 401 Error (Not Authorized)\n",
      "Graph Construction for 1683993602 is finished\n",
      "Graph Construction for 2893157379 is finished\n",
      "Graph Construction for 148492811 is finished\n",
      "Graph Construction for 477435918 is finished\n",
      "Encountered 401 Error (Not Authorized)\n",
      "Graph Construction for 1597395288 is finished\n",
      "Graph Construction for 2872809495 is finished\n",
      "Graph Construction for 581162017 is finished\n",
      "Graph Construction for 1952386092 is finished\n",
      "Graph Construction for 267061023 is finished"
     ]
    },
    {
     "name": "stdout",
     "output_type": "stream",
     "text": [
      "\n",
      "[[ 0.15        0.          0.          0.          0.28333333  0.          0.\n",
      "   0.          0.          0.          0.085     ]\n",
      " [ 0.          0.15        0.          0.          0.          0.          0.\n",
      "   0.          0.          0.          0.085     ]\n",
      " [ 0.          0.          0.15        0.          0.28333333  0.          0.\n",
      "   0.          0.          0.          0.085     ]\n",
      " [ 0.          0.          0.          0.15        0.          0.          0.\n",
      "   0.          0.          0.          0.085     ]\n",
      " [ 0.425       0.          0.425       0.          0.15        0.          0.\n",
      "   0.          0.          0.          0.085     ]\n",
      " [ 0.          0.          0.          0.          0.          0.15        0.\n",
      "   0.          0.          0.          0.085     ]\n",
      " [ 0.          0.          0.          0.          0.          0.          0.15\n",
      "   0.          0.          0.          0.085     ]\n",
      " [ 0.          0.          0.          0.          0.          0.          0.\n",
      "   0.15        0.          0.          0.085     ]\n",
      " [ 0.          0.          0.          0.          0.          0.          0.\n",
      "   0.          0.15        0.          0.085     ]\n",
      " [ 0.          0.          0.          0.          0.          0.          0.\n",
      "   0.          0.          0.15        0.085     ]\n",
      " [ 0.425       0.85        0.425       0.85        0.28333333  0.85        0.85\n",
      "   0.85        0.85        0.85        0.15      ]]"
     ]
    },
    {
     "name": "stderr",
     "output_type": "stream",
     "text": [
      "\n",
      "Fetched 59 total friends ids for 945012014\n",
      "Fetched 104 total followers ids for 945012014"
     ]
    },
    {
     "name": "stdout",
     "output_type": "stream",
     "text": [
      "\n",
      "now constructing graphs"
     ]
    },
    {
     "name": "stderr",
     "output_type": "stream",
     "text": [
      "\n",
      "Encountered 429 Error (Rate Limit Exceeded)\n",
      "Retrying in 15 minutes...ZzZ...\n",
      "...ZzZ...Awake now and trying again.\n",
      "Graph Construction for 3998637827 is finished\n",
      "Graph Construction for 3039857925 is finished\n",
      "Graph Construction for 3235289862 is finished\n",
      "Encountered 401 Error (Not Authorized)\n",
      "Encountered 401 Error (Not Authorized)\n",
      "Graph Construction for 2185499015 is finished\n",
      "Graph Construction for 4442804182 is finished\n",
      "Graph Construction for 2282715027 is finished\n",
      "Graph Construction for 3991075220 is finished\n",
      "Encountered 401 Error (Not Authorized)\n",
      "Graph Construction for 3387553685 is finished\n",
      "Graph Construction for 3296136345 is finished\n",
      "Graph Construction for 2317297306 is finished\n",
      "Graph Construction for 945012014 is finished"
     ]
    },
    {
     "name": "stdout",
     "output_type": "stream",
     "text": [
      "\n",
      "[[ 0.15        0.14166667  0.12142857  0.          0.          0.          0.\n",
      "   0.14166667  0.17        0.12142857  0.085     ]\n",
      " [ 0.28333333  0.15        0.12142857  0.2125      0.2125      0.          0.\n",
      "   0.          0.          0.12142857  0.085     ]\n",
      " [ 0.          0.14166667  0.15        0.          0.          0.          0.\n",
      "   0.          0.          0.12142857  0.085     ]\n",
      " [ 0.          0.14166667  0.          0.15        0.          0.28333333\n",
      "   0.          0.          0.          0.12142857  0.085     ]\n",
      " [ 0.          0.14166667  0.12142857  0.          0.15        0.          0.\n",
      "   0.14166667  0.          0.12142857  0.085     ]\n",
      " [ 0.          0.          0.          0.2125      0.          0.15        0.\n",
      "   0.14166667  0.17        0.          0.085     ]\n",
      " [ 0.          0.          0.          0.          0.          0.          0.15\n",
      "   0.          0.          0.          0.085     ]\n",
      " [ 0.28333333  0.          0.12142857  0.          0.2125      0.28333333\n",
      "   0.          0.15        0.17        0.12142857  0.085     ]\n",
      " [ 0.          0.          0.12142857  0.          0.          0.          0.\n",
      "   0.14166667  0.15        0.          0.085     ]\n",
      " [ 0.          0.14166667  0.12142857  0.2125      0.2125      0.          0.\n",
      "   0.14166667  0.17        0.15        0.085     ]\n",
      " [ 0.28333333  0.14166667  0.12142857  0.2125      0.2125      0.28333333\n",
      "   0.85        0.14166667  0.17        0.12142857  0.15      ]]"
     ]
    },
    {
     "name": "stderr",
     "output_type": "stream",
     "text": [
      "\n",
      "Fetched 214 total friends ids for 36063241\n",
      "Fetched 578 total followers ids for 36063241"
     ]
    },
    {
     "name": "stdout",
     "output_type": "stream",
     "text": [
      "\n",
      "now constructing graphs"
     ]
    },
    {
     "name": "stderr",
     "output_type": "stream",
     "text": [
      "\n",
      "Encountered 401 Error (Not Authorized)\n",
      "Encountered 401 Error (Not Authorized)\n",
      "Encountered 401 Error (Not Authorized)\n",
      "Graph Construction for 160840800 is finished\n",
      "Graph Construction for 1040492736 is finished\n",
      "Encountered 401 Error (Not Authorized)\n",
      "Encountered 401 Error (Not Authorized)\n",
      "Graph Construction for 81073859 is finished\n",
      "Graph Construction for 3227735377 is finished\n",
      "Graph Construction for 48904520 is finished\n",
      "Graph Construction for 2590128396 is finished\n",
      "Graph Construction for 11026992 is finished\n",
      "Encountered 401 Error (Not Authorized)\n",
      "Graph Construction for 20425521 is finished\n",
      "Graph Construction for 50934900 is finished\n",
      "Graph Construction for 40739351 is finished\n",
      "Graph Construction for 36063241 is finished"
     ]
    },
    {
     "name": "stdout",
     "output_type": "stream",
     "text": [
      "\n",
      "[[ 0.15        0.          0.          0.          0.          0.          0.\n",
      "   0.          0.          0.          0.085     ]\n",
      " [ 0.          0.15        0.          0.28333333  0.          0.          0.\n",
      "   0.          0.28333333  0.          0.085     ]\n",
      " [ 0.          0.          0.15        0.          0.          0.          0.2125\n",
      "   0.          0.          0.          0.085     ]\n",
      " [ 0.          0.28333333  0.          0.15        0.          0.          0.\n",
      "   0.          0.28333333  0.          0.085     ]\n",
      " [ 0.          0.          0.28333333  0.          0.15        0.          0.2125\n",
      "   0.425       0.          0.28333333  0.085     ]\n",
      " [ 0.          0.          0.          0.          0.          0.15        0.\n",
      "   0.          0.          0.          0.085     ]\n",
      " [ 0.          0.          0.28333333  0.          0.2125      0.          0.15\n",
      "   0.          0.          0.28333333  0.085     ]\n",
      " [ 0.          0.          0.          0.          0.2125      0.          0.\n",
      "   0.15        0.          0.          0.085     ]\n",
      " [ 0.          0.28333333  0.          0.28333333  0.          0.          0.\n",
      "   0.          0.15        0.          0.085     ]\n",
      " [ 0.          0.          0.          0.          0.2125      0.          0.2125\n",
      "   0.          0.          0.15        0.085     ]\n",
      " [ 0.85        0.28333333  0.28333333  0.28333333  0.2125      0.85        0.2125\n",
      "   0.425       0.28333333  0.28333333  0.15      ]]"
     ]
    },
    {
     "name": "stderr",
     "output_type": "stream",
     "text": [
      "\n",
      "Fetched 29 total friends ids for 428702574\n",
      "Fetched 236 total followers ids for 428702574"
     ]
    },
    {
     "name": "stdout",
     "output_type": "stream",
     "text": [
      "\n",
      "now constructing graphs"
     ]
    },
    {
     "name": "stderr",
     "output_type": "stream",
     "text": [
      "\n",
      "Graph Construction for 3097447936 is finished\n",
      "Graph Construction for 28739265 is finished\n",
      "Graph Construction for 21596164 is finished\n",
      "Graph Construction for 79488677 is finished\n",
      "Graph Construction for 1184680934 is finished\n",
      "Graph Construction for 14047207 is finished\n",
      "Encountered 429 Error (Rate Limit Exceeded)\n",
      "Retrying in 15 minutes...ZzZ...\n",
      "...ZzZ...Awake now and trying again.\n",
      "Graph Construction for 309202664 is finished\n",
      "Graph Construction for 62943292 is finished\n",
      "Graph Construction for 26672522 is finished\n",
      "Graph Construction for 53581965 is finished\n",
      "Graph Construction for 428702574 is finished"
     ]
    },
    {
     "name": "stdout",
     "output_type": "stream",
     "text": [
      "\n",
      "[[ 0.15        0.          0.09444444  0.          0.          0.          0.\n",
      "   0.12142857  0.          0.          0.085     ]\n",
      " [ 0.          0.15        0.          0.28333333  0.          0.          0.\n",
      "   0.          0.          0.          0.085     ]\n",
      " [ 0.28333333  0.          0.15        0.          0.          0.17        0.2125\n",
      "   0.12142857  0.17        0.          0.085     ]\n",
      " [ 0.          0.425       0.09444444  0.15        0.          0.          0.2125\n",
      "   0.          0.17        0.          0.085     ]\n",
      " [ 0.          0.          0.09444444  0.          0.15        0.17        0.\n",
      "   0.          0.          0.          0.085     ]\n",
      " [ 0.          0.          0.09444444  0.          0.          0.15        0.\n",
      "   0.12142857  0.17        0.          0.085     ]\n",
      " [ 0.          0.          0.09444444  0.28333333  0.          0.          0.15\n",
      "   0.12142857  0.          0.          0.085     ]\n",
      " [ 0.28333333  0.          0.09444444  0.          0.          0.17        0.2125\n",
      "   0.15        0.17        0.425       0.085     ]\n",
      " [ 0.          0.          0.09444444  0.          0.          0.17        0.\n",
      "   0.12142857  0.15        0.          0.085     ]\n",
      " [ 0.          0.          0.09444444  0.          0.          0.          0.\n",
      "   0.12142857  0.          0.15        0.085     ]\n",
      " [ 0.28333333  0.425       0.09444444  0.28333333  0.85        0.17        0.2125\n",
      "   0.12142857  0.17        0.425       0.15      ]]"
     ]
    },
    {
     "name": "stderr",
     "output_type": "stream",
     "text": [
      "\n",
      "Fetched 304 total friends ids for 271601301\n",
      "Fetched 521 total followers ids for 271601301"
     ]
    },
    {
     "name": "stdout",
     "output_type": "stream",
     "text": [
      "\n",
      "now constructing graphs"
     ]
    },
    {
     "name": "stderr",
     "output_type": "stream",
     "text": [
      "\n",
      "Graph Construction for 1198200750 is finished\n",
      "Graph Construction for 2540852360 is finished\n",
      "Graph Construction for 32455305 is finished\n",
      "Graph Construction for 2598910988 is finished\n",
      "Graph Construction for 2425446669 is finished\n",
      "Graph Construction for 632766867 is finished\n",
      "Graph Construction for 116302356 is finished\n",
      "Graph Construction for 741414421 is finished\n",
      "Graph Construction for 19537303 is finished\n",
      "Graph Construction for 2495930520 is finished\n",
      "Graph Construction for 271601301 is finished"
     ]
    },
    {
     "name": "stdout",
     "output_type": "stream",
     "text": [
      "\n",
      "[[ 0.15    0.      0.      0.      0.17    0.      0.      0.      0.      0.\n",
      "   0.085 ]\n",
      " [ 0.      0.15    0.      0.      0.      0.      0.      0.      0.      0.\n",
      "   0.085 ]\n",
      " [ 0.      0.      0.15    0.      0.      0.      0.      0.      0.      0.\n",
      "   0.085 ]\n",
      " [ 0.      0.      0.      0.15    0.17    0.      0.2125  0.      0.\n",
      "   0.2125  0.085 ]\n",
      " [ 0.2125  0.      0.      0.2125  0.15    0.      0.2125  0.      0.\n",
      "   0.2125  0.085 ]\n",
      " [ 0.      0.      0.      0.      0.      0.15    0.      0.      0.      0.\n",
      "   0.085 ]\n",
      " [ 0.2125  0.      0.      0.2125  0.17    0.      0.15    0.      0.\n",
      "   0.2125  0.085 ]\n",
      " [ 0.      0.      0.425   0.      0.      0.      0.      0.15    0.      0.\n",
      "   0.085 ]\n",
      " [ 0.      0.      0.      0.      0.      0.      0.      0.      0.15    0.\n",
      "   0.085 ]\n",
      " [ 0.2125  0.      0.      0.2125  0.17    0.      0.2125  0.      0.      0.15\n",
      "   0.085 ]\n",
      " [ 0.2125  0.85    0.425   0.2125  0.17    0.85    0.2125  0.85    0.85\n",
      "   0.2125  0.15  ]]"
     ]
    },
    {
     "name": "stderr",
     "output_type": "stream",
     "text": [
      "\n",
      "Fetched 38 total friends ids for 15370140\n",
      "Fetched 297 total followers ids for 15370140"
     ]
    },
    {
     "name": "stdout",
     "output_type": "stream",
     "text": [
      "\n",
      "now constructing graphs"
     ]
    },
    {
     "name": "stderr",
     "output_type": "stream",
     "text": [
      "\n",
      "Graph Construction for 7093352 is finished\n",
      "Graph Construction for 84909450 is finished\n",
      "Graph Construction for 362163114 is finished\n",
      "Graph Construction for 19685520 is finished\n",
      "Graph Construction for 120375096 is finished\n",
      "Graph Construction for 138831189 is finished\n",
      "Graph Construction for 2984479160 is finished\n",
      "Graph Construction for 361548986 is finished\n",
      "Encountered 401 Error (Not Authorized)\n",
      "Graph Construction for 484968138 is finished\n",
      "Graph Construction for 15370140 is finished"
     ]
    },
    {
     "name": "stdout",
     "output_type": "stream",
     "text": [
      "\n",
      "[[ 0.15        0.          0.          0.          0.          0.          0.\n",
      "   0.          0.          0.09444444]\n",
      " [ 0.          0.15        0.          0.          0.          0.          0.\n",
      "   0.          0.          0.09444444]\n",
      " [ 0.          0.          0.15        0.28333333  0.          0.          0.\n",
      "   0.          0.          0.09444444]\n",
      " [ 0.          0.          0.28333333  0.15        0.          0.          0.\n",
      "   0.425       0.          0.09444444]\n",
      " [ 0.          0.          0.          0.          0.15        0.          0.\n",
      "   0.          0.425       0.09444444]\n",
      " [ 0.          0.          0.          0.          0.          0.15        0.\n",
      "   0.          0.          0.09444444]\n",
      " [ 0.          0.          0.          0.          0.          0.          0.15\n",
      "   0.          0.          0.09444444]\n",
      " [ 0.          0.          0.28333333  0.28333333  0.          0.          0.\n",
      "   0.15        0.          0.09444444]\n",
      " [ 0.          0.          0.          0.          0.425       0.          0.\n",
      "   0.          0.15        0.09444444]\n",
      " [ 0.85        0.85        0.28333333  0.28333333  0.425       0.85        0.85\n",
      "   0.425       0.425       0.15      ]]"
     ]
    },
    {
     "name": "stderr",
     "output_type": "stream",
     "text": [
      "\n",
      "Fetched 43 total friends ids for 432500173\n",
      "Fetched 168 total followers ids for 432500173"
     ]
    },
    {
     "name": "stdout",
     "output_type": "stream",
     "text": [
      "\n",
      "now constructing graphs"
     ]
    },
    {
     "name": "stderr",
     "output_type": "stream",
     "text": [
      "\n",
      "Graph Construction for 1436882689 is finished\n",
      "Graph Construction for 531799722 is finished\n",
      "Graph Construction for 451116492 is finished\n",
      "Graph Construction for 354708653 is finished\n",
      "Graph Construction for 249178415 is finished\n",
      "Graph Construction for 2268100688 is finished\n",
      "Encountered 429 Error (Rate Limit Exceeded)\n",
      "Retrying in 15 minutes...ZzZ...\n",
      "...ZzZ...Awake now and trying again.\n",
      "Graph Construction for 248262289 is finished\n",
      "Graph Construction for 1965371060 is finished\n",
      "Graph Construction for 87154922 is finished\n",
      "Graph Construction for 432500173 is finished"
     ]
    },
    {
     "name": "stdout",
     "output_type": "stream",
     "text": [
      "\n",
      "[[ 0.15        0.17        0.          0.          0.          0.          0.\n",
      "   0.          0.          0.09444444]\n",
      " [ 0.425       0.15        0.28333333  0.425       0.28333333  0.          0.\n",
      "   0.          0.          0.09444444]\n",
      " [ 0.          0.17        0.15        0.          0.          0.          0.\n",
      "   0.          0.          0.09444444]\n",
      " [ 0.          0.17        0.28333333  0.15        0.          0.          0.\n",
      "   0.          0.          0.09444444]\n",
      " [ 0.          0.17        0.          0.          0.15        0.          0.\n",
      "   0.          0.425       0.09444444]\n",
      " [ 0.          0.          0.          0.          0.          0.15        0.\n",
      "   0.          0.          0.09444444]\n",
      " [ 0.          0.          0.          0.          0.          0.          0.15\n",
      "   0.          0.          0.09444444]\n",
      " [ 0.          0.          0.          0.          0.          0.          0.\n",
      "   0.15        0.          0.09444444]\n",
      " [ 0.          0.          0.          0.          0.28333333  0.          0.\n",
      "   0.          0.15        0.09444444]\n",
      " [ 0.425       0.17        0.28333333  0.425       0.28333333  0.85        0.85\n",
      "   0.85        0.425       0.15      ]]"
     ]
    },
    {
     "name": "stderr",
     "output_type": "stream",
     "text": [
      "\n",
      "Fetched 46 total friends ids for 371513766\n",
      "Fetched 248 total followers ids for 371513766"
     ]
    },
    {
     "name": "stdout",
     "output_type": "stream",
     "text": [
      "\n",
      "now constructing graphs"
     ]
    },
    {
     "name": "stderr",
     "output_type": "stream",
     "text": [
      "\n",
      "Graph Construction for 622077958 is finished\n",
      "Graph Construction for 333722022 is finished\n",
      "Graph Construction for 213017511 is finished\n",
      "Graph Construction for 34613288 is finished\n",
      "Graph Construction for 4244941575 is finished\n",
      "Graph Construction for 380615661 is finished\n",
      "Graph Construction for 1496536368 is finished\n",
      "Graph Construction for 1258363284 is finished\n",
      "Graph Construction for 393787000 is finished\n",
      "Graph Construction for 2206803322 is finished\n",
      "Graph Construction for 371513766 is finished"
     ]
    },
    {
     "name": "stdout",
     "output_type": "stream",
     "text": [
      "\n",
      "[[ 0.15        0.          0.          0.          0.          0.          0.\n",
      "   0.          0.          0.          0.085     ]\n",
      " [ 0.          0.15        0.2125      0.          0.          0.          0.\n",
      "   0.2125      0.          0.          0.085     ]\n",
      " [ 0.          0.28333333  0.15        0.          0.          0.          0.17\n",
      "   0.          0.28333333  0.          0.085     ]\n",
      " [ 0.          0.          0.          0.15        0.          0.          0.\n",
      "   0.          0.          0.          0.085     ]\n",
      " [ 0.          0.          0.          0.          0.15        0.          0.\n",
      "   0.          0.          0.          0.085     ]\n",
      " [ 0.          0.          0.          0.          0.          0.15        0.\n",
      "   0.          0.          0.          0.085     ]\n",
      " [ 0.          0.          0.2125      0.          0.          0.          0.15\n",
      "   0.2125      0.28333333  0.28333333  0.085     ]\n",
      " [ 0.          0.28333333  0.          0.          0.          0.          0.17\n",
      "   0.15        0.          0.28333333  0.085     ]\n",
      " [ 0.          0.          0.2125      0.          0.          0.          0.17\n",
      "   0.          0.15        0.          0.085     ]\n",
      " [ 0.          0.          0.          0.          0.          0.          0.17\n",
      "   0.2125      0.          0.15        0.085     ]\n",
      " [ 0.85        0.28333333  0.2125      0.85        0.85        0.85        0.17\n",
      "   0.2125      0.28333333  0.28333333  0.15      ]]\n"
     ]
    },
    {
     "name": "stderr",
     "output_type": "stream",
     "text": [
      "\n"
     ]
    }
   ],
   "source": [
    "scores = {}\n",
    "for i in further_filtered:\n",
    "    u = twitter_api.users.show(user_id = i,include_user_entities = True)\n",
    "    scores[i] = 1.0 * u['followers_count'] / u['friends_count']\n",
    "    print >> sys.stderr, 'Fetched Scores for {0}'.format(i)\n",
    "\n",
    "\n",
    "result = {}\n",
    "for i in further_filtered:\n",
    "    tmp = get_network_scores(i, 10, 0.85)\n",
    "    result[tmp[0]] = tmp[1] * scores[tmp[0]]\n",
    "    "
   ]
  },
  {
   "cell_type": "code",
   "execution_count": 247,
   "metadata": {
    "collapsed": false
   },
   "outputs": [
    {
     "data": {
      "text/plain": [
       "{15370140: array([ 0.31689087,  0.31689087,  0.63364094,  0.95040418,  0.63386536,\n",
       "         0.31689087,  0.31689087,  0.84481643,  0.63386536,  2.8516337 ]),\n",
       " 22793219: array([ 0.08919265,  0.08919265,  0.08919265,  0.13378233,  0.08919265,\n",
       "         0.17837631,  0.08919265,  0.08919265,  0.17837631,  0.08919265,\n",
       "         0.89180995]),\n",
       " 36063241: array([ 0.07306214,  0.21946186,  0.14456742,  0.21946186,  0.35036903,\n",
       "         0.07306214,  0.28613792,  0.16061962,  0.21946186,  0.2321249 ,\n",
       "         0.73059143]),\n",
       " 43112027: array([  3.3155921 ,   3.3155921 ,   3.3155921 ,   3.3155921 ,\n",
       "          3.3155921 ,  16.57588564]),\n",
       " 63382216: array([ 0.27961617,  0.27961617,  0.27961617,  0.27961617,  0.3728322 ,\n",
       "         0.15728224,  0.27961617,  0.15728224,  0.85639618,  0.15728224,\n",
       "         1.57300899]),\n",
       " 158434306: array([ 0.25275788,  0.40442868,  0.25275788,  0.37915845,  0.40442868,\n",
       "         0.45498927,  0.25275788,  0.25275788,  0.25275788,  0.25275788,\n",
       "         2.52794761]),\n",
       " 214584456: array([ 0.42853933,  0.42853933,  0.32140385,  0.1785346 ,  0.77147448,\n",
       "         0.25965871,  0.55664221,  0.24343574,  0.8147075 ,  0.1785346 ,\n",
       "         1.78519631]),\n",
       " 244873413: array([ 171.35510511,  171.35510511]),\n",
       " 246846985: array([  2.156339  ,   4.85195923,   2.156339  ,   2.156339  ,\n",
       "          8.08656599,   7.00865784,   2.156339  ,   2.156339  ,\n",
       "          2.156339  ,   2.156339  ,  21.56603889]),\n",
       " 267061023: array([ 0.30863177,  0.15431072,  0.30863177,  0.15431072,  0.46297023,\n",
       "         0.15431072,  0.15431072,  0.15431072,  0.15431072,  0.15431072,\n",
       "         1.54334452]),\n",
       " 271601301: array([ 0.09421505,  0.04713502,  0.04713502,  0.20720885,  0.23546818,\n",
       "         0.04713502,  0.22605131,  0.07071379,  0.04713502,  0.22605131,\n",
       "         0.47122336]),\n",
       " 371513766: array([ 0.14977209,  0.44925277,  0.59900173,  0.14977209,  0.14977209,\n",
       "         0.14977209,  0.74874337,  0.59900173,  0.44924807,  0.44924807,\n",
       "         1.49772023]),\n",
       " 428702574: array([ 0.43633163,  0.45624798,  0.87824559,  0.80021615,  0.39620688,\n",
       "         0.54543062,  0.70304188,  1.04480771,  0.54543062,  0.43633163,\n",
       "         1.89564036]),\n",
       " 432500173: array([ 0.27256292,  0.68145787,  0.27256292,  0.36342727,  0.4088596 ,\n",
       "         0.13628218,  0.13628218,  0.13628218,  0.27257773,  1.22668189]),\n",
       " 559720576: array([ 0.16233002,  0.36516322,  0.48688172,  0.32477721,  0.60864419,\n",
       "         0.16233002,  0.16233002,  0.16233002,  0.16233002,  0.32477721,\n",
       "         1.62356087]),\n",
       " 570093647: array([  3.09477168,   4.63730502,   4.6373697 ,  10.82071701,\n",
       "          4.64128688,   6.18271615,   3.09164041,   1.5465172 ,\n",
       "          9.27299982,   4.6373697 ,  15.46106454]),\n",
       " 608158960: array([ 0.10078507,  0.10078507,  0.10078507,  0.10078507,  0.10078507,\n",
       "         0.15117146,  0.60464346]),\n",
       " 778984993: array([ 0.30291505,  0.30643232,  0.24757553,  0.17810383,  0.2458171 ,\n",
       "         0.24159667,  0.38851107,  0.38108395,  0.45741619,  0.12676092,\n",
       "         0.65439961]),\n",
       " 945012014: array([ 0.16028578,  0.19707441,  0.09380095,  0.13338682,  0.14382513,\n",
       "         0.11871026,  0.03226937,  0.2197687 ,  0.08229354,  0.20088901,\n",
       "         0.32261406]),\n",
       " 1527529573: array([ 0.05331333,  0.26637163,  0.08533128,  0.17759443,  0.17759443,\n",
       "         0.05331333,  0.09600123,  0.21310531,  0.08533128,  0.17759443,\n",
       "         0.53305399]),\n",
       " 1864435375: array([ 10.07142857,  10.07142857])}"
      ]
     },
     "execution_count": 247,
     "metadata": {},
     "output_type": "execute_result"
    }
   ],
   "source": [
    "result"
   ]
  },
  {
   "cell_type": "markdown",
   "metadata": {},
   "source": [
    "### to show the scores for users"
   ]
  },
  {
   "cell_type": "code",
   "execution_count": 246,
   "metadata": {
    "collapsed": false
   },
   "outputs": [
    {
     "data": {
      "text/plain": [
       "[{559720576: 1.6235608660175267},\n",
       " {778984993: 0.65439960759858029},\n",
       " {158434306: 2.5279476114235875},\n",
       " {22793219: 0.89180994765109967},\n",
       " {267061023: 1.5433445200186386},\n",
       " {1527529573: 0.53305398677515903},\n",
       " {371513766: 1.4977202314577818},\n",
       " {214584456: 1.7851963114870311},\n",
       " {246846985: 21.566038890615488},\n",
       " {271601301: 0.47122336258484748},\n",
       " {945012014: 0.32261406236558482},\n",
       " {570093647: 15.461064539444228},\n",
       " {608158960: 0.60464346252655898},\n",
       " {63382216: 1.5730089917560031},\n",
       " {428702574: 1.8956403562360387},\n",
       " {36063241: 0.73059142861020065},\n",
       " {432500173: 1.2266818901642089},\n",
       " {43112027: 16.57588563999348},\n",
       " {15370140: 2.8516337010427515},\n",
       " {1864435375: 10.071428571428571},\n",
       " {244873413: 171.35510510510511}]"
      ]
     },
     "execution_count": 246,
     "metadata": {},
     "output_type": "execute_result"
    }
   ],
   "source": [
    "[{i:result[i][len(result[i])-1]} for i in result.keys()]"
   ]
  },
  {
   "cell_type": "code",
   "execution_count": 267,
   "metadata": {
    "collapsed": false
   },
   "outputs": [
    {
     "data": {
      "text/plain": [
       "[559720576,\n",
       " 778984993,\n",
       " 158434306,\n",
       " 22793219,\n",
       " 267061023,\n",
       " 1527529573,\n",
       " 371513766,\n",
       " 214584456,\n",
       " 246846985,\n",
       " 271601301,\n",
       " 945012014,\n",
       " 570093647,\n",
       " 608158960,\n",
       " 63382216,\n",
       " 428702574,\n",
       " 36063241,\n",
       " 432500173,\n",
       " 43112027,\n",
       " 15370140,\n",
       " 1864435375,\n",
       " 244873413]"
      ]
     },
     "execution_count": 267,
     "metadata": {},
     "output_type": "execute_result"
    }
   ],
   "source": [
    "users =[i for i in result.keys()]\n",
    "users"
   ]
  },
  {
   "cell_type": "code",
   "execution_count": 270,
   "metadata": {
    "collapsed": false
   },
   "outputs": [
    {
     "data": {
      "text/plain": [
       "[{u'contributors_enabled': False,\n",
       "  u'created_at': u'Sat Apr 21 17:08:04 +0000 2012',\n",
       "  u'default_profile': False,\n",
       "  u'default_profile_image': False,\n",
       "  u'description': u'Le jeu touche \\xe0 sa fin.',\n",
       "  u'entities': {u'description': {u'urls': []}},\n",
       "  u'favourites_count': 2527,\n",
       "  u'follow_request_sent': False,\n",
       "  u'followers_count': 1149,\n",
       "  u'following': False,\n",
       "  u'friends_count': 255,\n",
       "  u'geo_enabled': True,\n",
       "  u'has_extended_profile': True,\n",
       "  u'id': 559720576,\n",
       "  u'id_str': u'559720576',\n",
       "  u'is_translation_enabled': False,\n",
       "  u'is_translator': False,\n",
       "  u'lang': u'fr',\n",
       "  u'listed_count': 7,\n",
       "  u'location': u'District 12',\n",
       "  u'name': u'Jos\\xe9phine',\n",
       "  u'notifications': False,\n",
       "  u'profile_background_color': u'EDECE9',\n",
       "  u'profile_background_image_url': u'http://pbs.twimg.com/profile_background_images/532120100/m_pokora_love_2.jpg',\n",
       "  u'profile_background_image_url_https': u'https://pbs.twimg.com/profile_background_images/532120100/m_pokora_love_2.jpg',\n",
       "  u'profile_background_tile': False,\n",
       "  u'profile_banner_url': u'https://pbs.twimg.com/profile_banners/559720576/1449438160',\n",
       "  u'profile_image_url': u'http://pbs.twimg.com/profile_images/673962463440842752/bQ-M-bTC_normal.jpg',\n",
       "  u'profile_image_url_https': u'https://pbs.twimg.com/profile_images/673962463440842752/bQ-M-bTC_normal.jpg',\n",
       "  u'profile_link_color': u'ABB8C2',\n",
       "  u'profile_sidebar_border_color': u'C0DEED',\n",
       "  u'profile_sidebar_fill_color': u'DDEEF6',\n",
       "  u'profile_text_color': u'333333',\n",
       "  u'profile_use_background_image': True,\n",
       "  u'protected': False,\n",
       "  u'screen_name': u'Maybekind',\n",
       "  u'status': {u'contributors': None,\n",
       "   u'coordinates': None,\n",
       "   u'created_at': u'Wed Dec 16 17:25:38 +0000 2015',\n",
       "   u'entities': {u'hashtags': [],\n",
       "    u'symbols': [],\n",
       "    u'urls': [{u'display_url': u'vine.co/v/i73idbZYQVi',\n",
       "      u'expanded_url': u'https://vine.co/v/i73idbZYQVi',\n",
       "      u'indices': [31, 54],\n",
       "      u'url': u'https://t.co/Ucq30zSOgt'}],\n",
       "    u'user_mentions': [{u'id': 500989115,\n",
       "      u'id_str': u'500989115',\n",
       "      u'indices': [3, 12],\n",
       "      u'name': u'TON AMI IMAGINAIRE \\u265b',\n",
       "      u'screen_name': u'Alextrxm'}]},\n",
       "   u'favorite_count': 0,\n",
       "   u'favorited': False,\n",
       "   u'geo': None,\n",
       "   u'id': 677177777104273408L,\n",
       "   u'id_str': u'677177777104273408',\n",
       "   u'in_reply_to_screen_name': None,\n",
       "   u'in_reply_to_status_id': None,\n",
       "   u'in_reply_to_status_id_str': None,\n",
       "   u'in_reply_to_user_id': None,\n",
       "   u'in_reply_to_user_id_str': None,\n",
       "   u'lang': u'fr',\n",
       "   u'place': None,\n",
       "   u'possibly_sensitive': False,\n",
       "   u'retweet_count': 2717,\n",
       "   u'retweeted': False,\n",
       "   u'retweeted_status': {u'contributors': None,\n",
       "    u'coordinates': None,\n",
       "    u'created_at': u'Mon Dec 14 17:00:19 +0000 2015',\n",
       "    u'entities': {u'hashtags': [],\n",
       "     u'symbols': [],\n",
       "     u'urls': [{u'display_url': u'vine.co/v/i73idbZYQVi',\n",
       "       u'expanded_url': u'https://vine.co/v/i73idbZYQVi',\n",
       "       u'indices': [17, 40],\n",
       "       u'url': u'https://t.co/Ucq30zSOgt'}],\n",
       "     u'user_mentions': []},\n",
       "    u'favorite_count': 1011,\n",
       "    u'favorited': False,\n",
       "    u'geo': None,\n",
       "    u'id': 676446630074261504L,\n",
       "    u'id_str': u'676446630074261504',\n",
       "    u'in_reply_to_screen_name': None,\n",
       "    u'in_reply_to_status_id': None,\n",
       "    u'in_reply_to_status_id_str': None,\n",
       "    u'in_reply_to_user_id': None,\n",
       "    u'in_reply_to_user_id_str': None,\n",
       "    u'lang': u'fr',\n",
       "    u'place': None,\n",
       "    u'possibly_sensitive': False,\n",
       "    u'retweet_count': 2717,\n",
       "    u'retweeted': False,\n",
       "    u'source': u'<a href=\"https://about.twitter.com/products/tweetdeck\" rel=\"nofollow\">TweetDeck</a>',\n",
       "    u'text': u'moi h24 en cours https://t.co/Ucq30zSOgt',\n",
       "    u'truncated': False},\n",
       "   u'source': u'<a href=\"http://twitter.com/download/android\" rel=\"nofollow\">Twitter for Android</a>',\n",
       "   u'text': u'RT @Alextrxm: moi h24 en cours https://t.co/Ucq30zSOgt',\n",
       "   u'truncated': False},\n",
       "  u'statuses_count': 8453,\n",
       "  u'time_zone': None,\n",
       "  u'url': None,\n",
       "  u'utc_offset': None,\n",
       "  u'verified': False}]"
      ]
     },
     "execution_count": 270,
     "metadata": {},
     "output_type": "execute_result"
    }
   ],
   "source": [
    "twitter_api.users.lookup(user_id = 559720576)\n"
   ]
  },
  {
   "cell_type": "code",
   "execution_count": 268,
   "metadata": {
    "collapsed": false
   },
   "outputs": [
    {
     "data": {
      "text/plain": [
       "[{u'fedescarabino': 778984993},\n",
       " {u'WELCHinc': 158434306},\n",
       " {u'mariagraciav': 22793219},\n",
       " {u'Musasdeldeporte': 267061023},\n",
       " {u'YTenoso': 1527529573},\n",
       " {u'YeisonAM': 371513766},\n",
       " {u'MedouneSambe': 214584456},\n",
       " {u'MarmaraForum': 246846985},\n",
       " {u'HardRockBrandi': 271601301},\n",
       " {u'garrettwallace_': 945012014},\n",
       " {u'li4mst3w4rt': 570093647},\n",
       " {u'haceratasoy': 608158960},\n",
       " {u'bicksoy': 63382216},\n",
       " {u'WestlakeHoops': 428702574},\n",
       " {u'RebeccaLiuow': 36063241},\n",
       " {u'leosouza1_': 432500173},\n",
       " {u'Etouns': 43112027},\n",
       " {u'BryanThistle': 15370140},\n",
       " {u'DeniseBerndt16': 1864435375}]"
      ]
     },
     "execution_count": 268,
     "metadata": {},
     "output_type": "execute_result"
    }
   ],
   "source": [
    "user_info  = twitter_api.users.lookup(user_id = users,count = 100)\n",
    "user_names = [{u['screen_name']:u['id']} for u in user_info]\n",
    "user_names"
   ]
  },
  {
   "cell_type": "code",
   "execution_count": 261,
   "metadata": {
    "collapsed": false
   },
   "outputs": [
    {
     "data": {
      "text/plain": [
       "[{u'contributors_enabled': False,\n",
       "  u'created_at': u'Thu Aug 06 05:26:46 +0000 2009',\n",
       "  u'default_profile': False,\n",
       "  u'default_profile_image': False,\n",
       "  u'description': u'R.i.p. Kahler & EJ',\n",
       "  u'entities': {u'description': {u'urls': []},\n",
       "   u'url': {u'urls': [{u'display_url': u'youtube.com/channel/UCLWbB\\u2026',\n",
       "      u'expanded_url': u'https://www.youtube.com/channel/UCLWbB0Ee07Tn9rz0UIvTGPg',\n",
       "      u'indices': [0, 23],\n",
       "      u'url': u'https://t.co/a7oVALnSMq'}]}},\n",
       "  u'favourites_count': 4706,\n",
       "  u'follow_request_sent': False,\n",
       "  u'followers_count': 2267,\n",
       "  u'following': False,\n",
       "  u'friends_count': 485,\n",
       "  u'geo_enabled': True,\n",
       "  u'has_extended_profile': False,\n",
       "  u'id': 63382216,\n",
       "  u'id_str': u'63382216',\n",
       "  u'is_translation_enabled': False,\n",
       "  u'is_translator': False,\n",
       "  u'lang': u'en',\n",
       "  u'listed_count': 6,\n",
       "  u'location': u'hiding',\n",
       "  u'name': u'2ac\\u1e96a\\u1e5f\\u024f',\n",
       "  u'notifications': False,\n",
       "  u'profile_background_color': u'000000',\n",
       "  u'profile_background_image_url': u'http://pbs.twimg.com/profile_background_images/632738215221293056/XhjRYQnb.jpg',\n",
       "  u'profile_background_image_url_https': u'https://pbs.twimg.com/profile_background_images/632738215221293056/XhjRYQnb.jpg',\n",
       "  u'profile_background_tile': True,\n",
       "  u'profile_banner_url': u'https://pbs.twimg.com/profile_banners/63382216/1449540170',\n",
       "  u'profile_image_url': u'http://pbs.twimg.com/profile_images/673992933922627584/Y98AjiO5_normal.jpg',\n",
       "  u'profile_image_url_https': u'https://pbs.twimg.com/profile_images/673992933922627584/Y98AjiO5_normal.jpg',\n",
       "  u'profile_link_color': u'9F81F7',\n",
       "  u'profile_sidebar_border_color': u'000000',\n",
       "  u'profile_sidebar_fill_color': u'000000',\n",
       "  u'profile_text_color': u'000000',\n",
       "  u'profile_use_background_image': False,\n",
       "  u'protected': False,\n",
       "  u'screen_name': u'bicksoy',\n",
       "  u'status': {u'contributors': None,\n",
       "   u'coordinates': None,\n",
       "   u'created_at': u'Wed Dec 16 17:45:38 +0000 2015',\n",
       "   u'entities': {u'hashtags': [],\n",
       "    u'media': [{u'display_url': u'pic.twitter.com/OzjYiTLd6z',\n",
       "      u'expanded_url': u'http://twitter.com/reddit/status/677180985679749120/photo/1',\n",
       "      u'id': 677180985545478144L,\n",
       "      u'id_str': u'677180985545478144',\n",
       "      u'indices': [139, 140],\n",
       "      u'media_url': u'http://pbs.twimg.com/media/CWXUhLwWUAAGEHT.jpg',\n",
       "      u'media_url_https': u'https://pbs.twimg.com/media/CWXUhLwWUAAGEHT.jpg',\n",
       "      u'sizes': {u'large': {u'h': 960, u'resize': u'fit', u'w': 960},\n",
       "       u'medium': {u'h': 600, u'resize': u'fit', u'w': 600},\n",
       "       u'small': {u'h': 340, u'resize': u'fit', u'w': 340},\n",
       "       u'thumb': {u'h': 150, u'resize': u'crop', u'w': 150}},\n",
       "      u'source_status_id': 677180985679749120L,\n",
       "      u'source_status_id_str': u'677180985679749120',\n",
       "      u'source_user_id': 811377,\n",
       "      u'source_user_id_str': u'811377',\n",
       "      u'type': u'photo',\n",
       "      u'url': u'https://t.co/OzjYiTLd6z'}],\n",
       "    u'symbols': [],\n",
       "    u'urls': [{u'display_url': u'buff.ly/1P8kFgd',\n",
       "      u'expanded_url': u'http://buff.ly/1P8kFgd',\n",
       "      u'indices': [105, 128],\n",
       "      u'url': u'https://t.co/M4rjtlqVfG'}],\n",
       "    u'user_mentions': [{u'id': 811377,\n",
       "      u'id_str': u'811377',\n",
       "      u'indices': [3, 10],\n",
       "      u'name': u'reddit',\n",
       "      u'screen_name': u'reddit'},\n",
       "     {u'id': 18278629,\n",
       "      u'id_str': u'18278629',\n",
       "      u'indices': [42, 56],\n",
       "      u'name': u'ErykahBadoula',\n",
       "      u'screen_name': u'fatbellybella'}]},\n",
       "   u'favorite_count': 0,\n",
       "   u'favorited': False,\n",
       "   u'geo': None,\n",
       "   u'id': 677182810428481536L,\n",
       "   u'id_str': u'677182810428481536',\n",
       "   u'in_reply_to_screen_name': None,\n",
       "   u'in_reply_to_status_id': None,\n",
       "   u'in_reply_to_status_id_str': None,\n",
       "   u'in_reply_to_user_id': None,\n",
       "   u'in_reply_to_user_id_str': None,\n",
       "   u'lang': u'en',\n",
       "   u'place': None,\n",
       "   u'possibly_sensitive': False,\n",
       "   u'retweet_count': 8,\n",
       "   u'retweeted': False,\n",
       "   u'retweeted_status': {u'contributors': None,\n",
       "    u'coordinates': None,\n",
       "    u'created_at': u'Wed Dec 16 17:38:23 +0000 2015',\n",
       "    u'entities': {u'hashtags': [],\n",
       "     u'media': [{u'display_url': u'pic.twitter.com/OzjYiTLd6z',\n",
       "       u'expanded_url': u'http://twitter.com/reddit/status/677180985679749120/photo/1',\n",
       "       u'id': 677180985545478144L,\n",
       "       u'id_str': u'677180985545478144',\n",
       "       u'indices': [117, 140],\n",
       "       u'media_url': u'http://pbs.twimg.com/media/CWXUhLwWUAAGEHT.jpg',\n",
       "       u'media_url_https': u'https://pbs.twimg.com/media/CWXUhLwWUAAGEHT.jpg',\n",
       "       u'sizes': {u'large': {u'h': 960, u'resize': u'fit', u'w': 960},\n",
       "        u'medium': {u'h': 600, u'resize': u'fit', u'w': 600},\n",
       "        u'small': {u'h': 340, u'resize': u'fit', u'w': 340},\n",
       "        u'thumb': {u'h': 150, u'resize': u'crop', u'w': 150}},\n",
       "       u'type': u'photo',\n",
       "       u'url': u'https://t.co/OzjYiTLd6z'}],\n",
       "     u'symbols': [],\n",
       "     u'urls': [{u'display_url': u'buff.ly/1P8kFgd',\n",
       "       u'expanded_url': u'http://buff.ly/1P8kFgd',\n",
       "       u'indices': [93, 116],\n",
       "       u'url': u'https://t.co/M4rjtlqVfG'}],\n",
       "     u'user_mentions': [{u'id': 18278629,\n",
       "       u'id_str': u'18278629',\n",
       "       u'indices': [30, 44],\n",
       "       u'name': u'ErykahBadoula',\n",
       "       u'screen_name': u'fatbellybella'}]},\n",
       "    u'favorite_count': 16,\n",
       "    u'favorited': False,\n",
       "    u'geo': None,\n",
       "    u'id': 677180985679749120L,\n",
       "    u'id_str': u'677180985679749120',\n",
       "    u'in_reply_to_screen_name': None,\n",
       "    u'in_reply_to_status_id': None,\n",
       "    u'in_reply_to_status_id_str': None,\n",
       "    u'in_reply_to_user_id': None,\n",
       "    u'in_reply_to_user_id_str': None,\n",
       "    u'lang': u'en',\n",
       "    u'place': None,\n",
       "    u'possibly_sensitive': False,\n",
       "    u'retweet_count': 8,\n",
       "    u'retweeted': False,\n",
       "    u'source': u'<a href=\"http://bufferapp.com\" rel=\"nofollow\">Buffer</a>',\n",
       "    u'text': u'The incomparable Erykah Badu (@fatbellybella) hosts an AMA in r/hiphopheads at 1PM EST here: https://t.co/M4rjtlqVfG https://t.co/OzjYiTLd6z',\n",
       "    u'truncated': False},\n",
       "   u'source': u'<a href=\"http://twitter.com\" rel=\"nofollow\">Twitter Web Client</a>',\n",
       "   u'text': u'RT @reddit: The incomparable Erykah Badu (@fatbellybella) hosts an AMA in r/hiphopheads at 1PM EST here: https://t.co/M4rjtlqVfG https://t.\\u2026',\n",
       "   u'truncated': False},\n",
       "  u'statuses_count': 10659,\n",
       "  u'time_zone': u'Eastern Time (US & Canada)',\n",
       "  u'url': u'https://t.co/a7oVALnSMq',\n",
       "  u'utc_offset': -18000,\n",
       "  u'verified': False}]"
      ]
     },
     "execution_count": 261,
     "metadata": {},
     "output_type": "execute_result"
    }
   ],
   "source": [
    " twitter_api.users.lookup(user_id = 63382216)"
   ]
  },
  {
   "cell_type": "code",
   "execution_count": 128,
   "metadata": {
    "collapsed": false
   },
   "outputs": [],
   "source": [
    "fraction = 0.7\n",
    "matrix = pd.DataFrame.as_matrix(trimmed) * fraction\n",
    "np.diag(matrix) = 1 - fraction\n",
    "ranks = np.linalg.inv(np.transpose(matrix) -  numpy.eye(matrix.shape[0])).dot(np.transpose(matrix).dot(vector))\n",
    "ranks - min(ranks)\n",
    "prank = sl.eigs(np.transpose(matrix),k=1,sigma=1)"
   ]
  },
  {
   "cell_type": "markdown",
   "metadata": {},
   "source": [
    "*------------------------\n",
    "\n",
    "#Bonus Question: Prepare a 90 second Pitch and *present* it in the class (10 points)\n",
    "\n",
    "* Prepare the slides for the Pitch (5 points)\n",
    "* Present it in the class before your 10-minute talk (5 points).\n",
    "\n"
   ]
  },
  {
   "cell_type": "markdown",
   "metadata": {},
   "source": [
    "*-----------------\n",
    "# Done\n",
    "\n",
    "All set! \n",
    "\n",
    "** What do you need to submit?**\n",
    "\n",
    "* **Notebook File** (60 points): Save this IPython notebook.\n",
    "\n",
    "\n",
    "* **PPT Slides** (20 points): please prepare PPT slides (for 10 minutes' talk) to present about the case study . \n",
    "\n",
    "* ** Report** (20 points): please prepare a report (less than 10 pages) to report what you did in this project.\n",
    "\n",
    "     (please include figures or tables in the report, but no source code)\n",
    "\n",
    "Please compress all the files in a zipped file.\n"
   ]
  },
  {
   "cell_type": "code",
   "execution_count": null,
   "metadata": {
    "collapsed": false
   },
   "outputs": [],
   "source": []
  }
 ],
 "metadata": {
  "kernelspec": {
   "display_name": "Python 2",
   "language": "python",
   "name": "python2"
  },
  "language_info": {
   "codemirror_mode": {
    "name": "ipython",
    "version": 2
   },
   "file_extension": ".py",
   "mimetype": "text/x-python",
   "name": "python",
   "nbconvert_exporter": "python",
   "pygments_lexer": "ipython2",
   "version": "2.7.9"
  }
 },
 "nbformat": 4,
 "nbformat_minor": 0
}
